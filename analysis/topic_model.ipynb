{
 "cells": [
  {
   "cell_type": "markdown",
   "metadata": {},
   "source": [
    "# User Flair Analysis\n",
    "\n",
    "(no longer valid due to lack of data)"
   ]
  },
  {
   "cell_type": "markdown",
   "metadata": {},
   "source": [
    "## Method\n",
    "\n",
    "### Flair data\n",
    "1. DONE - Q: Does r/asianamerican have flair templates? A: No, it is only customizable.\n",
    "2. Decipher which ethnicity (Chinese, Japanese, Korean, Vietnamese, other) using flair text\n",
    "- How should we deal with multi-ethnic flairs (Chinese-Thai, Korean/Black, etc)\n",
    "- Looks like most of the comments with flair text are from a small subset of users with flairs who have commented numerous times\n",
    "3. DONE - Flairs can contain up to 10 emojis, so can we use emojis to decipher ethnicity? A: Don't think we need emoji data, doesn't seem to be used very much."
   ]
  },
  {
   "cell_type": "markdown",
   "metadata": {},
   "source": [
    "#### Flair data EDA"
   ]
  },
  {
   "cell_type": "code",
   "execution_count": 1,
   "metadata": {},
   "outputs": [],
   "source": [
    "import pandas as pd\n",
    "import numpy as np"
   ]
  },
  {
   "cell_type": "code",
   "execution_count": 2,
   "metadata": {},
   "outputs": [],
   "source": [
    "comments_df = pd.read_csv('../data/top_100_post_comments_user_flair.txt', header=None, names=['username', 'flair_text', 'body'])"
   ]
  },
  {
   "cell_type": "code",
   "execution_count": 6,
   "metadata": {},
   "outputs": [
    {
     "name": "stdout",
     "output_type": "stream",
     "text": [
      "(3623, 3)\n"
     ]
    },
    {
     "data": {
      "text/html": [
       "<div>\n",
       "<style scoped>\n",
       "    .dataframe tbody tr th:only-of-type {\n",
       "        vertical-align: middle;\n",
       "    }\n",
       "\n",
       "    .dataframe tbody tr th {\n",
       "        vertical-align: top;\n",
       "    }\n",
       "\n",
       "    .dataframe thead th {\n",
       "        text-align: right;\n",
       "    }\n",
       "</style>\n",
       "<table border=\"1\" class=\"dataframe\">\n",
       "  <thead>\n",
       "    <tr style=\"text-align: right;\">\n",
       "      <th></th>\n",
       "      <th>username</th>\n",
       "      <th>flair_text</th>\n",
       "      <th>body</th>\n",
       "    </tr>\n",
       "  </thead>\n",
       "  <tbody>\n",
       "    <tr>\n",
       "      <th>0</th>\n",
       "      <td>Tungsten_</td>\n",
       "      <td>NaN</td>\n",
       "      <td>Thanks to everyone who engaged in insightful a...</td>\n",
       "    </tr>\n",
       "    <tr>\n",
       "      <th>1</th>\n",
       "      <td>ProudBlackMatt</td>\n",
       "      <td>Chinese-American</td>\n",
       "      <td>I would prefer using a process that takes into...</td>\n",
       "    </tr>\n",
       "    <tr>\n",
       "      <th>2</th>\n",
       "      <td>TomatoCanned</td>\n",
       "      <td>NaN</td>\n",
       "      <td>u/Tungsten_, Thanks for creating a section jus...</td>\n",
       "    </tr>\n",
       "    <tr>\n",
       "      <th>3</th>\n",
       "      <td>bad-fengshui</td>\n",
       "      <td>NaN</td>\n",
       "      <td>As with anything related to Asians in politics...</td>\n",
       "    </tr>\n",
       "    <tr>\n",
       "      <th>4</th>\n",
       "      <td>Pancake_muncher</td>\n",
       "      <td>NaN</td>\n",
       "      <td>Yet colleges will allow alumni and doners in e...</td>\n",
       "    </tr>\n",
       "    <tr>\n",
       "      <th>5</th>\n",
       "      <td>suberry</td>\n",
       "      <td>NaN</td>\n",
       "      <td>I just hated Affirmative Action as a distracti...</td>\n",
       "    </tr>\n",
       "    <tr>\n",
       "      <th>6</th>\n",
       "      <td>Puzzled-Painter3301</td>\n",
       "      <td>NaN</td>\n",
       "      <td>My own feeling is that I was never in love wit...</td>\n",
       "    </tr>\n",
       "    <tr>\n",
       "      <th>7</th>\n",
       "      <td>e9967780</td>\n",
       "      <td>NaN</td>\n",
       "      <td>Anti Asian racism whether against East Asians ...</td>\n",
       "    </tr>\n",
       "    <tr>\n",
       "      <th>8</th>\n",
       "      <td>NaN</td>\n",
       "      <td>NaN</td>\n",
       "      <td>Can we overturn legacy and athlete admissions ...</td>\n",
       "    </tr>\n",
       "    <tr>\n",
       "      <th>9</th>\n",
       "      <td>OkartoIceCream</td>\n",
       "      <td>NaN</td>\n",
       "      <td>I want to remind people that in California, on...</td>\n",
       "    </tr>\n",
       "  </tbody>\n",
       "</table>\n",
       "</div>"
      ],
      "text/plain": [
       "              username        flair_text  \\\n",
       "0            Tungsten_               NaN   \n",
       "1       ProudBlackMatt  Chinese-American   \n",
       "2         TomatoCanned               NaN   \n",
       "3         bad-fengshui               NaN   \n",
       "4      Pancake_muncher               NaN   \n",
       "5              suberry               NaN   \n",
       "6  Puzzled-Painter3301               NaN   \n",
       "7             e9967780               NaN   \n",
       "8                  NaN               NaN   \n",
       "9       OkartoIceCream               NaN   \n",
       "\n",
       "                                                body  \n",
       "0  Thanks to everyone who engaged in insightful a...  \n",
       "1  I would prefer using a process that takes into...  \n",
       "2  u/Tungsten_, Thanks for creating a section jus...  \n",
       "3  As with anything related to Asians in politics...  \n",
       "4  Yet colleges will allow alumni and doners in e...  \n",
       "5  I just hated Affirmative Action as a distracti...  \n",
       "6  My own feeling is that I was never in love wit...  \n",
       "7  Anti Asian racism whether against East Asians ...  \n",
       "8  Can we overturn legacy and athlete admissions ...  \n",
       "9  I want to remind people that in California, on...  "
      ]
     },
     "execution_count": 6,
     "metadata": {},
     "output_type": "execute_result"
    }
   ],
   "source": [
    "print(comments_df.shape)\n",
    "comments_df.head(10)"
   ]
  },
  {
   "cell_type": "markdown",
   "metadata": {},
   "source": [
    "1. How many comments have flair text? A: Of 3623 rows, 3085 do NOT have flairs, 538 do have flairs\n",
    "- Seems like we could use more data... but I'm not sure if there is more to collect\n",
    "2. How many comments are by Chinese/Chinese-Americans flaired users?"
   ]
  },
  {
   "cell_type": "code",
   "execution_count": 7,
   "metadata": {},
   "outputs": [
    {
     "name": "stdout",
     "output_type": "stream",
     "text": [
      "username       833\n",
      "flair_text    3085\n",
      "body             0\n",
      "dtype: int64\n"
     ]
    }
   ],
   "source": [
    "print(comments_df.isnull().sum())"
   ]
  },
  {
   "cell_type": "code",
   "execution_count": 3,
   "metadata": {},
   "outputs": [],
   "source": [
    "# use find() to search the array of flair texts -- make the flair texts lowercase first\n",
    "# substrings to find:\n",
    "# Chinese: 'china', 'chines', 'abc'\n",
    "# Korean: 'korea', 'kor', 'abk', 'gyopo'\n",
    "# Japanese: 'jap', 'abj'\n",
    "# Filipino: 'filip', \"philppi\", 'pinoy', 'abf', 'abp'\n",
    "# Indian: 'indian', 'abi'\n",
    "# South Asian: 'desi', 'south asia'\n",
    "\n",
    "# Series of flair_text\n",
    "flair_text = comments_df['flair_text']\n",
    "\n",
    "# get rid of nan\n",
    "flair_text_nona = flair_text.fillna(0)\n",
    "flair_text_clean = flair_text_nona.str.lower()"
   ]
  },
  {
   "cell_type": "markdown",
   "metadata": {},
   "source": [
    "#### Chinese flairs"
   ]
  },
  {
   "cell_type": "code",
   "execution_count": 4,
   "metadata": {},
   "outputs": [],
   "source": [
    "# empty matrix to hold indices of substring\n",
    "chine_matrix = np.empty((flair_text_clean.shape[0],3))\n",
    "\n",
    "# each column is for a different type of identifying substring\n",
    "chine_matrix[:,0] = flair_text_clean.str.find('china')\n",
    "chine_matrix[:,1] = flair_text_clean.str.find('chines')\n",
    "chine_matrix[:,2] = flair_text_clean.str.find('abc')"
   ]
  },
  {
   "cell_type": "code",
   "execution_count": 5,
   "metadata": {},
   "outputs": [
    {
     "name": "stdout",
     "output_type": "stream",
     "text": [
      "[[nan nan nan]\n",
      " [-1.  0. -1.]\n",
      " [nan nan nan]\n",
      " ...\n",
      " [-1. -1. -1.]\n",
      " [nan nan nan]\n",
      " [-1. -1. -1.]]\n"
     ]
    }
   ],
   "source": [
    "print(chine_matrix)\n",
    "# row of nan is comment w/o flair"
   ]
  },
  {
   "cell_type": "code",
   "execution_count": 6,
   "metadata": {},
   "outputs": [
    {
     "name": "stdout",
     "output_type": "stream",
     "text": [
      "[[-1. -1. -1.]\n",
      " [-1.  0. -1.]\n",
      " [-1. -1. -1.]\n",
      " ...\n",
      " [-1. -1. -1.]\n",
      " [-1. -1. -1.]\n",
      " [-1. -1. -1.]]\n"
     ]
    }
   ],
   "source": [
    "# change nan to -1 (no substring found)\n",
    "chine_matrix_clean = np.nan_to_num(chine_matrix, nan=-1)\n",
    "print(chine_matrix_clean)"
   ]
  },
  {
   "cell_type": "code",
   "execution_count": 8,
   "metadata": {},
   "outputs": [
    {
     "name": "stdout",
     "output_type": "stream",
     "text": [
      "[[False False False]\n",
      " [False  True False]\n",
      " [False False False]\n",
      " ...\n",
      " [False False False]\n",
      " [False False False]\n",
      " [False False False]]\n"
     ]
    }
   ],
   "source": [
    "# identify rows with one of the keywords (has value other than -1)\n",
    "print(chine_matrix_clean != -1)\n",
    "chine_rows = (chine_matrix_clean != -1).any(axis=1)"
   ]
  },
  {
   "cell_type": "code",
   "execution_count": 9,
   "metadata": {},
   "outputs": [
    {
     "name": "stdout",
     "output_type": "stream",
     "text": [
      "(3623,)\n",
      "97\n"
     ]
    }
   ],
   "source": [
    "print(chine_rows.shape)\n",
    "print(chine_rows.sum()) #97 comments of 3623 have Chinese flair\n"
   ]
  },
  {
   "cell_type": "code",
   "execution_count": 11,
   "metadata": {},
   "outputs": [
    {
     "name": "stdout",
     "output_type": "stream",
     "text": [
      "Num of unique users with Chinese flair: 16\n"
     ]
    }
   ],
   "source": [
    "chi_comments_df = comments_df[chine_rows]\n",
    "num_unique_users = len(pd.unique(chi_comments_df['username']))\n",
    "\n",
    "print(f'Num of unique users with Chinese flair: {num_unique_users}')"
   ]
  },
  {
   "cell_type": "markdown",
   "metadata": {},
   "source": [
    "Chinese flair summary:\n",
    "- 97 comments with Chinese flair\n",
    "- 16 unique users with Chinese flair"
   ]
  },
  {
   "cell_type": "markdown",
   "metadata": {},
   "source": [
    "#### Korean flairs"
   ]
  },
  {
   "cell_type": "markdown",
   "metadata": {},
   "source": [
    "- Korean substrings: 'kor', 'abk', 'gyopo', 'hanguk'\n"
   ]
  },
  {
   "cell_type": "code",
   "execution_count": 12,
   "metadata": {},
   "outputs": [],
   "source": [
    "# empty matrix to hold korean substring indices\n",
    "kor_matrix = np.empty((flair_text_clean.shape[0],4))\n",
    "\n",
    "kor_matrix[:,0] = flair_text_clean.str.find('kor')\n",
    "kor_matrix[:,1] = flair_text_clean.str.find('abk')\n",
    "kor_matrix[:,2] = flair_text_clean.str.find('gyopo')\n",
    "kor_matrix[:,3] = flair_text_clean.str.find('hanguk')"
   ]
  },
  {
   "cell_type": "code",
   "execution_count": 13,
   "metadata": {},
   "outputs": [
    {
     "name": "stdout",
     "output_type": "stream",
     "text": [
      "[[-1. -1. -1. -1.]\n",
      " [-1. -1. -1. -1.]\n",
      " [-1. -1. -1. -1.]\n",
      " ...\n",
      " [-1. -1. -1. -1.]\n",
      " [-1. -1. -1. -1.]\n",
      " [-1. -1. -1. -1.]]\n"
     ]
    }
   ],
   "source": [
    "# change nan to -1 (no flair to no substring found)\n",
    "kor_matrix_clean = np.nan_to_num(kor_matrix, nan=-1)\n",
    "print(kor_matrix_clean)"
   ]
  },
  {
   "cell_type": "code",
   "execution_count": 14,
   "metadata": {},
   "outputs": [
    {
     "name": "stdout",
     "output_type": "stream",
     "text": [
      "[[False False False False]\n",
      " [False False False False]\n",
      " [False False False False]\n",
      " ...\n",
      " [False False False False]\n",
      " [False False False False]\n",
      " [False False False False]]\n",
      "[False False False ... False False False]\n"
     ]
    }
   ],
   "source": [
    "# identify rows with one of the keywords (has value other than -1)\n",
    "print(kor_matrix_clean != -1)\n",
    "kor_rows = (kor_matrix_clean != -1).any(axis=1)\n",
    "print(kor_rows)"
   ]
  },
  {
   "cell_type": "code",
   "execution_count": 15,
   "metadata": {},
   "outputs": [
    {
     "name": "stdout",
     "output_type": "stream",
     "text": [
      "(3623,)\n",
      "12\n"
     ]
    }
   ],
   "source": [
    "print(kor_rows.shape)\n",
    "print(kor_rows.sum()) # 12 comments of 3623 have Korean flair\n",
    "\n",
    "# get indexes of Korean flair comments\n",
    "#kor_idx = np.where(kor_rows==1)[0]\n",
    "kor_comments_df = comments_df[kor_rows]"
   ]
  },
  {
   "cell_type": "code",
   "execution_count": 17,
   "metadata": {},
   "outputs": [
    {
     "name": "stdout",
     "output_type": "stream",
     "text": [
      "Num of unique users with Korean flair: 3\n"
     ]
    }
   ],
   "source": [
    "kor_comments_df = comments_df[kor_rows]\n",
    "num_unique_kor_users = len(pd.unique(kor_comments_df['username']))\n",
    "print(f'Num of unique users with Korean flair: {num_unique_kor_users}')"
   ]
  },
  {
   "cell_type": "markdown",
   "metadata": {},
   "source": [
    "Korean flairs summary:\n",
    "- 12 comments with Korean flair\n",
    "- 3 unique users with Korean flair"
   ]
  },
  {
   "cell_type": "markdown",
   "metadata": {},
   "source": [
    "# Topic Modeling"
   ]
  },
  {
   "cell_type": "code",
   "execution_count": 3,
   "metadata": {},
   "outputs": [],
   "source": [
    "import pandas as pd\n",
    "import numpy as np\n",
    "\n",
    "# cluster detection\n",
    "import sklearn\n",
    "import sklearn.feature_extraction.text\n",
    "import sklearn.pipeline\n",
    "import sklearn.preprocessing\n",
    "import sklearn.datasets\n",
    "import sklearn.cluster\n",
    "import sklearn.decomposition\n",
    "import sklearn.metrics\n",
    "\n",
    "import nltk # for co-locations\n",
    "import scipy #For hierarchical clustering and some visuals\n",
    "#import scipy.cluster.hierarchy\n",
    "import gensim#For topic modeling\n",
    "import requests #For downloading our datasets\n",
    "import matplotlib.pyplot as plt #For graphics\n",
    "import matplotlib.cm #Still for graphics\n",
    "import seaborn as sns #Makes the graphics look nicer"
   ]
  },
  {
   "cell_type": "markdown",
   "metadata": {},
   "source": [
    "### 1. Get data"
   ]
  },
  {
   "cell_type": "code",
   "execution_count": 4,
   "metadata": {},
   "outputs": [],
   "source": [
    "comments_df = pd.read_csv('../data/comments_df.csv')"
   ]
  },
  {
   "cell_type": "markdown",
   "metadata": {},
   "source": [
    "Note: normalized_tokens column is string type, not list"
   ]
  },
  {
   "cell_type": "code",
   "execution_count": 5,
   "metadata": {},
   "outputs": [
    {
     "name": "stdout",
     "output_type": "stream",
     "text": [
      "<class 'str'>\n"
     ]
    }
   ],
   "source": [
    "normalized_tokens = comments_df['normalized_tokens'][0]\n",
    "print(type(normalized_tokens))"
   ]
  },
  {
   "cell_type": "code",
   "execution_count": 6,
   "metadata": {},
   "outputs": [],
   "source": [
    "from ast import literal_eval\n",
    "\n",
    "def converter(x):\n",
    "    return literal_eval(x)\n",
    "\n",
    "comments_df = pd.read_csv('../data/comments_df.csv', converters={'tokens_new':converter, 'normalized_tokens':converter})"
   ]
  },
  {
   "cell_type": "code",
   "execution_count": 7,
   "metadata": {},
   "outputs": [
    {
     "name": "stdout",
     "output_type": "stream",
     "text": [
      "<class 'list'>\n",
      "<class 'list'>\n"
     ]
    }
   ],
   "source": [
    "normalized_tokens = comments_df['normalized_tokens'][0]\n",
    "tokens_new = comments_df['tokens_new'][0]\n",
    "print(type(normalized_tokens))\n",
    "print(type(tokens_new))"
   ]
  },
  {
   "cell_type": "markdown",
   "metadata": {},
   "source": [
    "Token columns are now lists."
   ]
  },
  {
   "cell_type": "code",
   "execution_count": 38,
   "metadata": {},
   "outputs": [
    {
     "data": {
      "text/html": [
       "<div>\n",
       "<style scoped>\n",
       "    .dataframe tbody tr th:only-of-type {\n",
       "        vertical-align: middle;\n",
       "    }\n",
       "\n",
       "    .dataframe tbody tr th {\n",
       "        vertical-align: top;\n",
       "    }\n",
       "\n",
       "    .dataframe thead th {\n",
       "        text-align: right;\n",
       "    }\n",
       "</style>\n",
       "<table border=\"1\" class=\"dataframe\">\n",
       "  <thead>\n",
       "    <tr style=\"text-align: right;\">\n",
       "      <th></th>\n",
       "      <th>Unnamed: 0</th>\n",
       "      <th>username</th>\n",
       "      <th>flair_text</th>\n",
       "      <th>body</th>\n",
       "      <th>tokens_new</th>\n",
       "      <th>normalized_tokens</th>\n",
       "      <th>normalized_tokens_count</th>\n",
       "      <th>word_count</th>\n",
       "    </tr>\n",
       "  </thead>\n",
       "  <tbody>\n",
       "    <tr>\n",
       "      <th>0</th>\n",
       "      <td>0</td>\n",
       "      <td>Tungsten_</td>\n",
       "      <td>NaN</td>\n",
       "      <td>Thanks to everyone who engaged in insightful a...</td>\n",
       "      <td>[Thanks, to, everyone, who, engaged, in, insig...</td>\n",
       "      <td>[thank, engage, insightful, respectful, discou...</td>\n",
       "      <td>9</td>\n",
       "      <td>20</td>\n",
       "    </tr>\n",
       "    <tr>\n",
       "      <th>1</th>\n",
       "      <td>1</td>\n",
       "      <td>ProudBlackMatt</td>\n",
       "      <td>Chinese-American</td>\n",
       "      <td>I would prefer using a process that takes into...</td>\n",
       "      <td>[I, would, prefer, using, a, process, that, ta...</td>\n",
       "      <td>[prefer, process, take, account, poverty, inst...</td>\n",
       "      <td>52</td>\n",
       "      <td>103</td>\n",
       "    </tr>\n",
       "    <tr>\n",
       "      <th>2</th>\n",
       "      <td>2</td>\n",
       "      <td>TomatoCanned</td>\n",
       "      <td>NaN</td>\n",
       "      <td>u/Tungsten_, Thanks for creating a section jus...</td>\n",
       "      <td>[u/Tungsten_,, Thanks, for, creating, a, secti...</td>\n",
       "      <td>[u/tungsten_,, thank, create, section, discuss...</td>\n",
       "      <td>126</td>\n",
       "      <td>269</td>\n",
       "    </tr>\n",
       "    <tr>\n",
       "      <th>3</th>\n",
       "      <td>3</td>\n",
       "      <td>bad-fengshui</td>\n",
       "      <td>NaN</td>\n",
       "      <td>As with anything related to Asians in politics...</td>\n",
       "      <td>[As, with, anything, related, to, Asians, in, ...</td>\n",
       "      <td>[relate, asians, politic, m, see, lot, non, as...</td>\n",
       "      <td>25</td>\n",
       "      <td>59</td>\n",
       "    </tr>\n",
       "    <tr>\n",
       "      <th>4</th>\n",
       "      <td>4</td>\n",
       "      <td>Pancake_muncher</td>\n",
       "      <td>NaN</td>\n",
       "      <td>Yet colleges will allow alumni and doners in e...</td>\n",
       "      <td>[Yet, colleges, will, allow, alumni, and, done...</td>\n",
       "      <td>[college, allow, alumnus, doner, easily, consi...</td>\n",
       "      <td>19</td>\n",
       "      <td>40</td>\n",
       "    </tr>\n",
       "    <tr>\n",
       "      <th>5</th>\n",
       "      <td>5</td>\n",
       "      <td>suberry</td>\n",
       "      <td>NaN</td>\n",
       "      <td>I just hated Affirmative Action as a distracti...</td>\n",
       "      <td>[I, just, hated, Affirmative, Action, as, a, d...</td>\n",
       "      <td>[hate, affirmative, action, distraction, banda...</td>\n",
       "      <td>78</td>\n",
       "      <td>171</td>\n",
       "    </tr>\n",
       "    <tr>\n",
       "      <th>6</th>\n",
       "      <td>6</td>\n",
       "      <td>Puzzled-Painter3301</td>\n",
       "      <td>NaN</td>\n",
       "      <td>My own feeling is that I was never in love wit...</td>\n",
       "      <td>[My, own, feeling, is, that, I, was, never, in...</td>\n",
       "      <td>[feeling, love, affirmative, action, possible,...</td>\n",
       "      <td>102</td>\n",
       "      <td>231</td>\n",
       "    </tr>\n",
       "    <tr>\n",
       "      <th>7</th>\n",
       "      <td>7</td>\n",
       "      <td>e9967780</td>\n",
       "      <td>NaN</td>\n",
       "      <td>Anti Asian racism whether against East Asians ...</td>\n",
       "      <td>[Anti, Asian, racism, whether, against, East, ...</td>\n",
       "      <td>[anti, asian, racism, east, asians, south, asi...</td>\n",
       "      <td>21</td>\n",
       "      <td>46</td>\n",
       "    </tr>\n",
       "    <tr>\n",
       "      <th>8</th>\n",
       "      <td>8</td>\n",
       "      <td>NaN</td>\n",
       "      <td>NaN</td>\n",
       "      <td>Can we overturn legacy and athlete admissions ...</td>\n",
       "      <td>[Can, we, overturn, legacy, and, athlete, admi...</td>\n",
       "      <td>[overturn, legacy, athlete, admission, point, ...</td>\n",
       "      <td>15</td>\n",
       "      <td>29</td>\n",
       "    </tr>\n",
       "    <tr>\n",
       "      <th>9</th>\n",
       "      <td>9</td>\n",
       "      <td>OkartoIceCream</td>\n",
       "      <td>NaN</td>\n",
       "      <td>I want to remind people that in California, on...</td>\n",
       "      <td>[I, want, to, remind, people, that, in, Califo...</td>\n",
       "      <td>[want, remind, people, california, progressive...</td>\n",
       "      <td>104</td>\n",
       "      <td>200</td>\n",
       "    </tr>\n",
       "  </tbody>\n",
       "</table>\n",
       "</div>"
      ],
      "text/plain": [
       "   Unnamed: 0             username        flair_text  \\\n",
       "0           0            Tungsten_               NaN   \n",
       "1           1       ProudBlackMatt  Chinese-American   \n",
       "2           2         TomatoCanned               NaN   \n",
       "3           3         bad-fengshui               NaN   \n",
       "4           4      Pancake_muncher               NaN   \n",
       "5           5              suberry               NaN   \n",
       "6           6  Puzzled-Painter3301               NaN   \n",
       "7           7             e9967780               NaN   \n",
       "8           8                  NaN               NaN   \n",
       "9           9       OkartoIceCream               NaN   \n",
       "\n",
       "                                                body  \\\n",
       "0  Thanks to everyone who engaged in insightful a...   \n",
       "1  I would prefer using a process that takes into...   \n",
       "2  u/Tungsten_, Thanks for creating a section jus...   \n",
       "3  As with anything related to Asians in politics...   \n",
       "4  Yet colleges will allow alumni and doners in e...   \n",
       "5  I just hated Affirmative Action as a distracti...   \n",
       "6  My own feeling is that I was never in love wit...   \n",
       "7  Anti Asian racism whether against East Asians ...   \n",
       "8  Can we overturn legacy and athlete admissions ...   \n",
       "9  I want to remind people that in California, on...   \n",
       "\n",
       "                                          tokens_new  \\\n",
       "0  [Thanks, to, everyone, who, engaged, in, insig...   \n",
       "1  [I, would, prefer, using, a, process, that, ta...   \n",
       "2  [u/Tungsten_,, Thanks, for, creating, a, secti...   \n",
       "3  [As, with, anything, related, to, Asians, in, ...   \n",
       "4  [Yet, colleges, will, allow, alumni, and, done...   \n",
       "5  [I, just, hated, Affirmative, Action, as, a, d...   \n",
       "6  [My, own, feeling, is, that, I, was, never, in...   \n",
       "7  [Anti, Asian, racism, whether, against, East, ...   \n",
       "8  [Can, we, overturn, legacy, and, athlete, admi...   \n",
       "9  [I, want, to, remind, people, that, in, Califo...   \n",
       "\n",
       "                                   normalized_tokens  normalized_tokens_count  \\\n",
       "0  [thank, engage, insightful, respectful, discou...                        9   \n",
       "1  [prefer, process, take, account, poverty, inst...                       52   \n",
       "2  [u/tungsten_,, thank, create, section, discuss...                      126   \n",
       "3  [relate, asians, politic, m, see, lot, non, as...                       25   \n",
       "4  [college, allow, alumnus, doner, easily, consi...                       19   \n",
       "5  [hate, affirmative, action, distraction, banda...                       78   \n",
       "6  [feeling, love, affirmative, action, possible,...                      102   \n",
       "7  [anti, asian, racism, east, asians, south, asi...                       21   \n",
       "8  [overturn, legacy, athlete, admission, point, ...                       15   \n",
       "9  [want, remind, people, california, progressive...                      104   \n",
       "\n",
       "   word_count  \n",
       "0          20  \n",
       "1         103  \n",
       "2         269  \n",
       "3          59  \n",
       "4          40  \n",
       "5         171  \n",
       "6         231  \n",
       "7          46  \n",
       "8          29  \n",
       "9         200  "
      ]
     },
     "execution_count": 38,
     "metadata": {},
     "output_type": "execute_result"
    }
   ],
   "source": [
    "comments_df.head(10)"
   ]
  },
  {
   "cell_type": "markdown",
   "metadata": {},
   "source": [
    "Text has already been tokenized, lemmatized, normalized."
   ]
  },
  {
   "cell_type": "markdown",
   "metadata": {},
   "source": [
    "### 1.1 Collocations"
   ]
  },
  {
   "cell_type": "code",
   "execution_count": 51,
   "metadata": {},
   "outputs": [
    {
     "data": {
      "text/html": [
       "<div>\n",
       "<style scoped>\n",
       "    .dataframe tbody tr th:only-of-type {\n",
       "        vertical-align: middle;\n",
       "    }\n",
       "\n",
       "    .dataframe tbody tr th {\n",
       "        vertical-align: top;\n",
       "    }\n",
       "\n",
       "    .dataframe thead th {\n",
       "        text-align: right;\n",
       "    }\n",
       "</style>\n",
       "<table border=\"1\" class=\"dataframe\">\n",
       "  <thead>\n",
       "    <tr style=\"text-align: right;\">\n",
       "      <th></th>\n",
       "      <th>Unnamed: 0</th>\n",
       "      <th>username</th>\n",
       "      <th>flair_text</th>\n",
       "      <th>body</th>\n",
       "      <th>tokens_new</th>\n",
       "      <th>normalized_tokens</th>\n",
       "      <th>normalized_tokens_count</th>\n",
       "      <th>word_count</th>\n",
       "      <th>normalized_tokens_str</th>\n",
       "    </tr>\n",
       "  </thead>\n",
       "  <tbody>\n",
       "    <tr>\n",
       "      <th>3618</th>\n",
       "      <td>3618</td>\n",
       "      <td>aduogetsatastegouda</td>\n",
       "      <td>NaN</td>\n",
       "      <td>But that's irrelevant. The right not to be dis...</td>\n",
       "      <td>[But, that, 's, irrelevant, The, right, not, t...</td>\n",
       "      <td>[irrelevant, right, discriminate, base, race, ...</td>\n",
       "      <td>38</td>\n",
       "      <td>84</td>\n",
       "      <td>irrelevant right discriminate base race subjec...</td>\n",
       "    </tr>\n",
       "    <tr>\n",
       "      <th>3619</th>\n",
       "      <td>3619</td>\n",
       "      <td>rentonwong</td>\n",
       "      <td>Support Asian-American Media!</td>\n",
       "      <td>Despite my dislike of AA, at least 2/3rds of A...</td>\n",
       "      <td>[Despite, my, dislike, of, AA, at, least, 2/3r...</td>\n",
       "      <td>[despite, dislike, aa, 2/3rds, asian, american...</td>\n",
       "      <td>19</td>\n",
       "      <td>32</td>\n",
       "      <td>despite dislike aa 2/3rds asian americans base...</td>\n",
       "    </tr>\n",
       "    <tr>\n",
       "      <th>3620</th>\n",
       "      <td>3620</td>\n",
       "      <td>rentonwong</td>\n",
       "      <td>Support Asian-American Media!</td>\n",
       "      <td>&gt; If 1/3 of a racial minority's members say th...</td>\n",
       "      <td>[&gt;, If, 1/3, of, a, racial, minority, 's, memb...</td>\n",
       "      <td>[&gt;, racial, minority, member, want, discrimina...</td>\n",
       "      <td>27</td>\n",
       "      <td>61</td>\n",
       "      <td>&gt; racial minority member want discriminate ove...</td>\n",
       "    </tr>\n",
       "    <tr>\n",
       "      <th>3621</th>\n",
       "      <td>3621</td>\n",
       "      <td>NaN</td>\n",
       "      <td>NaN</td>\n",
       "      <td>I'm just annoyed at how there's so much handwa...</td>\n",
       "      <td>[I, 'm, just, annoyed, at, how, there, 's, so,...</td>\n",
       "      <td>[m, annoyed, handwaving, consequence, pro, aa,...</td>\n",
       "      <td>48</td>\n",
       "      <td>117</td>\n",
       "      <td>m annoyed handwaving consequence pro aa anti a...</td>\n",
       "    </tr>\n",
       "    <tr>\n",
       "      <th>3622</th>\n",
       "      <td>3622</td>\n",
       "      <td>rentonwong</td>\n",
       "      <td>Support Asian-American Media!</td>\n",
       "      <td>The current system as it stands preserves whil...</td>\n",
       "      <td>[The, current, system, as, it, stands, preserv...</td>\n",
       "      <td>[current, system, stand, preserve, privilege, ...</td>\n",
       "      <td>49</td>\n",
       "      <td>102</td>\n",
       "      <td>current system stand preserve privilege play m...</td>\n",
       "    </tr>\n",
       "  </tbody>\n",
       "</table>\n",
       "</div>"
      ],
      "text/plain": [
       "      Unnamed: 0             username                     flair_text  \\\n",
       "3618        3618  aduogetsatastegouda                            NaN   \n",
       "3619        3619           rentonwong  Support Asian-American Media!   \n",
       "3620        3620           rentonwong  Support Asian-American Media!   \n",
       "3621        3621                  NaN                            NaN   \n",
       "3622        3622           rentonwong  Support Asian-American Media!   \n",
       "\n",
       "                                                   body  \\\n",
       "3618  But that's irrelevant. The right not to be dis...   \n",
       "3619  Despite my dislike of AA, at least 2/3rds of A...   \n",
       "3620  > If 1/3 of a racial minority's members say th...   \n",
       "3621  I'm just annoyed at how there's so much handwa...   \n",
       "3622  The current system as it stands preserves whil...   \n",
       "\n",
       "                                             tokens_new  \\\n",
       "3618  [But, that, 's, irrelevant, The, right, not, t...   \n",
       "3619  [Despite, my, dislike, of, AA, at, least, 2/3r...   \n",
       "3620  [>, If, 1/3, of, a, racial, minority, 's, memb...   \n",
       "3621  [I, 'm, just, annoyed, at, how, there, 's, so,...   \n",
       "3622  [The, current, system, as, it, stands, preserv...   \n",
       "\n",
       "                                      normalized_tokens  \\\n",
       "3618  [irrelevant, right, discriminate, base, race, ...   \n",
       "3619  [despite, dislike, aa, 2/3rds, asian, american...   \n",
       "3620  [>, racial, minority, member, want, discrimina...   \n",
       "3621  [m, annoyed, handwaving, consequence, pro, aa,...   \n",
       "3622  [current, system, stand, preserve, privilege, ...   \n",
       "\n",
       "      normalized_tokens_count  word_count  \\\n",
       "3618                       38          84   \n",
       "3619                       19          32   \n",
       "3620                       27          61   \n",
       "3621                       48         117   \n",
       "3622                       49         102   \n",
       "\n",
       "                                  normalized_tokens_str  \n",
       "3618  irrelevant right discriminate base race subjec...  \n",
       "3619  despite dislike aa 2/3rds asian americans base...  \n",
       "3620  > racial minority member want discriminate ove...  \n",
       "3621  m annoyed handwaving consequence pro aa anti a...  \n",
       "3622  current system stand preserve privilege play m...  "
      ]
     },
     "execution_count": 51,
     "metadata": {},
     "output_type": "execute_result"
    }
   ],
   "source": [
    "comments_df.tail(5)"
   ]
  },
  {
   "cell_type": "code",
   "execution_count": 6,
   "metadata": {},
   "outputs": [
    {
     "name": "stdout",
     "output_type": "stream",
     "text": [
      "There are 130955 bigrams in the finder.\n"
     ]
    }
   ],
   "source": [
    "bigrams = nltk.collocations.BigramCollocationFinder.from_words(comments_df['normalized_tokens'].sum())\n",
    "print(f'There are {bigrams.N} bigrams in the finder.')"
   ]
  },
  {
   "cell_type": "markdown",
   "metadata": {},
   "source": [
    "Note: Why are there so many bigrams? 130955 of them?"
   ]
  },
  {
   "cell_type": "code",
   "execution_count": 61,
   "metadata": {},
   "outputs": [
    {
     "data": {
      "text/plain": [
       "[('affirmative', 'action'),\n",
       " ('asian', 'americans'),\n",
       " ('asian', 'american'),\n",
       " ('white', 'people'),\n",
       " ('high', 'school'),\n",
       " ('college', 'admission'),\n",
       " ('race', 'base'),\n",
       " ('asian', 'student'),\n",
       " ('legacy', 'admission'),\n",
       " ('test', 'score'),\n",
       " ('ivy', 'league'),\n",
       " ('white', 'student'),\n",
       " ('high', 'education'),\n",
       " ('black', 'hispanic'),\n",
       " ('support', 'affirmative'),\n",
       " ('black', 'people'),\n",
       " ('student', 'body'),\n",
       " ('asian', 'applicant'),\n",
       " ('model', 'minority'),\n",
       " ('black', 'latino'),\n",
       " ('chinese', 'americans'),\n",
       " ('middle', 'class'),\n",
       " ('supreme', 'court'),\n",
       " ('black', 'student'),\n",
       " ('asian', 'kid'),\n",
       " ('sit', 'score'),\n",
       " ('feel', 'like'),\n",
       " ('african', 'american'),\n",
       " ('admission', 'officer'),\n",
       " ('east', 'asians'),\n",
       " ('m', 'sure'),\n",
       " ('admission', 'process'),\n",
       " ('asian', 'people'),\n",
       " ('minority', 'group'),\n",
       " ('holistic', 'admission'),\n",
       " ('white', 'supremacy'),\n",
       " ('african', 'americans'),\n",
       " ('base', 'affirmative'),\n",
       " ('personality', 'score'),\n",
       " ('american', 'student'),\n",
       " ('elite', 'school'),\n",
       " ('low', 'income'),\n",
       " ('united', 'states'),\n",
       " ('white', 'applicant'),\n",
       " ('american', 'applicant'),\n",
       " ('anti', 'asian'),\n",
       " ('racial', 'discrimination'),\n",
       " ('admission', 'office'),\n",
       " ('base', 'aa'),\n",
       " ('base', 'race')]"
      ]
     },
     "execution_count": 61,
     "metadata": {},
     "output_type": "execute_result"
    }
   ],
   "source": [
    "def bigramScoring(count, wordsTuple, total):\n",
    "    return count\n",
    "bigrams.nbest(bigramScoring, 50)"
   ]
  },
  {
   "cell_type": "code",
   "execution_count": null,
   "metadata": {},
   "outputs": [],
   "source": [
    "bigram_measures = nltk.collocations.BigramAssocMeasures()\n",
    "whBigrams.score_ngrams(bigram_measures.likelihood_ratio)[:40]\n",
    "# other options include student_t, chi_sq, likelihood_ratio, pmi"
   ]
  },
  {
   "cell_type": "markdown",
   "metadata": {},
   "source": [
    "***Come back to collocations and n-grams after finding out what role it would play:***\n",
    "- Would some of the statistically significant n-grams be terms in the td-idf matrix?"
   ]
  },
  {
   "cell_type": "markdown",
   "metadata": {},
   "source": [
    "### 2. CountVectorizer"
   ]
  },
  {
   "cell_type": "markdown",
   "metadata": {},
   "source": [
    "First, before vectorizing, convert normalized_tokens column from list to string type"
   ]
  },
  {
   "cell_type": "code",
   "execution_count": 8,
   "metadata": {},
   "outputs": [],
   "source": [
    "comments_df['normalized_tokens_str'] = comments_df['normalized_tokens'].apply(lambda x: ' '.join(item for item in x))"
   ]
  },
  {
   "cell_type": "code",
   "execution_count": 9,
   "metadata": {},
   "outputs": [
    {
     "name": "stdout",
     "output_type": "stream",
     "text": [
      "thank engage insightful respectful discourse news thread lock comment\n"
     ]
    },
    {
     "data": {
      "text/html": [
       "<div>\n",
       "<style scoped>\n",
       "    .dataframe tbody tr th:only-of-type {\n",
       "        vertical-align: middle;\n",
       "    }\n",
       "\n",
       "    .dataframe tbody tr th {\n",
       "        vertical-align: top;\n",
       "    }\n",
       "\n",
       "    .dataframe thead th {\n",
       "        text-align: right;\n",
       "    }\n",
       "</style>\n",
       "<table border=\"1\" class=\"dataframe\">\n",
       "  <thead>\n",
       "    <tr style=\"text-align: right;\">\n",
       "      <th></th>\n",
       "      <th>Unnamed: 0</th>\n",
       "      <th>username</th>\n",
       "      <th>flair_text</th>\n",
       "      <th>body</th>\n",
       "      <th>tokens_new</th>\n",
       "      <th>normalized_tokens</th>\n",
       "      <th>normalized_tokens_count</th>\n",
       "      <th>word_count</th>\n",
       "      <th>normalized_tokens_str</th>\n",
       "    </tr>\n",
       "  </thead>\n",
       "  <tbody>\n",
       "    <tr>\n",
       "      <th>0</th>\n",
       "      <td>0</td>\n",
       "      <td>Tungsten_</td>\n",
       "      <td>NaN</td>\n",
       "      <td>Thanks to everyone who engaged in insightful a...</td>\n",
       "      <td>[Thanks, to, everyone, who, engaged, in, insig...</td>\n",
       "      <td>[thank, engage, insightful, respectful, discou...</td>\n",
       "      <td>9</td>\n",
       "      <td>20</td>\n",
       "      <td>thank engage insightful respectful discourse n...</td>\n",
       "    </tr>\n",
       "    <tr>\n",
       "      <th>1</th>\n",
       "      <td>1</td>\n",
       "      <td>ProudBlackMatt</td>\n",
       "      <td>Chinese-American</td>\n",
       "      <td>I would prefer using a process that takes into...</td>\n",
       "      <td>[I, would, prefer, using, a, process, that, ta...</td>\n",
       "      <td>[prefer, process, take, account, poverty, inst...</td>\n",
       "      <td>52</td>\n",
       "      <td>103</td>\n",
       "      <td>prefer process take account poverty instead ge...</td>\n",
       "    </tr>\n",
       "    <tr>\n",
       "      <th>2</th>\n",
       "      <td>2</td>\n",
       "      <td>TomatoCanned</td>\n",
       "      <td>NaN</td>\n",
       "      <td>u/Tungsten_, Thanks for creating a section jus...</td>\n",
       "      <td>[u/Tungsten_,, Thanks, for, creating, a, secti...</td>\n",
       "      <td>[u/tungsten_,, thank, create, section, discuss...</td>\n",
       "      <td>126</td>\n",
       "      <td>269</td>\n",
       "      <td>u/tungsten_, thank create section discuss read...</td>\n",
       "    </tr>\n",
       "    <tr>\n",
       "      <th>3</th>\n",
       "      <td>3</td>\n",
       "      <td>bad-fengshui</td>\n",
       "      <td>NaN</td>\n",
       "      <td>As with anything related to Asians in politics...</td>\n",
       "      <td>[As, with, anything, related, to, Asians, in, ...</td>\n",
       "      <td>[relate, asians, politic, m, see, lot, non, as...</td>\n",
       "      <td>25</td>\n",
       "      <td>59</td>\n",
       "      <td>relate asians politic m see lot non asian peop...</td>\n",
       "    </tr>\n",
       "    <tr>\n",
       "      <th>4</th>\n",
       "      <td>4</td>\n",
       "      <td>Pancake_muncher</td>\n",
       "      <td>NaN</td>\n",
       "      <td>Yet colleges will allow alumni and doners in e...</td>\n",
       "      <td>[Yet, colleges, will, allow, alumni, and, done...</td>\n",
       "      <td>[college, allow, alumnus, doner, easily, consi...</td>\n",
       "      <td>19</td>\n",
       "      <td>40</td>\n",
       "      <td>college allow alumnus doner easily consider me...</td>\n",
       "    </tr>\n",
       "  </tbody>\n",
       "</table>\n",
       "</div>"
      ],
      "text/plain": [
       "   Unnamed: 0         username        flair_text  \\\n",
       "0           0        Tungsten_               NaN   \n",
       "1           1   ProudBlackMatt  Chinese-American   \n",
       "2           2     TomatoCanned               NaN   \n",
       "3           3     bad-fengshui               NaN   \n",
       "4           4  Pancake_muncher               NaN   \n",
       "\n",
       "                                                body  \\\n",
       "0  Thanks to everyone who engaged in insightful a...   \n",
       "1  I would prefer using a process that takes into...   \n",
       "2  u/Tungsten_, Thanks for creating a section jus...   \n",
       "3  As with anything related to Asians in politics...   \n",
       "4  Yet colleges will allow alumni and doners in e...   \n",
       "\n",
       "                                          tokens_new  \\\n",
       "0  [Thanks, to, everyone, who, engaged, in, insig...   \n",
       "1  [I, would, prefer, using, a, process, that, ta...   \n",
       "2  [u/Tungsten_,, Thanks, for, creating, a, secti...   \n",
       "3  [As, with, anything, related, to, Asians, in, ...   \n",
       "4  [Yet, colleges, will, allow, alumni, and, done...   \n",
       "\n",
       "                                   normalized_tokens  normalized_tokens_count  \\\n",
       "0  [thank, engage, insightful, respectful, discou...                        9   \n",
       "1  [prefer, process, take, account, poverty, inst...                       52   \n",
       "2  [u/tungsten_,, thank, create, section, discuss...                      126   \n",
       "3  [relate, asians, politic, m, see, lot, non, as...                       25   \n",
       "4  [college, allow, alumnus, doner, easily, consi...                       19   \n",
       "\n",
       "   word_count                              normalized_tokens_str  \n",
       "0          20  thank engage insightful respectful discourse n...  \n",
       "1         103  prefer process take account poverty instead ge...  \n",
       "2         269  u/tungsten_, thank create section discuss read...  \n",
       "3          59  relate asians politic m see lot non asian peop...  \n",
       "4          40  college allow alumnus doner easily consider me...  "
      ]
     },
     "execution_count": 9,
     "metadata": {},
     "output_type": "execute_result"
    }
   ],
   "source": [
    "print(comments_df['normalized_tokens_str'][0])\n",
    "comments_df.head(5)"
   ]
  },
  {
   "cell_type": "code",
   "execution_count": 10,
   "metadata": {},
   "outputs": [],
   "source": [
    "count_vectorizer = sklearn.feature_extraction.text.CountVectorizer()\n",
    "count_vector = count_vectorizer.fit_transform(comments_df['normalized_tokens_str'])"
   ]
  },
  {
   "cell_type": "code",
   "execution_count": 11,
   "metadata": {},
   "outputs": [
    {
     "name": "stdout",
     "output_type": "stream",
     "text": [
      "(3623, 10423)\n"
     ]
    }
   ],
   "source": [
    "print(count_vector.shape)"
   ]
  },
  {
   "cell_type": "markdown",
   "metadata": {},
   "source": [
    "- 3623 rows, 10425 columns/unique tokens"
   ]
  },
  {
   "cell_type": "markdown",
   "metadata": {},
   "source": [
    "### 3. TD-IDF Vectorizer"
   ]
  },
  {
   "cell_type": "code",
   "execution_count": 12,
   "metadata": {},
   "outputs": [],
   "source": [
    "tdidf_transformer = sklearn.feature_extraction.text.TfidfTransformer()\n",
    "tdidf_vector = tdidf_transformer.fit_transform(count_vector)"
   ]
  },
  {
   "cell_type": "code",
   "execution_count": 13,
   "metadata": {},
   "outputs": [
    {
     "data": {
      "text/plain": [
       "[('thank', 0.2790647239686926),\n",
       " ('engage', 0.2624916204470818),\n",
       " ('insightful', 0.4308677651786394),\n",
       " ('respectful', 0.2588701492057808),\n",
       " ('discourse', 0.3724050122335431),\n",
       " ('news', 0.4155587375062185),\n",
       " ('thread', 0.3355191219247845),\n",
       " ('lock', 0.3528365045862098),\n",
       " ('comment', 0.2282958742756067),\n",
       " ('prefer', 0.08961425241998294),\n",
       " ('process', 0.16812507837038776),\n",
       " ('take', 0.10333828523481878),\n",
       " ('account', 0.09791761829024669),\n",
       " ('poverty', 0.12307005687760202),\n",
       " ('instead', 0.11641353787807514),\n",
       " ('generation', 0.11641353787807514),\n",
       " ('family', 0.10922874743933599),\n",
       " ('come', 0.14501625345093178),\n",
       " ('america', 0.13812266943966214),\n",
       " ('painfully', 0.11936149821893847)]"
      ]
     },
     "execution_count": 13,
     "metadata": {},
     "output_type": "execute_result"
    }
   ],
   "source": [
    "list(zip(count_vectorizer.vocabulary_.keys(), tdidf_vector.data))[:20]"
   ]
  },
  {
   "cell_type": "markdown",
   "metadata": {},
   "source": [
    "### 4. Prune Matrix of features"
   ]
  },
  {
   "cell_type": "code",
   "execution_count": 14,
   "metadata": {},
   "outputs": [],
   "source": [
    "#initialize\n",
    "prune_vectorizer = sklearn.feature_extraction.text.TfidfVectorizer(min_df=3, max_features=1000, stop_words='english', norm='l2') # why norm=l2?\n",
    "#train\n",
    "pruned_vec = prune_vectorizer.fit_transform(comments_df['normalized_tokens_str'])"
   ]
  },
  {
   "cell_type": "markdown",
   "metadata": {},
   "source": [
    "- min document freq=3 because low document frequency inflates td-idf\n",
    "- An idea: visualize document freq of each word"
   ]
  },
  {
   "cell_type": "code",
   "execution_count": 15,
   "metadata": {},
   "outputs": [
    {
     "data": {
      "text/plain": [
       "<3623x1000 sparse matrix of type '<class 'numpy.float64'>'\n",
       "\twith 73451 stored elements in Compressed Sparse Row format>"
      ]
     },
     "execution_count": 15,
     "metadata": {},
     "output_type": "execute_result"
    }
   ],
   "source": [
    "pruned_vec"
   ]
  },
  {
   "cell_type": "markdown",
   "metadata": {},
   "source": [
    "Now, matrix is only 1000 terms/columns"
   ]
  },
  {
   "cell_type": "code",
   "execution_count": 16,
   "metadata": {},
   "outputs": [
    {
     "name": "stdout",
     "output_type": "stream",
     "text": [
      "\"vector\" is missing\n",
      "The available words are: ['thank', 'news', 'thread', 'comment', 'prefer', 'process', 'account', 'poverty', 'instead', 'generation'] ...\n"
     ]
    }
   ],
   "source": [
    "# try to find term in matrix\n",
    "termtofind = 'vector'\n",
    "try:\n",
    "    print(prune_vectorizer.vocabulary_[termtofind])\n",
    "except KeyError:\n",
    "    print(f'\"{termtofind}\" is missing')\n",
    "    print('The available words are: {} ...'.format(list(prune_vectorizer.vocabulary_.keys())[:10]))"
   ]
  },
  {
   "cell_type": "markdown",
   "metadata": {},
   "source": [
    "### 5. Flat Clustering with K-means"
   ]
  },
  {
   "cell_type": "markdown",
   "metadata": {},
   "source": [
    "Silhouette method:"
   ]
  },
  {
   "cell_type": "markdown",
   "metadata": {},
   "source": [
    "First let's initialize our PCA"
   ]
  },
  {
   "cell_type": "code",
   "execution_count": 17,
   "metadata": {},
   "outputs": [],
   "source": [
    "PCA = sklearn.decomposition.PCA\n",
    "pca = PCA(n_components = 2).fit(pruned_vec.toarray())\n",
    "reduced_data = pca.transform(pruned_vec.toarray())"
   ]
  },
  {
   "cell_type": "markdown",
   "metadata": {},
   "source": [
    "Silhouette plot helper function:"
   ]
  },
  {
   "cell_type": "code",
   "execution_count": 28,
   "metadata": {},
   "outputs": [],
   "source": [
    "def plotSilhouette(n_clusters, X):\n",
    "    fig, (ax1, ax2) = plt.subplots(ncols=2, figsize=(15,5))\n",
    "\n",
    "    #ax1.set_xlim([-0.1, 1])\n",
    "    ax1.set_ylim([0, len(X) + (n_clusters + 1) * 10])\n",
    "    clusterer = sklearn.cluster.KMeans(n_clusters=n_clusters, random_state=10)\n",
    "    cluster_labels = clusterer.fit_predict(X)\n",
    "\n",
    "    # compute mean silhouette scores/coefficient over all samples\n",
    "    silh_avg = sklearn.metrics.silhouette_score(X, cluster_labels)\n",
    "\n",
    "    # Compute silhouette coefficient for each sample\n",
    "    sample_silh_values = sklearn.metrics.silhouette_samples(X, cluster_labels)\n",
    "\n",
    "    y_lower = 10\n",
    "\n",
    "    for i in range(n_clusters):\n",
    "        # get silh scores for cluster\n",
    "        ith_cluster_silh_values = sample_silh_values[cluster_labels==i]\n",
    "        ith_cluster_silh_values.sort()\n",
    "\n",
    "        cluster_size = ith_cluster_silh_values.shape[0]\n",
    "        y_upper = y_lower + cluster_size\n",
    "        cmap = matplotlib.cm.get_cmap('nipy_spectral')\n",
    "        color = cmap(float(i)/n_clusters)\n",
    "        ax1.fill_betweenx(np.arange(y_lower,y_upper), 0, ith_cluster_silh_values, facecolor=color, \n",
    "                          edgecolor=color, alpha=0.7)\n",
    "        \n",
    "        ax1.text(-0.05, y_lower + 0.5 * cluster_size, str(i))\n",
    "\n",
    "        y_lower = y_upper + 10\n",
    "    \n",
    "    ax1.set_title('Silhoutte plot for each cluster')\n",
    "    ax1.set_xlabel('Silhouette score')\n",
    "    ax1.set_ylabel('Cluster label')\n",
    "\n",
    "    ax1.axvline(x=silh_avg, color='red', linestyle='--')\n",
    "\n",
    "    ax1.set_yticks([]) # clear y-axis label and ticks\n",
    "    #ax1.set_xticks([-0.1, 0, 0.2, 0.4, 0.6, 0.8, 1])\n",
    "\n",
    "    # 2nd Plot showing the actual clusters formed\n",
    "    cmap = matplotlib.cm.get_cmap(\"nipy_spectral\")\n",
    "    colors = cmap(float(i) / n_clusters)\n",
    "    ax2.scatter(reduced_data[:, 0], reduced_data[:, 1], marker='.', s=30, lw=0, alpha=0.7,\n",
    "                c=colors)\n",
    "\n",
    "    # label clusters\n",
    "    #centers = clusterer.cluster_centers_\n",
    "    #projected_centers = pca.transform(centers)\n",
    "    # draw white circles at cluster centers\n",
    "    #ax2.scatter(projected_centers[:, 0], projected_centers[:, 1], marker='o', c='white', alpha=1, s=200)\n",
    "    # write in cluster number in the centers\n",
    "    #for i, c in enumerate(projected_centers):\n",
    "    #    ax2.scatter(c[0], c[1], marker='$%d$' % i, alpha=1, s=50)\n",
    "    \n",
    "    ax2.set_title('Visual of clustered data')\n",
    "    ax2.set_xlabel('PC 1')\n",
    "    ax2.set_ylabel('PC 2')\n",
    "\n",
    "    plt.suptitle(f'Silhouette analysis for KMeans clustering with n_clusters={n_clusters}', fontsize=14, fontweight='bold')\n",
    "    plt.show()\n",
    "\n",
    "    print(f\"For n_clusters = {n_clusters}, The average silhouette_score is : {silh_avg}\")\n",
    "\n",
    "    return cluster_labels"
   ]
  },
  {
   "cell_type": "code",
   "execution_count": 29,
   "metadata": {},
   "outputs": [
    {
     "name": "stderr",
     "output_type": "stream",
     "text": [
      "'c' argument looks like a single numeric RGB or RGBA sequence, which should be avoided as value-mapping will have precedence in case its length matches with 'x' & 'y'.  Please use a 2-D array with a single row if you really want to specify the same RGB or RGBA value for all points.\n"
     ]
    },
    {
     "data": {
      "image/png": "[encoded data removed]",
      "text/plain": [
       "<Figure size 1080x360 with 2 Axes>"
      ]
     },
     "metadata": {
      "needs_background": "light"
     },
     "output_type": "display_data"
    },
    {
     "name": "stdout",
     "output_type": "stream",
     "text": [
      "For n_clusters = 2, The average silhouette_score is : 0.08108862080065199\n"
     ]
    }
   ],
   "source": [
    "X = pruned_vec.toarray()\n",
    "two_clusters_labels = plotSilhouette(2, X)"
   ]
  },
  {
   "cell_type": "code",
   "execution_count": 34,
   "metadata": {},
   "outputs": [
    {
     "name": "stdout",
     "output_type": "stream",
     "text": [
      "(3623, 2)\n",
      "<class 'numpy.ndarray'>\n"
     ]
    },
    {
     "data": {
      "text/html": [
       "<div>\n",
       "<style scoped>\n",
       "    .dataframe tbody tr th:only-of-type {\n",
       "        vertical-align: middle;\n",
       "    }\n",
       "\n",
       "    .dataframe tbody tr th {\n",
       "        vertical-align: top;\n",
       "    }\n",
       "\n",
       "    .dataframe thead th {\n",
       "        text-align: right;\n",
       "    }\n",
       "</style>\n",
       "<table border=\"1\" class=\"dataframe\">\n",
       "  <thead>\n",
       "    <tr style=\"text-align: right;\">\n",
       "      <th></th>\n",
       "      <th>Unnamed: 0</th>\n",
       "      <th>username</th>\n",
       "      <th>flair_text</th>\n",
       "      <th>body</th>\n",
       "      <th>tokens_new</th>\n",
       "      <th>normalized_tokens</th>\n",
       "      <th>normalized_tokens_count</th>\n",
       "      <th>word_count</th>\n",
       "      <th>normalized_tokens_str</th>\n",
       "    </tr>\n",
       "  </thead>\n",
       "  <tbody>\n",
       "    <tr>\n",
       "      <th>3056</th>\n",
       "      <td>3056</td>\n",
       "      <td>NaN</td>\n",
       "      <td>NaN</td>\n",
       "      <td>[deleted]</td>\n",
       "      <td>[deleted]</td>\n",
       "      <td>[delete]</td>\n",
       "      <td>1</td>\n",
       "      <td>1</td>\n",
       "      <td>delete</td>\n",
       "    </tr>\n",
       "    <tr>\n",
       "      <th>3058</th>\n",
       "      <td>3058</td>\n",
       "      <td>NaN</td>\n",
       "      <td>NaN</td>\n",
       "      <td>[deleted]</td>\n",
       "      <td>[deleted]</td>\n",
       "      <td>[delete]</td>\n",
       "      <td>1</td>\n",
       "      <td>1</td>\n",
       "      <td>delete</td>\n",
       "    </tr>\n",
       "    <tr>\n",
       "      <th>3059</th>\n",
       "      <td>3059</td>\n",
       "      <td>NaN</td>\n",
       "      <td>NaN</td>\n",
       "      <td>[removed]</td>\n",
       "      <td>[removed]</td>\n",
       "      <td>[remove]</td>\n",
       "      <td>1</td>\n",
       "      <td>1</td>\n",
       "      <td>remove</td>\n",
       "    </tr>\n",
       "    <tr>\n",
       "      <th>3060</th>\n",
       "      <td>3060</td>\n",
       "      <td>NaN</td>\n",
       "      <td>NaN</td>\n",
       "      <td>[deleted]</td>\n",
       "      <td>[deleted]</td>\n",
       "      <td>[delete]</td>\n",
       "      <td>1</td>\n",
       "      <td>1</td>\n",
       "      <td>delete</td>\n",
       "    </tr>\n",
       "    <tr>\n",
       "      <th>3062</th>\n",
       "      <td>3062</td>\n",
       "      <td>NaN</td>\n",
       "      <td>NaN</td>\n",
       "      <td>[deleted]</td>\n",
       "      <td>[deleted]</td>\n",
       "      <td>[delete]</td>\n",
       "      <td>1</td>\n",
       "      <td>1</td>\n",
       "      <td>delete</td>\n",
       "    </tr>\n",
       "    <tr>\n",
       "      <th>3063</th>\n",
       "      <td>3063</td>\n",
       "      <td>NaN</td>\n",
       "      <td>NaN</td>\n",
       "      <td>[deleted]</td>\n",
       "      <td>[deleted]</td>\n",
       "      <td>[delete]</td>\n",
       "      <td>1</td>\n",
       "      <td>1</td>\n",
       "      <td>delete</td>\n",
       "    </tr>\n",
       "    <tr>\n",
       "      <th>3066</th>\n",
       "      <td>3066</td>\n",
       "      <td>NaN</td>\n",
       "      <td>NaN</td>\n",
       "      <td>[deleted]</td>\n",
       "      <td>[deleted]</td>\n",
       "      <td>[delete]</td>\n",
       "      <td>1</td>\n",
       "      <td>1</td>\n",
       "      <td>delete</td>\n",
       "    </tr>\n",
       "    <tr>\n",
       "      <th>3068</th>\n",
       "      <td>3068</td>\n",
       "      <td>NaN</td>\n",
       "      <td>NaN</td>\n",
       "      <td>[removed]</td>\n",
       "      <td>[removed]</td>\n",
       "      <td>[remove]</td>\n",
       "      <td>1</td>\n",
       "      <td>1</td>\n",
       "      <td>remove</td>\n",
       "    </tr>\n",
       "    <tr>\n",
       "      <th>3069</th>\n",
       "      <td>3069</td>\n",
       "      <td>NaN</td>\n",
       "      <td>NaN</td>\n",
       "      <td>[removed]</td>\n",
       "      <td>[removed]</td>\n",
       "      <td>[remove]</td>\n",
       "      <td>1</td>\n",
       "      <td>1</td>\n",
       "      <td>remove</td>\n",
       "    </tr>\n",
       "    <tr>\n",
       "      <th>3070</th>\n",
       "      <td>3070</td>\n",
       "      <td>NaN</td>\n",
       "      <td>NaN</td>\n",
       "      <td>[deleted]</td>\n",
       "      <td>[deleted]</td>\n",
       "      <td>[delete]</td>\n",
       "      <td>1</td>\n",
       "      <td>1</td>\n",
       "      <td>delete</td>\n",
       "    </tr>\n",
       "    <tr>\n",
       "      <th>3071</th>\n",
       "      <td>3071</td>\n",
       "      <td>NaN</td>\n",
       "      <td>NaN</td>\n",
       "      <td>[removed]</td>\n",
       "      <td>[removed]</td>\n",
       "      <td>[remove]</td>\n",
       "      <td>1</td>\n",
       "      <td>1</td>\n",
       "      <td>remove</td>\n",
       "    </tr>\n",
       "    <tr>\n",
       "      <th>3084</th>\n",
       "      <td>3084</td>\n",
       "      <td>NaN</td>\n",
       "      <td>NaN</td>\n",
       "      <td>[deleted]</td>\n",
       "      <td>[deleted]</td>\n",
       "      <td>[delete]</td>\n",
       "      <td>1</td>\n",
       "      <td>1</td>\n",
       "      <td>delete</td>\n",
       "    </tr>\n",
       "    <tr>\n",
       "      <th>3086</th>\n",
       "      <td>3086</td>\n",
       "      <td>NaN</td>\n",
       "      <td>NaN</td>\n",
       "      <td>[deleted]</td>\n",
       "      <td>[deleted]</td>\n",
       "      <td>[delete]</td>\n",
       "      <td>1</td>\n",
       "      <td>1</td>\n",
       "      <td>delete</td>\n",
       "    </tr>\n",
       "    <tr>\n",
       "      <th>3091</th>\n",
       "      <td>3091</td>\n",
       "      <td>NaN</td>\n",
       "      <td>NaN</td>\n",
       "      <td>[deleted]</td>\n",
       "      <td>[deleted]</td>\n",
       "      <td>[delete]</td>\n",
       "      <td>1</td>\n",
       "      <td>1</td>\n",
       "      <td>delete</td>\n",
       "    </tr>\n",
       "    <tr>\n",
       "      <th>3095</th>\n",
       "      <td>3095</td>\n",
       "      <td>NaN</td>\n",
       "      <td>NaN</td>\n",
       "      <td>[deleted]</td>\n",
       "      <td>[deleted]</td>\n",
       "      <td>[delete]</td>\n",
       "      <td>1</td>\n",
       "      <td>1</td>\n",
       "      <td>delete</td>\n",
       "    </tr>\n",
       "    <tr>\n",
       "      <th>3100</th>\n",
       "      <td>3100</td>\n",
       "      <td>NaN</td>\n",
       "      <td>NaN</td>\n",
       "      <td>[deleted]</td>\n",
       "      <td>[deleted]</td>\n",
       "      <td>[delete]</td>\n",
       "      <td>1</td>\n",
       "      <td>1</td>\n",
       "      <td>delete</td>\n",
       "    </tr>\n",
       "    <tr>\n",
       "      <th>3122</th>\n",
       "      <td>3122</td>\n",
       "      <td>NaN</td>\n",
       "      <td>NaN</td>\n",
       "      <td>[removed]</td>\n",
       "      <td>[removed]</td>\n",
       "      <td>[remove]</td>\n",
       "      <td>1</td>\n",
       "      <td>1</td>\n",
       "      <td>remove</td>\n",
       "    </tr>\n",
       "    <tr>\n",
       "      <th>3153</th>\n",
       "      <td>3153</td>\n",
       "      <td>NaN</td>\n",
       "      <td>NaN</td>\n",
       "      <td>[deleted]</td>\n",
       "      <td>[deleted]</td>\n",
       "      <td>[delete]</td>\n",
       "      <td>1</td>\n",
       "      <td>1</td>\n",
       "      <td>delete</td>\n",
       "    </tr>\n",
       "    <tr>\n",
       "      <th>3184</th>\n",
       "      <td>3184</td>\n",
       "      <td>NaN</td>\n",
       "      <td>NaN</td>\n",
       "      <td>[deleted]</td>\n",
       "      <td>[deleted]</td>\n",
       "      <td>[delete]</td>\n",
       "      <td>1</td>\n",
       "      <td>1</td>\n",
       "      <td>delete</td>\n",
       "    </tr>\n",
       "    <tr>\n",
       "      <th>3191</th>\n",
       "      <td>3191</td>\n",
       "      <td>NaN</td>\n",
       "      <td>NaN</td>\n",
       "      <td>[deleted]</td>\n",
       "      <td>[deleted]</td>\n",
       "      <td>[delete]</td>\n",
       "      <td>1</td>\n",
       "      <td>1</td>\n",
       "      <td>delete</td>\n",
       "    </tr>\n",
       "    <tr>\n",
       "      <th>3227</th>\n",
       "      <td>3227</td>\n",
       "      <td>NaN</td>\n",
       "      <td>NaN</td>\n",
       "      <td>[deleted]</td>\n",
       "      <td>[deleted]</td>\n",
       "      <td>[delete]</td>\n",
       "      <td>1</td>\n",
       "      <td>1</td>\n",
       "      <td>delete</td>\n",
       "    </tr>\n",
       "    <tr>\n",
       "      <th>3245</th>\n",
       "      <td>3245</td>\n",
       "      <td>NaN</td>\n",
       "      <td>NaN</td>\n",
       "      <td>[deleted]</td>\n",
       "      <td>[deleted]</td>\n",
       "      <td>[delete]</td>\n",
       "      <td>1</td>\n",
       "      <td>1</td>\n",
       "      <td>delete</td>\n",
       "    </tr>\n",
       "    <tr>\n",
       "      <th>3249</th>\n",
       "      <td>3249</td>\n",
       "      <td>NaN</td>\n",
       "      <td>NaN</td>\n",
       "      <td>[deleted]</td>\n",
       "      <td>[deleted]</td>\n",
       "      <td>[delete]</td>\n",
       "      <td>1</td>\n",
       "      <td>1</td>\n",
       "      <td>delete</td>\n",
       "    </tr>\n",
       "    <tr>\n",
       "      <th>3253</th>\n",
       "      <td>3253</td>\n",
       "      <td>NaN</td>\n",
       "      <td>NaN</td>\n",
       "      <td>[deleted]</td>\n",
       "      <td>[deleted]</td>\n",
       "      <td>[delete]</td>\n",
       "      <td>1</td>\n",
       "      <td>1</td>\n",
       "      <td>delete</td>\n",
       "    </tr>\n",
       "    <tr>\n",
       "      <th>3258</th>\n",
       "      <td>3258</td>\n",
       "      <td>NaN</td>\n",
       "      <td>NaN</td>\n",
       "      <td>[deleted]</td>\n",
       "      <td>[deleted]</td>\n",
       "      <td>[delete]</td>\n",
       "      <td>1</td>\n",
       "      <td>1</td>\n",
       "      <td>delete</td>\n",
       "    </tr>\n",
       "    <tr>\n",
       "      <th>3262</th>\n",
       "      <td>3262</td>\n",
       "      <td>NaN</td>\n",
       "      <td>NaN</td>\n",
       "      <td>[deleted]</td>\n",
       "      <td>[deleted]</td>\n",
       "      <td>[delete]</td>\n",
       "      <td>1</td>\n",
       "      <td>1</td>\n",
       "      <td>delete</td>\n",
       "    </tr>\n",
       "    <tr>\n",
       "      <th>3265</th>\n",
       "      <td>3265</td>\n",
       "      <td>NaN</td>\n",
       "      <td>NaN</td>\n",
       "      <td>[deleted]</td>\n",
       "      <td>[deleted]</td>\n",
       "      <td>[delete]</td>\n",
       "      <td>1</td>\n",
       "      <td>1</td>\n",
       "      <td>delete</td>\n",
       "    </tr>\n",
       "    <tr>\n",
       "      <th>3291</th>\n",
       "      <td>3291</td>\n",
       "      <td>NaN</td>\n",
       "      <td>NaN</td>\n",
       "      <td>[deleted]</td>\n",
       "      <td>[deleted]</td>\n",
       "      <td>[delete]</td>\n",
       "      <td>1</td>\n",
       "      <td>1</td>\n",
       "      <td>delete</td>\n",
       "    </tr>\n",
       "    <tr>\n",
       "      <th>3305</th>\n",
       "      <td>3305</td>\n",
       "      <td>NaN</td>\n",
       "      <td>NaN</td>\n",
       "      <td>[deleted]</td>\n",
       "      <td>[deleted]</td>\n",
       "      <td>[delete]</td>\n",
       "      <td>1</td>\n",
       "      <td>1</td>\n",
       "      <td>delete</td>\n",
       "    </tr>\n",
       "    <tr>\n",
       "      <th>3306</th>\n",
       "      <td>3306</td>\n",
       "      <td>NaN</td>\n",
       "      <td>NaN</td>\n",
       "      <td>[removed]</td>\n",
       "      <td>[removed]</td>\n",
       "      <td>[remove]</td>\n",
       "      <td>1</td>\n",
       "      <td>1</td>\n",
       "      <td>remove</td>\n",
       "    </tr>\n",
       "    <tr>\n",
       "      <th>3314</th>\n",
       "      <td>3314</td>\n",
       "      <td>NaN</td>\n",
       "      <td>NaN</td>\n",
       "      <td>[removed]</td>\n",
       "      <td>[removed]</td>\n",
       "      <td>[remove]</td>\n",
       "      <td>1</td>\n",
       "      <td>1</td>\n",
       "      <td>remove</td>\n",
       "    </tr>\n",
       "    <tr>\n",
       "      <th>3362</th>\n",
       "      <td>3362</td>\n",
       "      <td>NaN</td>\n",
       "      <td>NaN</td>\n",
       "      <td>[deleted]</td>\n",
       "      <td>[deleted]</td>\n",
       "      <td>[delete]</td>\n",
       "      <td>1</td>\n",
       "      <td>1</td>\n",
       "      <td>delete</td>\n",
       "    </tr>\n",
       "    <tr>\n",
       "      <th>3375</th>\n",
       "      <td>3375</td>\n",
       "      <td>NaN</td>\n",
       "      <td>NaN</td>\n",
       "      <td>[deleted]</td>\n",
       "      <td>[deleted]</td>\n",
       "      <td>[delete]</td>\n",
       "      <td>1</td>\n",
       "      <td>1</td>\n",
       "      <td>delete</td>\n",
       "    </tr>\n",
       "    <tr>\n",
       "      <th>3376</th>\n",
       "      <td>3376</td>\n",
       "      <td>NaN</td>\n",
       "      <td>NaN</td>\n",
       "      <td>[deleted]</td>\n",
       "      <td>[deleted]</td>\n",
       "      <td>[delete]</td>\n",
       "      <td>1</td>\n",
       "      <td>1</td>\n",
       "      <td>delete</td>\n",
       "    </tr>\n",
       "    <tr>\n",
       "      <th>3381</th>\n",
       "      <td>3381</td>\n",
       "      <td>NaN</td>\n",
       "      <td>NaN</td>\n",
       "      <td>[deleted]</td>\n",
       "      <td>[deleted]</td>\n",
       "      <td>[delete]</td>\n",
       "      <td>1</td>\n",
       "      <td>1</td>\n",
       "      <td>delete</td>\n",
       "    </tr>\n",
       "    <tr>\n",
       "      <th>3386</th>\n",
       "      <td>3386</td>\n",
       "      <td>NaN</td>\n",
       "      <td>NaN</td>\n",
       "      <td>[deleted]</td>\n",
       "      <td>[deleted]</td>\n",
       "      <td>[delete]</td>\n",
       "      <td>1</td>\n",
       "      <td>1</td>\n",
       "      <td>delete</td>\n",
       "    </tr>\n",
       "    <tr>\n",
       "      <th>3438</th>\n",
       "      <td>3438</td>\n",
       "      <td>NaN</td>\n",
       "      <td>NaN</td>\n",
       "      <td>[deleted]</td>\n",
       "      <td>[deleted]</td>\n",
       "      <td>[delete]</td>\n",
       "      <td>1</td>\n",
       "      <td>1</td>\n",
       "      <td>delete</td>\n",
       "    </tr>\n",
       "    <tr>\n",
       "      <th>3450</th>\n",
       "      <td>3450</td>\n",
       "      <td>NaN</td>\n",
       "      <td>NaN</td>\n",
       "      <td>[deleted]</td>\n",
       "      <td>[deleted]</td>\n",
       "      <td>[delete]</td>\n",
       "      <td>1</td>\n",
       "      <td>1</td>\n",
       "      <td>delete</td>\n",
       "    </tr>\n",
       "    <tr>\n",
       "      <th>3509</th>\n",
       "      <td>3509</td>\n",
       "      <td>NaN</td>\n",
       "      <td>NaN</td>\n",
       "      <td>[removed]</td>\n",
       "      <td>[removed]</td>\n",
       "      <td>[remove]</td>\n",
       "      <td>1</td>\n",
       "      <td>1</td>\n",
       "      <td>remove</td>\n",
       "    </tr>\n",
       "    <tr>\n",
       "      <th>3552</th>\n",
       "      <td>3552</td>\n",
       "      <td>NaN</td>\n",
       "      <td>NaN</td>\n",
       "      <td>[deleted]</td>\n",
       "      <td>[deleted]</td>\n",
       "      <td>[delete]</td>\n",
       "      <td>1</td>\n",
       "      <td>1</td>\n",
       "      <td>delete</td>\n",
       "    </tr>\n",
       "  </tbody>\n",
       "</table>\n",
       "</div>"
      ],
      "text/plain": [
       "      Unnamed: 0 username flair_text       body tokens_new normalized_tokens  \\\n",
       "3056        3056      NaN        NaN  [deleted]  [deleted]          [delete]   \n",
       "3058        3058      NaN        NaN  [deleted]  [deleted]          [delete]   \n",
       "3059        3059      NaN        NaN  [removed]  [removed]          [remove]   \n",
       "3060        3060      NaN        NaN  [deleted]  [deleted]          [delete]   \n",
       "3062        3062      NaN        NaN  [deleted]  [deleted]          [delete]   \n",
       "3063        3063      NaN        NaN  [deleted]  [deleted]          [delete]   \n",
       "3066        3066      NaN        NaN  [deleted]  [deleted]          [delete]   \n",
       "3068        3068      NaN        NaN  [removed]  [removed]          [remove]   \n",
       "3069        3069      NaN        NaN  [removed]  [removed]          [remove]   \n",
       "3070        3070      NaN        NaN  [deleted]  [deleted]          [delete]   \n",
       "3071        3071      NaN        NaN  [removed]  [removed]          [remove]   \n",
       "3084        3084      NaN        NaN  [deleted]  [deleted]          [delete]   \n",
       "3086        3086      NaN        NaN  [deleted]  [deleted]          [delete]   \n",
       "3091        3091      NaN        NaN  [deleted]  [deleted]          [delete]   \n",
       "3095        3095      NaN        NaN  [deleted]  [deleted]          [delete]   \n",
       "3100        3100      NaN        NaN  [deleted]  [deleted]          [delete]   \n",
       "3122        3122      NaN        NaN  [removed]  [removed]          [remove]   \n",
       "3153        3153      NaN        NaN  [deleted]  [deleted]          [delete]   \n",
       "3184        3184      NaN        NaN  [deleted]  [deleted]          [delete]   \n",
       "3191        3191      NaN        NaN  [deleted]  [deleted]          [delete]   \n",
       "3227        3227      NaN        NaN  [deleted]  [deleted]          [delete]   \n",
       "3245        3245      NaN        NaN  [deleted]  [deleted]          [delete]   \n",
       "3249        3249      NaN        NaN  [deleted]  [deleted]          [delete]   \n",
       "3253        3253      NaN        NaN  [deleted]  [deleted]          [delete]   \n",
       "3258        3258      NaN        NaN  [deleted]  [deleted]          [delete]   \n",
       "3262        3262      NaN        NaN  [deleted]  [deleted]          [delete]   \n",
       "3265        3265      NaN        NaN  [deleted]  [deleted]          [delete]   \n",
       "3291        3291      NaN        NaN  [deleted]  [deleted]          [delete]   \n",
       "3305        3305      NaN        NaN  [deleted]  [deleted]          [delete]   \n",
       "3306        3306      NaN        NaN  [removed]  [removed]          [remove]   \n",
       "3314        3314      NaN        NaN  [removed]  [removed]          [remove]   \n",
       "3362        3362      NaN        NaN  [deleted]  [deleted]          [delete]   \n",
       "3375        3375      NaN        NaN  [deleted]  [deleted]          [delete]   \n",
       "3376        3376      NaN        NaN  [deleted]  [deleted]          [delete]   \n",
       "3381        3381      NaN        NaN  [deleted]  [deleted]          [delete]   \n",
       "3386        3386      NaN        NaN  [deleted]  [deleted]          [delete]   \n",
       "3438        3438      NaN        NaN  [deleted]  [deleted]          [delete]   \n",
       "3450        3450      NaN        NaN  [deleted]  [deleted]          [delete]   \n",
       "3509        3509      NaN        NaN  [removed]  [removed]          [remove]   \n",
       "3552        3552      NaN        NaN  [deleted]  [deleted]          [delete]   \n",
       "\n",
       "      normalized_tokens_count  word_count normalized_tokens_str  \n",
       "3056                        1           1                delete  \n",
       "3058                        1           1                delete  \n",
       "3059                        1           1                remove  \n",
       "3060                        1           1                delete  \n",
       "3062                        1           1                delete  \n",
       "3063                        1           1                delete  \n",
       "3066                        1           1                delete  \n",
       "3068                        1           1                remove  \n",
       "3069                        1           1                remove  \n",
       "3070                        1           1                delete  \n",
       "3071                        1           1                remove  \n",
       "3084                        1           1                delete  \n",
       "3086                        1           1                delete  \n",
       "3091                        1           1                delete  \n",
       "3095                        1           1                delete  \n",
       "3100                        1           1                delete  \n",
       "3122                        1           1                remove  \n",
       "3153                        1           1                delete  \n",
       "3184                        1           1                delete  \n",
       "3191                        1           1                delete  \n",
       "3227                        1           1                delete  \n",
       "3245                        1           1                delete  \n",
       "3249                        1           1                delete  \n",
       "3253                        1           1                delete  \n",
       "3258                        1           1                delete  \n",
       "3262                        1           1                delete  \n",
       "3265                        1           1                delete  \n",
       "3291                        1           1                delete  \n",
       "3305                        1           1                delete  \n",
       "3306                        1           1                remove  \n",
       "3314                        1           1                remove  \n",
       "3362                        1           1                delete  \n",
       "3375                        1           1                delete  \n",
       "3376                        1           1                delete  \n",
       "3381                        1           1                delete  \n",
       "3386                        1           1                delete  \n",
       "3438                        1           1                delete  \n",
       "3450                        1           1                delete  \n",
       "3509                        1           1                remove  \n",
       "3552                        1           1                delete  "
      ]
     },
     "execution_count": 34,
     "metadata": {},
     "output_type": "execute_result"
    }
   ],
   "source": [
    "print(reduced_data.shape)\n",
    "print(type(reduced_data))\n",
    "\n",
    "#reduced_data[0:5,:]\n",
    "\n",
    "outlier_idx = np.asarray(np.any(reduced_data > 0.9, axis=1)).nonzero()\n",
    "outliers = comments_df.iloc[outlier_idx]\n",
    "\n",
    "outliers.tail(40)\n",
    "\n",
    "\n",
    "#possible_outliers = reduced_data[rows_greater, :]\n",
    "#print(possible_outliers.shape)\n",
    "#possible_outliers"
   ]
  },
  {
   "cell_type": "code",
   "execution_count": 33,
   "metadata": {},
   "outputs": [
    {
     "name": "stderr",
     "output_type": "stream",
     "text": [
      "'c' argument looks like a single numeric RGB or RGBA sequence, which should be avoided as value-mapping will have precedence in case its length matches with 'x' & 'y'.  Please use a 2-D array with a single row if you really want to specify the same RGB or RGBA value for all points.\n"
     ]
    },
    {
     "data": {
      "image/png": "[encoded data removed]",
      "text/plain": [
       "<Figure size 1080x360 with 2 Axes>"
      ]
     },
     "metadata": {
      "needs_background": "light"
     },
     "output_type": "display_data"
    },
    {
     "name": "stdout",
     "output_type": "stream",
     "text": [
      "For n_clusters = 3, The average silhouette_score is : 0.06771132669992479\n"
     ]
    }
   ],
   "source": [
    "X = pruned_vec.toarray()\n",
    "plotSilhouette(3, X)"
   ]
  },
  {
   "cell_type": "code",
   "execution_count": 35,
   "metadata": {},
   "outputs": [
    {
     "name": "stderr",
     "output_type": "stream",
     "text": [
      "'c' argument looks like a single numeric RGB or RGBA sequence, which should be avoided as value-mapping will have precedence in case its length matches with 'x' & 'y'.  Please use a 2-D array with a single row if you really want to specify the same RGB or RGBA value for all points.\n"
     ]
    },
    {
     "data": {
      "image/png": "[encoded data removed]",
      "text/plain": [
       "<Figure size 1080x360 with 2 Axes>"
      ]
     },
     "metadata": {
      "needs_background": "light"
     },
     "output_type": "display_data"
    },
    {
     "name": "stdout",
     "output_type": "stream",
     "text": [
      "For n_clusters = 4, The average silhouette_score is : 0.09055360184459478\n"
     ]
    }
   ],
   "source": [
    "X = pruned_vec.toarray()\n",
    "plotSilhouette(4, X)"
   ]
  },
  {
   "cell_type": "markdown",
   "metadata": {},
   "source": [
    "Get num of points in each cluster. Need to investigate why some clusters look like there is 1 observation in it."
   ]
  },
  {
   "cell_type": "code",
   "execution_count": null,
   "metadata": {},
   "outputs": [],
   "source": []
  }
 ],
 "metadata": {
  "kernelspec": {
   "display_name": "Python 3.7.6 ('base')",
   "language": "python",
   "name": "python3"
  },
  "language_info": {
   "codemirror_mode": {
    "name": "ipython",
    "version": 3
   },
   "file_extension": ".py",
   "mimetype": "text/x-python",
   "name": "python",
   "nbconvert_exporter": "python",
   "pygments_lexer": "ipython3",
   "version": "3.7.6"
  },
  "orig_nbformat": 4,
  "vscode": {
   "interpreter": {
    "hash": "4d9defa72c2715dab9f7f172572cd30a1ab1a2083462d32ef96aadb7c6e0c73b"
   }
  }
 },
 "nbformat": 4,
 "nbformat_minor": 2
}
