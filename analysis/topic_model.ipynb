{
 "cells": [
  {
   "cell_type": "markdown",
   "metadata": {},
   "source": [
    "# User Flair Analysis\n",
    "\n",
    "(no longer valid due to lack of data)"
   ]
  },
  {
   "cell_type": "markdown",
   "metadata": {},
   "source": [
    "## Method\n",
    "\n",
    "### Flair data\n",
    "1. DONE - Q: Does r/asianamerican have flair templates? A: No, it is only customizable.\n",
    "2. Decipher which ethnicity (Chinese, Japanese, Korean, Vietnamese, other) using flair text\n",
    "- How should we deal with multi-ethnic flairs (Chinese-Thai, Korean/Black, etc)\n",
    "- Looks like most of the comments with flair text are from a small subset of users with flairs who have commented numerous times\n",
    "3. DONE - Flairs can contain up to 10 emojis, so can we use emojis to decipher ethnicity? A: Don't think we need emoji data, doesn't seem to be used very much."
   ]
  },
  {
   "cell_type": "markdown",
   "metadata": {},
   "source": [
    "#### Flair data EDA"
   ]
  },
  {
   "cell_type": "code",
   "execution_count": 1,
   "metadata": {},
   "outputs": [],
   "source": [
    "import pandas as pd\n",
    "import numpy as np"
   ]
  },
  {
   "cell_type": "code",
   "execution_count": 2,
   "metadata": {},
   "outputs": [],
   "source": [
    "comments_df = pd.read_csv('../data/top_100_post_comments_user_flair.txt', header=None, names=['username', 'flair_text', 'body'])"
   ]
  },
  {
   "cell_type": "code",
   "execution_count": 6,
   "metadata": {},
   "outputs": [
    {
     "name": "stdout",
     "output_type": "stream",
     "text": [
      "(3623, 3)\n"
     ]
    },
    {
     "data": {
      "text/html": [
       "<div>\n",
       "<style scoped>\n",
       "    .dataframe tbody tr th:only-of-type {\n",
       "        vertical-align: middle;\n",
       "    }\n",
       "\n",
       "    .dataframe tbody tr th {\n",
       "        vertical-align: top;\n",
       "    }\n",
       "\n",
       "    .dataframe thead th {\n",
       "        text-align: right;\n",
       "    }\n",
       "</style>\n",
       "<table border=\"1\" class=\"dataframe\">\n",
       "  <thead>\n",
       "    <tr style=\"text-align: right;\">\n",
       "      <th></th>\n",
       "      <th>username</th>\n",
       "      <th>flair_text</th>\n",
       "      <th>body</th>\n",
       "    </tr>\n",
       "  </thead>\n",
       "  <tbody>\n",
       "    <tr>\n",
       "      <th>0</th>\n",
       "      <td>Tungsten_</td>\n",
       "      <td>NaN</td>\n",
       "      <td>Thanks to everyone who engaged in insightful a...</td>\n",
       "    </tr>\n",
       "    <tr>\n",
       "      <th>1</th>\n",
       "      <td>ProudBlackMatt</td>\n",
       "      <td>Chinese-American</td>\n",
       "      <td>I would prefer using a process that takes into...</td>\n",
       "    </tr>\n",
       "    <tr>\n",
       "      <th>2</th>\n",
       "      <td>TomatoCanned</td>\n",
       "      <td>NaN</td>\n",
       "      <td>u/Tungsten_, Thanks for creating a section jus...</td>\n",
       "    </tr>\n",
       "    <tr>\n",
       "      <th>3</th>\n",
       "      <td>bad-fengshui</td>\n",
       "      <td>NaN</td>\n",
       "      <td>As with anything related to Asians in politics...</td>\n",
       "    </tr>\n",
       "    <tr>\n",
       "      <th>4</th>\n",
       "      <td>Pancake_muncher</td>\n",
       "      <td>NaN</td>\n",
       "      <td>Yet colleges will allow alumni and doners in e...</td>\n",
       "    </tr>\n",
       "    <tr>\n",
       "      <th>5</th>\n",
       "      <td>suberry</td>\n",
       "      <td>NaN</td>\n",
       "      <td>I just hated Affirmative Action as a distracti...</td>\n",
       "    </tr>\n",
       "    <tr>\n",
       "      <th>6</th>\n",
       "      <td>Puzzled-Painter3301</td>\n",
       "      <td>NaN</td>\n",
       "      <td>My own feeling is that I was never in love wit...</td>\n",
       "    </tr>\n",
       "    <tr>\n",
       "      <th>7</th>\n",
       "      <td>e9967780</td>\n",
       "      <td>NaN</td>\n",
       "      <td>Anti Asian racism whether against East Asians ...</td>\n",
       "    </tr>\n",
       "    <tr>\n",
       "      <th>8</th>\n",
       "      <td>NaN</td>\n",
       "      <td>NaN</td>\n",
       "      <td>Can we overturn legacy and athlete admissions ...</td>\n",
       "    </tr>\n",
       "    <tr>\n",
       "      <th>9</th>\n",
       "      <td>OkartoIceCream</td>\n",
       "      <td>NaN</td>\n",
       "      <td>I want to remind people that in California, on...</td>\n",
       "    </tr>\n",
       "  </tbody>\n",
       "</table>\n",
       "</div>"
      ],
      "text/plain": [
       "              username        flair_text  \\\n",
       "0            Tungsten_               NaN   \n",
       "1       ProudBlackMatt  Chinese-American   \n",
       "2         TomatoCanned               NaN   \n",
       "3         bad-fengshui               NaN   \n",
       "4      Pancake_muncher               NaN   \n",
       "5              suberry               NaN   \n",
       "6  Puzzled-Painter3301               NaN   \n",
       "7             e9967780               NaN   \n",
       "8                  NaN               NaN   \n",
       "9       OkartoIceCream               NaN   \n",
       "\n",
       "                                                body  \n",
       "0  Thanks to everyone who engaged in insightful a...  \n",
       "1  I would prefer using a process that takes into...  \n",
       "2  u/Tungsten_, Thanks for creating a section jus...  \n",
       "3  As with anything related to Asians in politics...  \n",
       "4  Yet colleges will allow alumni and doners in e...  \n",
       "5  I just hated Affirmative Action as a distracti...  \n",
       "6  My own feeling is that I was never in love wit...  \n",
       "7  Anti Asian racism whether against East Asians ...  \n",
       "8  Can we overturn legacy and athlete admissions ...  \n",
       "9  I want to remind people that in California, on...  "
      ]
     },
     "execution_count": 6,
     "metadata": {},
     "output_type": "execute_result"
    }
   ],
   "source": [
    "print(comments_df.shape)\n",
    "comments_df.head(10)"
   ]
  },
  {
   "cell_type": "markdown",
   "metadata": {},
   "source": [
    "1. How many comments have flair text? A: Of 3623 rows, 3085 do NOT have flairs, 538 do have flairs\n",
    "- Seems like we could use more data... but I'm not sure if there is more to collect\n",
    "2. How many comments are by Chinese/Chinese-Americans flaired users?"
   ]
  },
  {
   "cell_type": "code",
   "execution_count": 7,
   "metadata": {},
   "outputs": [
    {
     "name": "stdout",
     "output_type": "stream",
     "text": [
      "username       833\n",
      "flair_text    3085\n",
      "body             0\n",
      "dtype: int64\n"
     ]
    }
   ],
   "source": [
    "print(comments_df.isnull().sum())"
   ]
  },
  {
   "cell_type": "code",
   "execution_count": 3,
   "metadata": {},
   "outputs": [],
   "source": [
    "# use find() to search the array of flair texts -- make the flair texts lowercase first\n",
    "# substrings to find:\n",
    "# Chinese: 'china', 'chines', 'abc'\n",
    "# Korean: 'korea', 'kor', 'abk', 'gyopo'\n",
    "# Japanese: 'jap', 'abj'\n",
    "# Filipino: 'filip', \"philppi\", 'pinoy', 'abf', 'abp'\n",
    "# Indian: 'indian', 'abi'\n",
    "# South Asian: 'desi', 'south asia'\n",
    "\n",
    "# Series of flair_text\n",
    "flair_text = comments_df['flair_text']\n",
    "\n",
    "# get rid of nan\n",
    "flair_text_nona = flair_text.fillna(0)\n",
    "flair_text_clean = flair_text_nona.str.lower()"
   ]
  },
  {
   "cell_type": "markdown",
   "metadata": {},
   "source": [
    "#### Chinese flairs"
   ]
  },
  {
   "cell_type": "code",
   "execution_count": 4,
   "metadata": {},
   "outputs": [],
   "source": [
    "# empty matrix to hold indices of substring\n",
    "chine_matrix = np.empty((flair_text_clean.shape[0],3))\n",
    "\n",
    "# each column is for a different type of identifying substring\n",
    "chine_matrix[:,0] = flair_text_clean.str.find('china')\n",
    "chine_matrix[:,1] = flair_text_clean.str.find('chines')\n",
    "chine_matrix[:,2] = flair_text_clean.str.find('abc')"
   ]
  },
  {
   "cell_type": "code",
   "execution_count": 5,
   "metadata": {},
   "outputs": [
    {
     "name": "stdout",
     "output_type": "stream",
     "text": [
      "[[nan nan nan]\n",
      " [-1.  0. -1.]\n",
      " [nan nan nan]\n",
      " ...\n",
      " [-1. -1. -1.]\n",
      " [nan nan nan]\n",
      " [-1. -1. -1.]]\n"
     ]
    }
   ],
   "source": [
    "print(chine_matrix)\n",
    "# row of nan is comment w/o flair"
   ]
  },
  {
   "cell_type": "code",
   "execution_count": 6,
   "metadata": {},
   "outputs": [
    {
     "name": "stdout",
     "output_type": "stream",
     "text": [
      "[[-1. -1. -1.]\n",
      " [-1.  0. -1.]\n",
      " [-1. -1. -1.]\n",
      " ...\n",
      " [-1. -1. -1.]\n",
      " [-1. -1. -1.]\n",
      " [-1. -1. -1.]]\n"
     ]
    }
   ],
   "source": [
    "# change nan to -1 (no substring found)\n",
    "chine_matrix_clean = np.nan_to_num(chine_matrix, nan=-1)\n",
    "print(chine_matrix_clean)"
   ]
  },
  {
   "cell_type": "code",
   "execution_count": 8,
   "metadata": {},
   "outputs": [
    {
     "name": "stdout",
     "output_type": "stream",
     "text": [
      "[[False False False]\n",
      " [False  True False]\n",
      " [False False False]\n",
      " ...\n",
      " [False False False]\n",
      " [False False False]\n",
      " [False False False]]\n"
     ]
    }
   ],
   "source": [
    "# identify rows with one of the keywords (has value other than -1)\n",
    "print(chine_matrix_clean != -1)\n",
    "chine_rows = (chine_matrix_clean != -1).any(axis=1)"
   ]
  },
  {
   "cell_type": "code",
   "execution_count": 9,
   "metadata": {},
   "outputs": [
    {
     "name": "stdout",
     "output_type": "stream",
     "text": [
      "(3623,)\n",
      "97\n"
     ]
    }
   ],
   "source": [
    "print(chine_rows.shape)\n",
    "print(chine_rows.sum()) #97 comments of 3623 have Chinese flair\n"
   ]
  },
  {
   "cell_type": "code",
   "execution_count": 11,
   "metadata": {},
   "outputs": [
    {
     "name": "stdout",
     "output_type": "stream",
     "text": [
      "Num of unique users with Chinese flair: 16\n"
     ]
    }
   ],
   "source": [
    "chi_comments_df = comments_df[chine_rows]\n",
    "num_unique_users = len(pd.unique(chi_comments_df['username']))\n",
    "\n",
    "print(f'Num of unique users with Chinese flair: {num_unique_users}')"
   ]
  },
  {
   "cell_type": "markdown",
   "metadata": {},
   "source": [
    "Chinese flair summary:\n",
    "- 97 comments with Chinese flair\n",
    "- 16 unique users with Chinese flair"
   ]
  },
  {
   "cell_type": "markdown",
   "metadata": {},
   "source": [
    "#### Korean flairs"
   ]
  },
  {
   "cell_type": "markdown",
   "metadata": {},
   "source": [
    "- Korean substrings: 'kor', 'abk', 'gyopo', 'hanguk'\n"
   ]
  },
  {
   "cell_type": "code",
   "execution_count": 12,
   "metadata": {},
   "outputs": [],
   "source": [
    "# empty matrix to hold korean substring indices\n",
    "kor_matrix = np.empty((flair_text_clean.shape[0],4))\n",
    "\n",
    "kor_matrix[:,0] = flair_text_clean.str.find('kor')\n",
    "kor_matrix[:,1] = flair_text_clean.str.find('abk')\n",
    "kor_matrix[:,2] = flair_text_clean.str.find('gyopo')\n",
    "kor_matrix[:,3] = flair_text_clean.str.find('hanguk')"
   ]
  },
  {
   "cell_type": "code",
   "execution_count": 13,
   "metadata": {},
   "outputs": [
    {
     "name": "stdout",
     "output_type": "stream",
     "text": [
      "[[-1. -1. -1. -1.]\n",
      " [-1. -1. -1. -1.]\n",
      " [-1. -1. -1. -1.]\n",
      " ...\n",
      " [-1. -1. -1. -1.]\n",
      " [-1. -1. -1. -1.]\n",
      " [-1. -1. -1. -1.]]\n"
     ]
    }
   ],
   "source": [
    "# change nan to -1 (no flair to no substring found)\n",
    "kor_matrix_clean = np.nan_to_num(kor_matrix, nan=-1)\n",
    "print(kor_matrix_clean)"
   ]
  },
  {
   "cell_type": "code",
   "execution_count": 14,
   "metadata": {},
   "outputs": [
    {
     "name": "stdout",
     "output_type": "stream",
     "text": [
      "[[False False False False]\n",
      " [False False False False]\n",
      " [False False False False]\n",
      " ...\n",
      " [False False False False]\n",
      " [False False False False]\n",
      " [False False False False]]\n",
      "[False False False ... False False False]\n"
     ]
    }
   ],
   "source": [
    "# identify rows with one of the keywords (has value other than -1)\n",
    "print(kor_matrix_clean != -1)\n",
    "kor_rows = (kor_matrix_clean != -1).any(axis=1)\n",
    "print(kor_rows)"
   ]
  },
  {
   "cell_type": "code",
   "execution_count": 15,
   "metadata": {},
   "outputs": [
    {
     "name": "stdout",
     "output_type": "stream",
     "text": [
      "(3623,)\n",
      "12\n"
     ]
    }
   ],
   "source": [
    "print(kor_rows.shape)\n",
    "print(kor_rows.sum()) # 12 comments of 3623 have Korean flair\n",
    "\n",
    "# get indexes of Korean flair comments\n",
    "#kor_idx = np.where(kor_rows==1)[0]\n",
    "kor_comments_df = comments_df[kor_rows]"
   ]
  },
  {
   "cell_type": "code",
   "execution_count": 17,
   "metadata": {},
   "outputs": [
    {
     "name": "stdout",
     "output_type": "stream",
     "text": [
      "Num of unique users with Korean flair: 3\n"
     ]
    }
   ],
   "source": [
    "kor_comments_df = comments_df[kor_rows]\n",
    "num_unique_kor_users = len(pd.unique(kor_comments_df['username']))\n",
    "print(f'Num of unique users with Korean flair: {num_unique_kor_users}')"
   ]
  },
  {
   "cell_type": "markdown",
   "metadata": {},
   "source": [
    "Korean flairs summary:\n",
    "- 12 comments with Korean flair\n",
    "- 3 unique users with Korean flair"
   ]
  },
  {
   "cell_type": "markdown",
   "metadata": {},
   "source": [
    "# Topic Modeling"
   ]
  },
  {
   "cell_type": "code",
   "execution_count": 35,
   "metadata": {},
   "outputs": [],
   "source": [
    "import pandas as pd\n",
    "import numpy as np\n",
    "\n",
    "# cluster detection\n",
    "import sklearn\n",
    "import sklearn.feature_extraction.text\n",
    "import sklearn.pipeline\n",
    "import sklearn.preprocessing\n",
    "import sklearn.datasets\n",
    "import sklearn.cluster\n",
    "import sklearn.decomposition\n",
    "import sklearn.metrics\n",
    "\n",
    "import nltk # for co-locations\n",
    "import scipy #For hierarchical clustering and some visuals\n",
    "#import scipy.cluster.hierarchy\n",
    "import gensim#For topic modeling\n",
    "import requests #For downloading our datasets\n",
    "import matplotlib.pyplot as plt #For graphics\n",
    "import matplotlib.cm #Still for graphics\n",
    "import seaborn as sns #Makes the graphics look nicer"
   ]
  },
  {
   "cell_type": "markdown",
   "metadata": {},
   "source": [
    "### 1. Get data"
   ]
  },
  {
   "cell_type": "code",
   "execution_count": 106,
   "metadata": {},
   "outputs": [],
   "source": [
    "comments_df = pd.read_csv('../data/comments_df.csv')"
   ]
  },
  {
   "cell_type": "markdown",
   "metadata": {},
   "source": [
    "Note: normalized_tokens column is string type, not list"
   ]
  },
  {
   "cell_type": "code",
   "execution_count": 107,
   "metadata": {},
   "outputs": [
    {
     "name": "stdout",
     "output_type": "stream",
     "text": [
      "<class 'str'>\n"
     ]
    }
   ],
   "source": [
    "normalized_tokens = comments_df['normalized_tokens'][0]\n",
    "print(type(normalized_tokens))"
   ]
  },
  {
   "cell_type": "code",
   "execution_count": 108,
   "metadata": {},
   "outputs": [],
   "source": [
    "from ast import literal_eval\n",
    "\n",
    "def converter(x):\n",
    "    return literal_eval(x)\n",
    "\n",
    "comments_df = pd.read_csv('../data/comments_df.csv', converters={'tokens_new':converter, 'normalized_tokens':converter})"
   ]
  },
  {
   "cell_type": "code",
   "execution_count": 109,
   "metadata": {},
   "outputs": [
    {
     "name": "stdout",
     "output_type": "stream",
     "text": [
      "<class 'list'>\n",
      "<class 'list'>\n"
     ]
    }
   ],
   "source": [
    "normalized_tokens = comments_df['normalized_tokens'][0]\n",
    "tokens_new = comments_df['tokens_new'][0]\n",
    "print(type(normalized_tokens))\n",
    "print(type(tokens_new))"
   ]
  },
  {
   "cell_type": "markdown",
   "metadata": {},
   "source": [
    "Token columns are now lists."
   ]
  },
  {
   "cell_type": "code",
   "execution_count": 110,
   "metadata": {},
   "outputs": [
    {
     "data": {
      "text/html": [
       "<div>\n",
       "<style scoped>\n",
       "    .dataframe tbody tr th:only-of-type {\n",
       "        vertical-align: middle;\n",
       "    }\n",
       "\n",
       "    .dataframe tbody tr th {\n",
       "        vertical-align: top;\n",
       "    }\n",
       "\n",
       "    .dataframe thead th {\n",
       "        text-align: right;\n",
       "    }\n",
       "</style>\n",
       "<table border=\"1\" class=\"dataframe\">\n",
       "  <thead>\n",
       "    <tr style=\"text-align: right;\">\n",
       "      <th></th>\n",
       "      <th>Unnamed: 0</th>\n",
       "      <th>username</th>\n",
       "      <th>flair_text</th>\n",
       "      <th>body</th>\n",
       "      <th>tokens_new</th>\n",
       "      <th>normalized_tokens</th>\n",
       "      <th>normalized_tokens_count</th>\n",
       "      <th>word_count</th>\n",
       "    </tr>\n",
       "  </thead>\n",
       "  <tbody>\n",
       "    <tr>\n",
       "      <th>0</th>\n",
       "      <td>0</td>\n",
       "      <td>Tungsten_</td>\n",
       "      <td>NaN</td>\n",
       "      <td>Thanks to everyone who engaged in insightful a...</td>\n",
       "      <td>[Thanks, to, everyone, who, engaged, in, insig...</td>\n",
       "      <td>[thank, engage, insightful, respectful, discou...</td>\n",
       "      <td>9</td>\n",
       "      <td>20</td>\n",
       "    </tr>\n",
       "    <tr>\n",
       "      <th>1</th>\n",
       "      <td>1</td>\n",
       "      <td>ProudBlackMatt</td>\n",
       "      <td>Chinese-American</td>\n",
       "      <td>I would prefer using a process that takes into...</td>\n",
       "      <td>[I, would, prefer, using, a, process, that, ta...</td>\n",
       "      <td>[prefer, process, take, account, poverty, inst...</td>\n",
       "      <td>52</td>\n",
       "      <td>103</td>\n",
       "    </tr>\n",
       "    <tr>\n",
       "      <th>2</th>\n",
       "      <td>2</td>\n",
       "      <td>TomatoCanned</td>\n",
       "      <td>NaN</td>\n",
       "      <td>u/Tungsten_, Thanks for creating a section jus...</td>\n",
       "      <td>[u/Tungsten_,, Thanks, for, creating, a, secti...</td>\n",
       "      <td>[u/tungsten_,, thank, create, section, discuss...</td>\n",
       "      <td>126</td>\n",
       "      <td>269</td>\n",
       "    </tr>\n",
       "    <tr>\n",
       "      <th>3</th>\n",
       "      <td>3</td>\n",
       "      <td>bad-fengshui</td>\n",
       "      <td>NaN</td>\n",
       "      <td>As with anything related to Asians in politics...</td>\n",
       "      <td>[As, with, anything, related, to, Asians, in, ...</td>\n",
       "      <td>[relate, asians, politic, m, see, lot, non, as...</td>\n",
       "      <td>25</td>\n",
       "      <td>59</td>\n",
       "    </tr>\n",
       "    <tr>\n",
       "      <th>4</th>\n",
       "      <td>4</td>\n",
       "      <td>Pancake_muncher</td>\n",
       "      <td>NaN</td>\n",
       "      <td>Yet colleges will allow alumni and doners in e...</td>\n",
       "      <td>[Yet, colleges, will, allow, alumni, and, done...</td>\n",
       "      <td>[college, allow, alumnus, doner, easily, consi...</td>\n",
       "      <td>19</td>\n",
       "      <td>40</td>\n",
       "    </tr>\n",
       "    <tr>\n",
       "      <th>5</th>\n",
       "      <td>5</td>\n",
       "      <td>suberry</td>\n",
       "      <td>NaN</td>\n",
       "      <td>I just hated Affirmative Action as a distracti...</td>\n",
       "      <td>[I, just, hated, Affirmative, Action, as, a, d...</td>\n",
       "      <td>[hate, affirmative, action, distraction, banda...</td>\n",
       "      <td>78</td>\n",
       "      <td>171</td>\n",
       "    </tr>\n",
       "    <tr>\n",
       "      <th>6</th>\n",
       "      <td>6</td>\n",
       "      <td>Puzzled-Painter3301</td>\n",
       "      <td>NaN</td>\n",
       "      <td>My own feeling is that I was never in love wit...</td>\n",
       "      <td>[My, own, feeling, is, that, I, was, never, in...</td>\n",
       "      <td>[feeling, love, affirmative, action, possible,...</td>\n",
       "      <td>102</td>\n",
       "      <td>231</td>\n",
       "    </tr>\n",
       "    <tr>\n",
       "      <th>7</th>\n",
       "      <td>7</td>\n",
       "      <td>e9967780</td>\n",
       "      <td>NaN</td>\n",
       "      <td>Anti Asian racism whether against East Asians ...</td>\n",
       "      <td>[Anti, Asian, racism, whether, against, East, ...</td>\n",
       "      <td>[anti, asian, racism, east, asians, south, asi...</td>\n",
       "      <td>21</td>\n",
       "      <td>46</td>\n",
       "    </tr>\n",
       "    <tr>\n",
       "      <th>8</th>\n",
       "      <td>8</td>\n",
       "      <td>NaN</td>\n",
       "      <td>NaN</td>\n",
       "      <td>Can we overturn legacy and athlete admissions ...</td>\n",
       "      <td>[Can, we, overturn, legacy, and, athlete, admi...</td>\n",
       "      <td>[overturn, legacy, athlete, admission, point, ...</td>\n",
       "      <td>15</td>\n",
       "      <td>29</td>\n",
       "    </tr>\n",
       "    <tr>\n",
       "      <th>9</th>\n",
       "      <td>9</td>\n",
       "      <td>OkartoIceCream</td>\n",
       "      <td>NaN</td>\n",
       "      <td>I want to remind people that in California, on...</td>\n",
       "      <td>[I, want, to, remind, people, that, in, Califo...</td>\n",
       "      <td>[want, remind, people, california, progressive...</td>\n",
       "      <td>104</td>\n",
       "      <td>200</td>\n",
       "    </tr>\n",
       "  </tbody>\n",
       "</table>\n",
       "</div>"
      ],
      "text/plain": [
       "   Unnamed: 0             username        flair_text  \\\n",
       "0           0            Tungsten_               NaN   \n",
       "1           1       ProudBlackMatt  Chinese-American   \n",
       "2           2         TomatoCanned               NaN   \n",
       "3           3         bad-fengshui               NaN   \n",
       "4           4      Pancake_muncher               NaN   \n",
       "5           5              suberry               NaN   \n",
       "6           6  Puzzled-Painter3301               NaN   \n",
       "7           7             e9967780               NaN   \n",
       "8           8                  NaN               NaN   \n",
       "9           9       OkartoIceCream               NaN   \n",
       "\n",
       "                                                body  \\\n",
       "0  Thanks to everyone who engaged in insightful a...   \n",
       "1  I would prefer using a process that takes into...   \n",
       "2  u/Tungsten_, Thanks for creating a section jus...   \n",
       "3  As with anything related to Asians in politics...   \n",
       "4  Yet colleges will allow alumni and doners in e...   \n",
       "5  I just hated Affirmative Action as a distracti...   \n",
       "6  My own feeling is that I was never in love wit...   \n",
       "7  Anti Asian racism whether against East Asians ...   \n",
       "8  Can we overturn legacy and athlete admissions ...   \n",
       "9  I want to remind people that in California, on...   \n",
       "\n",
       "                                          tokens_new  \\\n",
       "0  [Thanks, to, everyone, who, engaged, in, insig...   \n",
       "1  [I, would, prefer, using, a, process, that, ta...   \n",
       "2  [u/Tungsten_,, Thanks, for, creating, a, secti...   \n",
       "3  [As, with, anything, related, to, Asians, in, ...   \n",
       "4  [Yet, colleges, will, allow, alumni, and, done...   \n",
       "5  [I, just, hated, Affirmative, Action, as, a, d...   \n",
       "6  [My, own, feeling, is, that, I, was, never, in...   \n",
       "7  [Anti, Asian, racism, whether, against, East, ...   \n",
       "8  [Can, we, overturn, legacy, and, athlete, admi...   \n",
       "9  [I, want, to, remind, people, that, in, Califo...   \n",
       "\n",
       "                                   normalized_tokens  normalized_tokens_count  \\\n",
       "0  [thank, engage, insightful, respectful, discou...                        9   \n",
       "1  [prefer, process, take, account, poverty, inst...                       52   \n",
       "2  [u/tungsten_,, thank, create, section, discuss...                      126   \n",
       "3  [relate, asians, politic, m, see, lot, non, as...                       25   \n",
       "4  [college, allow, alumnus, doner, easily, consi...                       19   \n",
       "5  [hate, affirmative, action, distraction, banda...                       78   \n",
       "6  [feeling, love, affirmative, action, possible,...                      102   \n",
       "7  [anti, asian, racism, east, asians, south, asi...                       21   \n",
       "8  [overturn, legacy, athlete, admission, point, ...                       15   \n",
       "9  [want, remind, people, california, progressive...                      104   \n",
       "\n",
       "   word_count  \n",
       "0          20  \n",
       "1         103  \n",
       "2         269  \n",
       "3          59  \n",
       "4          40  \n",
       "5         171  \n",
       "6         231  \n",
       "7          46  \n",
       "8          29  \n",
       "9         200  "
      ]
     },
     "execution_count": 110,
     "metadata": {},
     "output_type": "execute_result"
    }
   ],
   "source": [
    "comments_df.head(10)"
   ]
  },
  {
   "cell_type": "markdown",
   "metadata": {},
   "source": [
    "Text has already been tokenized, lemmatized, normalized."
   ]
  },
  {
   "cell_type": "markdown",
   "metadata": {},
   "source": [
    "### 1.1 Collocations"
   ]
  },
  {
   "cell_type": "code",
   "execution_count": 41,
   "metadata": {},
   "outputs": [
    {
     "data": {
      "text/html": [
       "<div>\n",
       "<style scoped>\n",
       "    .dataframe tbody tr th:only-of-type {\n",
       "        vertical-align: middle;\n",
       "    }\n",
       "\n",
       "    .dataframe tbody tr th {\n",
       "        vertical-align: top;\n",
       "    }\n",
       "\n",
       "    .dataframe thead th {\n",
       "        text-align: right;\n",
       "    }\n",
       "</style>\n",
       "<table border=\"1\" class=\"dataframe\">\n",
       "  <thead>\n",
       "    <tr style=\"text-align: right;\">\n",
       "      <th></th>\n",
       "      <th>Unnamed: 0</th>\n",
       "      <th>username</th>\n",
       "      <th>flair_text</th>\n",
       "      <th>body</th>\n",
       "      <th>tokens_new</th>\n",
       "      <th>normalized_tokens</th>\n",
       "      <th>normalized_tokens_count</th>\n",
       "      <th>word_count</th>\n",
       "    </tr>\n",
       "  </thead>\n",
       "  <tbody>\n",
       "    <tr>\n",
       "      <th>3312</th>\n",
       "      <td>3618</td>\n",
       "      <td>aduogetsatastegouda</td>\n",
       "      <td>NaN</td>\n",
       "      <td>But that's irrelevant. The right not to be dis...</td>\n",
       "      <td>[But, that, 's, irrelevant, The, right, not, t...</td>\n",
       "      <td>[irrelevant, right, discriminate, base, race, ...</td>\n",
       "      <td>38</td>\n",
       "      <td>84</td>\n",
       "    </tr>\n",
       "    <tr>\n",
       "      <th>3313</th>\n",
       "      <td>3619</td>\n",
       "      <td>rentonwong</td>\n",
       "      <td>Support Asian-American Media!</td>\n",
       "      <td>Despite my dislike of AA, at least 2/3rds of A...</td>\n",
       "      <td>[Despite, my, dislike, of, AA, at, least, 2/3r...</td>\n",
       "      <td>[despite, dislike, aa, 2/3rds, asian, american...</td>\n",
       "      <td>19</td>\n",
       "      <td>32</td>\n",
       "    </tr>\n",
       "    <tr>\n",
       "      <th>3314</th>\n",
       "      <td>3620</td>\n",
       "      <td>rentonwong</td>\n",
       "      <td>Support Asian-American Media!</td>\n",
       "      <td>&gt; If 1/3 of a racial minority's members say th...</td>\n",
       "      <td>[&gt;, If, 1/3, of, a, racial, minority, 's, memb...</td>\n",
       "      <td>[&gt;, racial, minority, member, want, discrimina...</td>\n",
       "      <td>27</td>\n",
       "      <td>61</td>\n",
       "    </tr>\n",
       "    <tr>\n",
       "      <th>3315</th>\n",
       "      <td>3621</td>\n",
       "      <td>NaN</td>\n",
       "      <td>NaN</td>\n",
       "      <td>I'm just annoyed at how there's so much handwa...</td>\n",
       "      <td>[I, 'm, just, annoyed, at, how, there, 's, so,...</td>\n",
       "      <td>[m, annoyed, handwaving, consequence, pro, aa,...</td>\n",
       "      <td>48</td>\n",
       "      <td>117</td>\n",
       "    </tr>\n",
       "    <tr>\n",
       "      <th>3316</th>\n",
       "      <td>3622</td>\n",
       "      <td>rentonwong</td>\n",
       "      <td>Support Asian-American Media!</td>\n",
       "      <td>The current system as it stands preserves whil...</td>\n",
       "      <td>[The, current, system, as, it, stands, preserv...</td>\n",
       "      <td>[current, system, stand, preserve, privilege, ...</td>\n",
       "      <td>49</td>\n",
       "      <td>102</td>\n",
       "    </tr>\n",
       "  </tbody>\n",
       "</table>\n",
       "</div>"
      ],
      "text/plain": [
       "      Unnamed: 0             username                     flair_text  \\\n",
       "3312        3618  aduogetsatastegouda                            NaN   \n",
       "3313        3619           rentonwong  Support Asian-American Media!   \n",
       "3314        3620           rentonwong  Support Asian-American Media!   \n",
       "3315        3621                  NaN                            NaN   \n",
       "3316        3622           rentonwong  Support Asian-American Media!   \n",
       "\n",
       "                                                   body  \\\n",
       "3312  But that's irrelevant. The right not to be dis...   \n",
       "3313  Despite my dislike of AA, at least 2/3rds of A...   \n",
       "3314  > If 1/3 of a racial minority's members say th...   \n",
       "3315  I'm just annoyed at how there's so much handwa...   \n",
       "3316  The current system as it stands preserves whil...   \n",
       "\n",
       "                                             tokens_new  \\\n",
       "3312  [But, that, 's, irrelevant, The, right, not, t...   \n",
       "3313  [Despite, my, dislike, of, AA, at, least, 2/3r...   \n",
       "3314  [>, If, 1/3, of, a, racial, minority, 's, memb...   \n",
       "3315  [I, 'm, just, annoyed, at, how, there, 's, so,...   \n",
       "3316  [The, current, system, as, it, stands, preserv...   \n",
       "\n",
       "                                      normalized_tokens  \\\n",
       "3312  [irrelevant, right, discriminate, base, race, ...   \n",
       "3313  [despite, dislike, aa, 2/3rds, asian, american...   \n",
       "3314  [>, racial, minority, member, want, discrimina...   \n",
       "3315  [m, annoyed, handwaving, consequence, pro, aa,...   \n",
       "3316  [current, system, stand, preserve, privilege, ...   \n",
       "\n",
       "      normalized_tokens_count  word_count  \n",
       "3312                       38          84  \n",
       "3313                       19          32  \n",
       "3314                       27          61  \n",
       "3315                       48         117  \n",
       "3316                       49         102  "
      ]
     },
     "execution_count": 41,
     "metadata": {},
     "output_type": "execute_result"
    }
   ],
   "source": [
    "comments_df.tail(5)"
   ]
  },
  {
   "cell_type": "code",
   "execution_count": 42,
   "metadata": {},
   "outputs": [
    {
     "name": "stdout",
     "output_type": "stream",
     "text": [
      "There are 130649 bigrams in the finder.\n"
     ]
    }
   ],
   "source": [
    "bigrams = nltk.collocations.BigramCollocationFinder.from_words(comments_df['normalized_tokens'].sum())\n",
    "print(f'There are {bigrams.N} bigrams in the finder.')"
   ]
  },
  {
   "cell_type": "markdown",
   "metadata": {},
   "source": [
    "Note: Why are there so many bigrams? 130955 of them?"
   ]
  },
  {
   "cell_type": "code",
   "execution_count": 43,
   "metadata": {},
   "outputs": [
    {
     "data": {
      "text/plain": [
       "[('affirmative', 'action'),\n",
       " ('asian', 'americans'),\n",
       " ('asian', 'american'),\n",
       " ('white', 'people'),\n",
       " ('high', 'school'),\n",
       " ('college', 'admission'),\n",
       " ('race', 'base'),\n",
       " ('asian', 'student'),\n",
       " ('legacy', 'admission'),\n",
       " ('test', 'score'),\n",
       " ('ivy', 'league'),\n",
       " ('white', 'student'),\n",
       " ('high', 'education'),\n",
       " ('black', 'hispanic'),\n",
       " ('support', 'affirmative'),\n",
       " ('black', 'people'),\n",
       " ('student', 'body'),\n",
       " ('asian', 'applicant'),\n",
       " ('model', 'minority'),\n",
       " ('black', 'latino'),\n",
       " ('chinese', 'americans'),\n",
       " ('middle', 'class'),\n",
       " ('supreme', 'court'),\n",
       " ('black', 'student'),\n",
       " ('asian', 'kid'),\n",
       " ('sit', 'score'),\n",
       " ('feel', 'like'),\n",
       " ('african', 'american'),\n",
       " ('admission', 'officer'),\n",
       " ('east', 'asians'),\n",
       " ('m', 'sure'),\n",
       " ('admission', 'process'),\n",
       " ('asian', 'people'),\n",
       " ('minority', 'group'),\n",
       " ('holistic', 'admission'),\n",
       " ('white', 'supremacy'),\n",
       " ('african', 'americans'),\n",
       " ('base', 'affirmative'),\n",
       " ('personality', 'score'),\n",
       " ('american', 'student'),\n",
       " ('elite', 'school'),\n",
       " ('low', 'income'),\n",
       " ('united', 'states'),\n",
       " ('white', 'applicant'),\n",
       " ('american', 'applicant'),\n",
       " ('anti', 'asian'),\n",
       " ('racial', 'discrimination'),\n",
       " ('admission', 'office'),\n",
       " ('base', 'aa'),\n",
       " ('base', 'race')]"
      ]
     },
     "execution_count": 43,
     "metadata": {},
     "output_type": "execute_result"
    }
   ],
   "source": [
    "def bigramScoring(count, wordsTuple, total):\n",
    "    return count\n",
    "bigrams.nbest(bigramScoring, 50)"
   ]
  },
  {
   "cell_type": "code",
   "execution_count": 44,
   "metadata": {},
   "outputs": [
    {
     "ename": "NameError",
     "evalue": "name 'whBigrams' is not defined",
     "output_type": "error",
     "traceback": [
      "\u001b[1;31m---------------------------------------------------------------------------\u001b[0m",
      "\u001b[1;31mNameError\u001b[0m                                 Traceback (most recent call last)",
      "\u001b[1;32m<ipython-input-44-a30da3c9b755>\u001b[0m in \u001b[0;36m<module>\u001b[1;34m\u001b[0m\n\u001b[0;32m      1\u001b[0m \u001b[0mbigram_measures\u001b[0m \u001b[1;33m=\u001b[0m \u001b[0mnltk\u001b[0m\u001b[1;33m.\u001b[0m\u001b[0mcollocations\u001b[0m\u001b[1;33m.\u001b[0m\u001b[0mBigramAssocMeasures\u001b[0m\u001b[1;33m(\u001b[0m\u001b[1;33m)\u001b[0m\u001b[1;33m\u001b[0m\u001b[1;33m\u001b[0m\u001b[0m\n\u001b[1;32m----> 2\u001b[1;33m \u001b[0mwhBigrams\u001b[0m\u001b[1;33m.\u001b[0m\u001b[0mscore_ngrams\u001b[0m\u001b[1;33m(\u001b[0m\u001b[0mbigram_measures\u001b[0m\u001b[1;33m.\u001b[0m\u001b[0mlikelihood_ratio\u001b[0m\u001b[1;33m)\u001b[0m\u001b[1;33m[\u001b[0m\u001b[1;33m:\u001b[0m\u001b[1;36m40\u001b[0m\u001b[1;33m]\u001b[0m\u001b[1;33m\u001b[0m\u001b[1;33m\u001b[0m\u001b[0m\n\u001b[0m\u001b[0;32m      3\u001b[0m \u001b[1;31m# other options include student_t, chi_sq, likelihood_ratio, pmi\u001b[0m\u001b[1;33m\u001b[0m\u001b[1;33m\u001b[0m\u001b[1;33m\u001b[0m\u001b[0m\n",
      "\u001b[1;31mNameError\u001b[0m: name 'whBigrams' is not defined"
     ]
    }
   ],
   "source": [
    "bigram_measures = nltk.collocations.BigramAssocMeasures()\n",
    "whBigrams.score_ngrams(bigram_measures.likelihood_ratio)[:40]\n",
    "# other options include student_t, chi_sq, likelihood_ratio, pmi"
   ]
  },
  {
   "cell_type": "markdown",
   "metadata": {},
   "source": [
    "***Come back to collocations and n-grams after finding out what role it would play:***\n",
    "- Would some of the statistically significant n-grams be terms in the td-idf matrix?"
   ]
  },
  {
   "cell_type": "markdown",
   "metadata": {},
   "source": [
    "### 2. CountVectorizer"
   ]
  },
  {
   "cell_type": "markdown",
   "metadata": {},
   "source": [
    "First, before vectorizing, convert normalized_tokens column from list to string type"
   ]
  },
  {
   "cell_type": "code",
   "execution_count": 111,
   "metadata": {},
   "outputs": [],
   "source": [
    "comments_df['normalized_tokens_str'] = comments_df['normalized_tokens'].apply(lambda x: ' '.join(item for item in x))"
   ]
  },
  {
   "cell_type": "code",
   "execution_count": 112,
   "metadata": {},
   "outputs": [
    {
     "name": "stdout",
     "output_type": "stream",
     "text": [
      "thank engage insightful respectful discourse news thread lock comment\n"
     ]
    },
    {
     "data": {
      "text/html": [
       "<div>\n",
       "<style scoped>\n",
       "    .dataframe tbody tr th:only-of-type {\n",
       "        vertical-align: middle;\n",
       "    }\n",
       "\n",
       "    .dataframe tbody tr th {\n",
       "        vertical-align: top;\n",
       "    }\n",
       "\n",
       "    .dataframe thead th {\n",
       "        text-align: right;\n",
       "    }\n",
       "</style>\n",
       "<table border=\"1\" class=\"dataframe\">\n",
       "  <thead>\n",
       "    <tr style=\"text-align: right;\">\n",
       "      <th></th>\n",
       "      <th>Unnamed: 0</th>\n",
       "      <th>username</th>\n",
       "      <th>flair_text</th>\n",
       "      <th>body</th>\n",
       "      <th>tokens_new</th>\n",
       "      <th>normalized_tokens</th>\n",
       "      <th>normalized_tokens_count</th>\n",
       "      <th>word_count</th>\n",
       "      <th>normalized_tokens_str</th>\n",
       "    </tr>\n",
       "  </thead>\n",
       "  <tbody>\n",
       "    <tr>\n",
       "      <th>0</th>\n",
       "      <td>0</td>\n",
       "      <td>Tungsten_</td>\n",
       "      <td>NaN</td>\n",
       "      <td>Thanks to everyone who engaged in insightful a...</td>\n",
       "      <td>[Thanks, to, everyone, who, engaged, in, insig...</td>\n",
       "      <td>[thank, engage, insightful, respectful, discou...</td>\n",
       "      <td>9</td>\n",
       "      <td>20</td>\n",
       "      <td>thank engage insightful respectful discourse n...</td>\n",
       "    </tr>\n",
       "    <tr>\n",
       "      <th>1</th>\n",
       "      <td>1</td>\n",
       "      <td>ProudBlackMatt</td>\n",
       "      <td>Chinese-American</td>\n",
       "      <td>I would prefer using a process that takes into...</td>\n",
       "      <td>[I, would, prefer, using, a, process, that, ta...</td>\n",
       "      <td>[prefer, process, take, account, poverty, inst...</td>\n",
       "      <td>52</td>\n",
       "      <td>103</td>\n",
       "      <td>prefer process take account poverty instead ge...</td>\n",
       "    </tr>\n",
       "    <tr>\n",
       "      <th>2</th>\n",
       "      <td>2</td>\n",
       "      <td>TomatoCanned</td>\n",
       "      <td>NaN</td>\n",
       "      <td>u/Tungsten_, Thanks for creating a section jus...</td>\n",
       "      <td>[u/Tungsten_,, Thanks, for, creating, a, secti...</td>\n",
       "      <td>[u/tungsten_,, thank, create, section, discuss...</td>\n",
       "      <td>126</td>\n",
       "      <td>269</td>\n",
       "      <td>u/tungsten_, thank create section discuss read...</td>\n",
       "    </tr>\n",
       "    <tr>\n",
       "      <th>3</th>\n",
       "      <td>3</td>\n",
       "      <td>bad-fengshui</td>\n",
       "      <td>NaN</td>\n",
       "      <td>As with anything related to Asians in politics...</td>\n",
       "      <td>[As, with, anything, related, to, Asians, in, ...</td>\n",
       "      <td>[relate, asians, politic, m, see, lot, non, as...</td>\n",
       "      <td>25</td>\n",
       "      <td>59</td>\n",
       "      <td>relate asians politic m see lot non asian peop...</td>\n",
       "    </tr>\n",
       "    <tr>\n",
       "      <th>4</th>\n",
       "      <td>4</td>\n",
       "      <td>Pancake_muncher</td>\n",
       "      <td>NaN</td>\n",
       "      <td>Yet colleges will allow alumni and doners in e...</td>\n",
       "      <td>[Yet, colleges, will, allow, alumni, and, done...</td>\n",
       "      <td>[college, allow, alumnus, doner, easily, consi...</td>\n",
       "      <td>19</td>\n",
       "      <td>40</td>\n",
       "      <td>college allow alumnus doner easily consider me...</td>\n",
       "    </tr>\n",
       "  </tbody>\n",
       "</table>\n",
       "</div>"
      ],
      "text/plain": [
       "   Unnamed: 0         username        flair_text  \\\n",
       "0           0        Tungsten_               NaN   \n",
       "1           1   ProudBlackMatt  Chinese-American   \n",
       "2           2     TomatoCanned               NaN   \n",
       "3           3     bad-fengshui               NaN   \n",
       "4           4  Pancake_muncher               NaN   \n",
       "\n",
       "                                                body  \\\n",
       "0  Thanks to everyone who engaged in insightful a...   \n",
       "1  I would prefer using a process that takes into...   \n",
       "2  u/Tungsten_, Thanks for creating a section jus...   \n",
       "3  As with anything related to Asians in politics...   \n",
       "4  Yet colleges will allow alumni and doners in e...   \n",
       "\n",
       "                                          tokens_new  \\\n",
       "0  [Thanks, to, everyone, who, engaged, in, insig...   \n",
       "1  [I, would, prefer, using, a, process, that, ta...   \n",
       "2  [u/Tungsten_,, Thanks, for, creating, a, secti...   \n",
       "3  [As, with, anything, related, to, Asians, in, ...   \n",
       "4  [Yet, colleges, will, allow, alumni, and, done...   \n",
       "\n",
       "                                   normalized_tokens  normalized_tokens_count  \\\n",
       "0  [thank, engage, insightful, respectful, discou...                        9   \n",
       "1  [prefer, process, take, account, poverty, inst...                       52   \n",
       "2  [u/tungsten_,, thank, create, section, discuss...                      126   \n",
       "3  [relate, asians, politic, m, see, lot, non, as...                       25   \n",
       "4  [college, allow, alumnus, doner, easily, consi...                       19   \n",
       "\n",
       "   word_count                              normalized_tokens_str  \n",
       "0          20  thank engage insightful respectful discourse n...  \n",
       "1         103  prefer process take account poverty instead ge...  \n",
       "2         269  u/tungsten_, thank create section discuss read...  \n",
       "3          59  relate asians politic m see lot non asian peop...  \n",
       "4          40  college allow alumnus doner easily consider me...  "
      ]
     },
     "execution_count": 112,
     "metadata": {},
     "output_type": "execute_result"
    }
   ],
   "source": [
    "print(comments_df['normalized_tokens_str'][0])\n",
    "comments_df.head(5)"
   ]
  },
  {
   "cell_type": "code",
   "execution_count": 113,
   "metadata": {},
   "outputs": [],
   "source": [
    "count_vectorizer = sklearn.feature_extraction.text.CountVectorizer()\n",
    "count_vector = count_vectorizer.fit_transform(comments_df['normalized_tokens_str'])"
   ]
  },
  {
   "cell_type": "code",
   "execution_count": 114,
   "metadata": {},
   "outputs": [
    {
     "name": "stdout",
     "output_type": "stream",
     "text": [
      "(3283, 10416)\n"
     ]
    }
   ],
   "source": [
    "print(count_vector.shape)"
   ]
  },
  {
   "cell_type": "markdown",
   "metadata": {},
   "source": [
    "- 3283 rows, 10416 columns/unique tokens"
   ]
  },
  {
   "cell_type": "markdown",
   "metadata": {},
   "source": [
    "### 3. TD-IDF Vectorizer"
   ]
  },
  {
   "cell_type": "code",
   "execution_count": 115,
   "metadata": {},
   "outputs": [],
   "source": [
    "tdidf_transformer = sklearn.feature_extraction.text.TfidfTransformer()\n",
    "tdidf_vector = tdidf_transformer.fit_transform(count_vector)"
   ]
  },
  {
   "cell_type": "code",
   "execution_count": 116,
   "metadata": {},
   "outputs": [
    {
     "data": {
      "text/plain": [
       "[('thank', 0.2780200460567064),\n",
       " ('engage', 0.26195927494969323),\n",
       " ('insightful', 0.43215032574037665),\n",
       " ('respectful', 0.2575158754452915),\n",
       " ('discourse', 0.3727913011076437),\n",
       " ('news', 0.416606600805565),\n",
       " ('thread', 0.3353399263238714),\n",
       " ('lock', 0.35292279562425094),\n",
       " ('comment', 0.22687459584571354),\n",
       " ('prefer', 0.08876180082890424),\n",
       " ('process', 0.16869934059802721),\n",
       " ('take', 0.10273522940576957),\n",
       " ('account', 0.09721605705964464),\n",
       " ('poverty', 0.12282557059523336),\n",
       " ('instead', 0.11604808805308388),\n",
       " ('generation', 0.11604808805308388),\n",
       " ('family', 0.10873273422159661),\n",
       " ('come', 0.1451705776706874),\n",
       " ('america', 0.1381517221258386),\n",
       " ('painfully', 0.11937042691013038)]"
      ]
     },
     "execution_count": 116,
     "metadata": {},
     "output_type": "execute_result"
    }
   ],
   "source": [
    "list(zip(count_vectorizer.vocabulary_.keys(), tdidf_vector.data))[:20]"
   ]
  },
  {
   "cell_type": "markdown",
   "metadata": {},
   "source": [
    "### 4. Prune Matrix of features"
   ]
  },
  {
   "cell_type": "code",
   "execution_count": 117,
   "metadata": {},
   "outputs": [],
   "source": [
    "#initialize\n",
    "prune_vectorizer = sklearn.feature_extraction.text.TfidfVectorizer(min_df=3, max_features=1000, stop_words='english', norm='l2') # why norm=l2?\n",
    "#train\n",
    "pruned_vec = prune_vectorizer.fit_transform(comments_df['normalized_tokens_str'])"
   ]
  },
  {
   "cell_type": "markdown",
   "metadata": {},
   "source": [
    "- min document freq=3 because low document frequency inflates td-idf\n",
    "- An idea: visualize document freq of each word"
   ]
  },
  {
   "cell_type": "code",
   "execution_count": 118,
   "metadata": {},
   "outputs": [
    {
     "data": {
      "text/plain": [
       "<3283x1000 sparse matrix of type '<class 'numpy.float64'>'\n",
       "\twith 72475 stored elements in Compressed Sparse Row format>"
      ]
     },
     "execution_count": 118,
     "metadata": {},
     "output_type": "execute_result"
    }
   ],
   "source": [
    "pruned_vec"
   ]
  },
  {
   "cell_type": "markdown",
   "metadata": {},
   "source": [
    "Now, matrix is only 1000 terms/columns"
   ]
  },
  {
   "cell_type": "code",
   "execution_count": 119,
   "metadata": {},
   "outputs": [
    {
     "name": "stdout",
     "output_type": "stream",
     "text": [
      "744\n"
     ]
    }
   ],
   "source": [
    "# try to find term in matrix\n",
    "termtofind = 'remove'\n",
    "try:\n",
    "    print(prune_vectorizer.vocabulary_[termtofind])\n",
    "except KeyError:\n",
    "    print(f'\"{termtofind}\" is missing')\n",
    "    print('The available words are: {} ...'.format(list(prune_vectorizer.vocabulary_.keys())[:10]))"
   ]
  },
  {
   "cell_type": "markdown",
   "metadata": {},
   "source": [
    "### 5. Flat Clustering with K-means"
   ]
  },
  {
   "cell_type": "markdown",
   "metadata": {},
   "source": [
    "Silhouette method:"
   ]
  },
  {
   "cell_type": "markdown",
   "metadata": {},
   "source": [
    "First let's initialize our PCA"
   ]
  },
  {
   "cell_type": "code",
   "execution_count": 120,
   "metadata": {},
   "outputs": [],
   "source": [
    "PCA = sklearn.decomposition.PCA\n",
    "pca = PCA(n_components = 2).fit(pruned_vec.toarray())\n",
    "reduced_data = pca.transform(pruned_vec.toarray())"
   ]
  },
  {
   "cell_type": "markdown",
   "metadata": {},
   "source": [
    "Silhouette plot helper function:"
   ]
  },
  {
   "cell_type": "code",
   "execution_count": 121,
   "metadata": {},
   "outputs": [],
   "source": [
    "def plotSilhouette(n_clusters, X):\n",
    "    fig, (ax1, ax2) = plt.subplots(ncols=2, figsize=(15,5))\n",
    "\n",
    "    #ax1.set_xlim([-0.1, 1])\n",
    "    ax1.set_ylim([0, len(X) + (n_clusters + 1) * 10])\n",
    "    clusterer = sklearn.cluster.KMeans(n_clusters=n_clusters, random_state=10)\n",
    "    cluster_labels = clusterer.fit_predict(X)\n",
    "\n",
    "    # compute mean silhouette scores/coefficient over all samples\n",
    "    silh_avg = sklearn.metrics.silhouette_score(X, cluster_labels)\n",
    "\n",
    "    # Compute silhouette coefficient for each sample\n",
    "    sample_silh_values = sklearn.metrics.silhouette_samples(X, cluster_labels)\n",
    "\n",
    "    y_lower = 10\n",
    "\n",
    "    for i in range(n_clusters):\n",
    "        # get silh scores for cluster\n",
    "        ith_cluster_silh_values = sample_silh_values[cluster_labels==i]\n",
    "        ith_cluster_silh_values.sort()\n",
    "\n",
    "        cluster_size = ith_cluster_silh_values.shape[0]\n",
    "        y_upper = y_lower + cluster_size\n",
    "        cmap = matplotlib.cm.get_cmap('nipy_spectral')\n",
    "        color = cmap(float(i)/n_clusters)\n",
    "        ax1.fill_betweenx(np.arange(y_lower,y_upper), 0, ith_cluster_silh_values, facecolor=color, \n",
    "                          edgecolor=color, alpha=0.7)\n",
    "        \n",
    "        ax1.text(-0.05, y_lower + 0.5 * cluster_size, str(i))\n",
    "\n",
    "        y_lower = y_upper + 10\n",
    "    \n",
    "    ax1.set_title('Silhoutte plot for each cluster')\n",
    "    ax1.set_xlabel('Silhouette score')\n",
    "    ax1.set_ylabel('Cluster label')\n",
    "\n",
    "    ax1.axvline(x=silh_avg, color='red', linestyle='--')\n",
    "\n",
    "    ax1.set_yticks([]) # clear y-axis label and ticks\n",
    "    #ax1.set_xticks([-0.1, 0, 0.2, 0.4, 0.6, 0.8, 1])\n",
    "\n",
    "    # 2nd Plot showing the actual clusters formed\n",
    "    cmap = matplotlib.cm.get_cmap(\"nipy_spectral\")\n",
    "    colors = cmap(float(i) / n_clusters)\n",
    "    ax2.scatter(reduced_data[:, 0], reduced_data[:, 1], marker='.', s=30, lw=0, alpha=0.7,\n",
    "                c=colors)\n",
    "\n",
    "    # label clusters\n",
    "    centers = clusterer.cluster_centers_\n",
    "    projected_centers = pca.transform(centers)\n",
    "    # draw white circles at cluster centers\n",
    "    ax2.scatter(projected_centers[:, 0], projected_centers[:, 1], marker='o', c='white', alpha=1, s=200)\n",
    "    # write in cluster number in the centers\n",
    "    for i, c in enumerate(projected_centers):\n",
    "        ax2.scatter(c[0], c[1], marker='$%d$' % i, alpha=1, s=50)\n",
    "    \n",
    "    ax2.set_title('Visual of clustered data')\n",
    "    ax2.set_xlabel('PC 1')\n",
    "    ax2.set_ylabel('PC 2')\n",
    "\n",
    "    plt.suptitle(f'Silhouette analysis for KMeans clustering with n_clusters={n_clusters}', fontsize=14, fontweight='bold')\n",
    "    plt.show()\n",
    "\n",
    "    print(f\"For n_clusters = {n_clusters}, The average silhouette_score is : {silh_avg}\")\n",
    "\n",
    "    return cluster_labels"
   ]
  },
  {
   "cell_type": "code",
   "execution_count": 122,
   "metadata": {},
   "outputs": [
    {
     "name": "stderr",
     "output_type": "stream",
     "text": [
      "'c' argument looks like a single numeric RGB or RGBA sequence, which should be avoided as value-mapping will have precedence in case its length matches with 'x' & 'y'.  Please use a 2-D array with a single row if you really want to specify the same RGB or RGBA value for all points.\n"
     ]
    },
    {
     "data": {
      "image/png": "[encoded data removed]",
      "text/plain": [
       "<Figure size 1080x360 with 2 Axes>"
      ]
     },
     "metadata": {
      "needs_background": "light"
     },
     "output_type": "display_data"
    },
    {
     "name": "stdout",
     "output_type": "stream",
     "text": [
      "For n_clusters = 2, The average silhouette_score is : 0.007789599172877796\n"
     ]
    }
   ],
   "source": [
    "X = pruned_vec.toarray()\n",
    "two_clusters_labels = plotSilhouette(2, X)"
   ]
  },
  {
   "cell_type": "code",
   "execution_count": 123,
   "metadata": {},
   "outputs": [
    {
     "name": "stderr",
     "output_type": "stream",
     "text": [
      "'c' argument looks like a single numeric RGB or RGBA sequence, which should be avoided as value-mapping will have precedence in case its length matches with 'x' & 'y'.  Please use a 2-D array with a single row if you really want to specify the same RGB or RGBA value for all points.\n"
     ]
    },
    {
     "data": {
      "image/png": "[encoded data removed]",
      "text/plain": [
       "<Figure size 1080x360 with 2 Axes>"
      ]
     },
     "metadata": {
      "needs_background": "light"
     },
     "output_type": "display_data"
    },
    {
     "name": "stdout",
     "output_type": "stream",
     "text": [
      "For n_clusters = 3, The average silhouette_score is : 0.009472908533114235\n"
     ]
    },
    {
     "data": {
      "text/plain": [
       "array([0, 1, 2, ..., 0, 1, 1])"
      ]
     },
     "execution_count": 123,
     "metadata": {},
     "output_type": "execute_result"
    }
   ],
   "source": [
    "X = pruned_vec.toarray()\n",
    "plotSilhouette(3, X)"
   ]
  },
  {
   "cell_type": "code",
   "execution_count": 124,
   "metadata": {},
   "outputs": [
    {
     "name": "stderr",
     "output_type": "stream",
     "text": [
      "'c' argument looks like a single numeric RGB or RGBA sequence, which should be avoided as value-mapping will have precedence in case its length matches with 'x' & 'y'.  Please use a 2-D array with a single row if you really want to specify the same RGB or RGBA value for all points.\n"
     ]
    },
    {
     "data": {
      "image/png": "[encoded data removed]",
      "text/plain": [
       "<Figure size 1080x360 with 2 Axes>"
      ]
     },
     "metadata": {
      "needs_background": "light"
     },
     "output_type": "display_data"
    },
    {
     "name": "stdout",
     "output_type": "stream",
     "text": [
      "For n_clusters = 4, The average silhouette_score is : 0.010552463928595596\n"
     ]
    },
    {
     "data": {
      "text/plain": [
       "array([1, 3, 0, ..., 1, 3, 3])"
      ]
     },
     "execution_count": 124,
     "metadata": {},
     "output_type": "execute_result"
    }
   ],
   "source": [
    "X = pruned_vec.toarray()\n",
    "plotSilhouette(4, X)"
   ]
  },
  {
   "cell_type": "markdown",
   "metadata": {},
   "source": [
    "Q: Get num of points in each cluster. Need to investigate why some clusters look like there is 1 observation in it.\n",
    "\n",
    "A: There were undropped rows that had deleted comments (e.g. [deleted], [removed])"
   ]
  },
  {
   "cell_type": "code",
   "execution_count": 125,
   "metadata": {},
   "outputs": [
    {
     "name": "stderr",
     "output_type": "stream",
     "text": [
      "'c' argument looks like a single numeric RGB or RGBA sequence, which should be avoided as value-mapping will have precedence in case its length matches with 'x' & 'y'.  Please use a 2-D array with a single row if you really want to specify the same RGB or RGBA value for all points.\n"
     ]
    },
    {
     "data": {
      "image/png": "[encoded data removed]",
      "text/plain": [
       "<Figure size 1080x360 with 2 Axes>"
      ]
     },
     "metadata": {
      "needs_background": "light"
     },
     "output_type": "display_data"
    },
    {
     "name": "stdout",
     "output_type": "stream",
     "text": [
      "For n_clusters = 5, The average silhouette_score is : 0.011888292354667304\n"
     ]
    },
    {
     "data": {
      "text/plain": [
       "array([1, 0, 2, ..., 0, 0, 0])"
      ]
     },
     "execution_count": 125,
     "metadata": {},
     "output_type": "execute_result"
    }
   ],
   "source": [
    "X = pruned_vec.toarray()\n",
    "plotSilhouette(5, X)"
   ]
  },
  {
   "cell_type": "code",
   "execution_count": 132,
   "metadata": {},
   "outputs": [
    {
     "name": "stderr",
     "output_type": "stream",
     "text": [
      "'c' argument looks like a single numeric RGB or RGBA sequence, which should be avoided as value-mapping will have precedence in case its length matches with 'x' & 'y'.  Please use a 2-D array with a single row if you really want to specify the same RGB or RGBA value for all points.\n"
     ]
    },
    {
     "data": {
      "image/png": "[encoded data removed]",
      "text/plain": [
       "<Figure size 1080x360 with 2 Axes>"
      ]
     },
     "metadata": {
      "needs_background": "light"
     },
     "output_type": "display_data"
    },
    {
     "name": "stdout",
     "output_type": "stream",
     "text": [
      "For n_clusters = 10, The average silhouette_score is : 0.015220596572741543\n"
     ]
    },
    {
     "data": {
      "text/plain": [
       "array([9, 4, 5, ..., 8, 4, 8])"
      ]
     },
     "execution_count": 132,
     "metadata": {},
     "output_type": "execute_result"
    }
   ],
   "source": [
    "X = pruned_vec.toarray()\n",
    "plotSilhouette(10, X)"
   ]
  },
  {
   "cell_type": "code",
   "execution_count": 134,
   "metadata": {},
   "outputs": [
    {
     "name": "stderr",
     "output_type": "stream",
     "text": [
      "'c' argument looks like a single numeric RGB or RGBA sequence, which should be avoided as value-mapping will have precedence in case its length matches with 'x' & 'y'.  Please use a 2-D array with a single row if you really want to specify the same RGB or RGBA value for all points.\n"
     ]
    },
    {
     "data": {
      "image/png": "[encoded data removed]",
      "text/plain": [
       "<Figure size 1080x360 with 2 Axes>"
      ]
     },
     "metadata": {
      "needs_background": "light"
     },
     "output_type": "display_data"
    },
    {
     "name": "stdout",
     "output_type": "stream",
     "text": [
      "For n_clusters = 50, The average silhouette_score is : 0.02411296829917179\n"
     ]
    },
    {
     "data": {
      "text/plain": [
       "array([14, 28, 21, ..., 11, 22, 19])"
      ]
     },
     "execution_count": 134,
     "metadata": {},
     "output_type": "execute_result"
    }
   ],
   "source": [
    "X = pruned_vec.toarray()\n",
    "plotSilhouette(50, X)"
   ]
  },
  {
   "cell_type": "markdown",
   "metadata": {},
   "source": [
    "***Interpret:*** \n",
    "The low average silhouettte scores may indicate that it is difficult to separate samples between clusters -- there may not be distinct clusters of samples."
   ]
  },
  {
   "cell_type": "markdown",
   "metadata": {},
   "source": [
    "Look at distinguishing features in each cluster for n=2:"
   ]
  },
  {
   "cell_type": "code",
   "execution_count": 126,
   "metadata": {},
   "outputs": [],
   "source": [
    "numClusters=2"
   ]
  },
  {
   "cell_type": "code",
   "execution_count": 128,
   "metadata": {},
   "outputs": [
    {
     "data": {
      "text/plain": [
       "KMeans(algorithm='auto', copy_x=True, init='k-means++', max_iter=300,\n",
       "       n_clusters=2, n_init=10, n_jobs=None, precompute_distances='auto',\n",
       "       random_state=None, tol=0.0001, verbose=0)"
      ]
     },
     "execution_count": 128,
     "metadata": {},
     "output_type": "execute_result"
    }
   ],
   "source": [
    "km = sklearn.cluster.KMeans(n_clusters=numClusters, init='k-means++')\n",
    "km.fit(pruned_vec)"
   ]
  },
  {
   "cell_type": "code",
   "execution_count": 129,
   "metadata": {},
   "outputs": [],
   "source": [
    "comments_df['kmeans_predictions'] = km.labels_"
   ]
  },
  {
   "cell_type": "code",
   "execution_count": 130,
   "metadata": {},
   "outputs": [
    {
     "name": "stdout",
     "output_type": "stream",
     "text": [
      "[[0.00071971 0.00112041 0.00123311 ... 0.00760747 0.0004009  0.00213186]\n",
      " [0.00345957 0.00345282 0.00221628 ... 0.00827603 0.00069047 0.00099212]]\n",
      "999\n",
      "999\n",
      " asian\n",
      " people\n",
      " white\n",
      " asians\n",
      " aa\n",
      " think\n",
      " school\n",
      " like\n",
      " student\n",
      " harvard\n",
      " race\n",
      " admission\n",
      " black\n",
      " americans\n",
      " minority\n"
     ]
    }
   ],
   "source": [
    "# investigating how getting distinguishing features in each cluster works\n",
    "\n",
    "print(km.cluster_centers_)\n",
    "arg_sorted_asc = km.cluster_centers_.argsort()\n",
    "print(np.max(arg_sorted_asc[0,:]))\n",
    "print(np.max(arg_sorted_asc[1,:]))\n",
    "\n",
    "arg_sorted_desc = arg_sorted_asc[:,::-1]\n",
    "\n",
    "terms = prune_vectorizer.get_feature_names()\n",
    "for ind in arg_sorted_desc[0, :15]:\n",
    "        print(' %s' % terms[ind])"
   ]
  },
  {
   "cell_type": "code",
   "execution_count": 131,
   "metadata": {},
   "outputs": [
    {
     "name": "stdout",
     "output_type": "stream",
     "text": [
      "Top terms per cluster:\n",
      "Cluster 0:\n",
      " asian\n",
      " people\n",
      " white\n",
      " asians\n",
      " aa\n",
      " think\n",
      " school\n",
      " like\n",
      " student\n",
      " harvard\n",
      " race\n",
      " admission\n",
      " black\n",
      " americans\n",
      " minority\n",
      "\n",
      "\n",
      "Cluster 1:\n",
      " action\n",
      " affirmative\n",
      " asian\n",
      " white\n",
      " americans\n",
      " people\n",
      " admission\n",
      " race\n",
      " minority\n",
      " asians\n",
      " college\n",
      " support\n",
      " student\n",
      " think\n",
      " like\n",
      "\n",
      "\n"
     ]
    }
   ],
   "source": [
    "terms = prune_vectorizer.get_feature_names()\n",
    "print(\"Top terms per cluster:\")\n",
    "order_centroids = km.cluster_centers_.argsort()[:, ::-1]\n",
    "for i in range(numClusters):\n",
    "    print(\"Cluster %d:\" % i)\n",
    "    for ind in order_centroids[i, :15]:\n",
    "        print(' %s' % terms[ind])\n",
    "    print('\\n')"
   ]
  },
  {
   "cell_type": "markdown",
   "metadata": {},
   "source": [
    "From above, we can tell that the top terms of each cluster don't really tell us distinguishing features."
   ]
  },
  {
   "cell_type": "code",
   "execution_count": 135,
   "metadata": {},
   "outputs": [],
   "source": [
    "components = pca.components_\n",
    "keyword_ids = list(set(order_centroids[:,:10].flatten())) #Get the ids of the most distinguishing words(features) from your kmeans model.\n",
    "words = [terms[i] for i in keyword_ids]#Turn the ids into words.\n",
    "x = components[:,keyword_ids][0,:] #Find the coordinates of those words in your biplot.\n",
    "y = components[:,keyword_ids][1,:]"
   ]
  },
  {
   "cell_type": "code",
   "execution_count": 136,
   "metadata": {},
   "outputs": [
    {
     "data": {
      "image/png": "[encoded data removed]",
      "text/plain": [
       "<Figure size 720x432 with 1 Axes>"
      ]
     },
     "metadata": {
      "needs_background": "light"
     },
     "output_type": "display_data"
    }
   ],
   "source": [
    "fig = plt.figure(figsize = (10,6))\n",
    "ax = fig.add_subplot(111)\n",
    "ax.scatter(reduced_data[:, 0], reduced_data[:, 1], color = 'blue', alpha = 0.2, label = comments_df['kmeans_predictions'])\n",
    "for i, word in enumerate(words):\n",
    "    ax.annotate(word, (x[i],y[i]))\n",
    "plt.xticks()\n",
    "plt.yticks()\n",
    "plt.show()"
   ]
  },
  {
   "cell_type": "code",
   "execution_count": 105,
   "metadata": {},
   "outputs": [
    {
     "name": "stdout",
     "output_type": "stream",
     "text": [
      "(array([  52,  368,  369,  377,  378,  382,  383,  395,  496,  514,  519,\n",
      "        680,  682,  718,  783,  794,  869,  871, 1305, 1491, 1595, 1602,\n",
      "       1604, 1613, 1615, 1716, 1797, 2016, 2078, 2101, 2108, 2109, 2136,\n",
      "       2211, 2232, 2248, 2411, 2431, 2497, 2677, 2735, 2771, 2791, 2800,\n",
      "       2801, 2841, 3000, 3030, 3135, 3138, 3213], dtype=int64),)\n"
     ]
    },
    {
     "data": {
      "text/html": [
       "<div>\n",
       "<style scoped>\n",
       "    .dataframe tbody tr th:only-of-type {\n",
       "        vertical-align: middle;\n",
       "    }\n",
       "\n",
       "    .dataframe tbody tr th {\n",
       "        vertical-align: top;\n",
       "    }\n",
       "\n",
       "    .dataframe thead th {\n",
       "        text-align: right;\n",
       "    }\n",
       "</style>\n",
       "<table border=\"1\" class=\"dataframe\">\n",
       "  <thead>\n",
       "    <tr style=\"text-align: right;\">\n",
       "      <th></th>\n",
       "      <th>Unnamed: 0</th>\n",
       "      <th>username</th>\n",
       "      <th>flair_text</th>\n",
       "      <th>body</th>\n",
       "      <th>tokens_new</th>\n",
       "      <th>normalized_tokens</th>\n",
       "      <th>normalized_tokens_count</th>\n",
       "      <th>word_count</th>\n",
       "      <th>normalized_tokens_str</th>\n",
       "      <th>kmeans_predictions</th>\n",
       "    </tr>\n",
       "  </thead>\n",
       "  <tbody>\n",
       "    <tr>\n",
       "      <th>52</th>\n",
       "      <td>56</td>\n",
       "      <td>LEJ5512</td>\n",
       "      <td>NaN</td>\n",
       "      <td>(posted this in another related thread)\\n\\nAls...</td>\n",
       "      <td>[posted, this, in, another, related, thread, A...</td>\n",
       "      <td>[post, related, thread, worth, listen, recent,...</td>\n",
       "      <td>14</td>\n",
       "      <td>29</td>\n",
       "      <td>post related thread worth listen recent throug...</td>\n",
       "      <td>1</td>\n",
       "    </tr>\n",
       "    <tr>\n",
       "      <th>368</th>\n",
       "      <td>401</td>\n",
       "      <td>AutoModerator</td>\n",
       "      <td>NaN</td>\n",
       "      <td>Your account is too new and has been autofilte...</td>\n",
       "      <td>[Your, account, is, too, new, and, has, been, ...</td>\n",
       "      <td>[account, new, autofiltere, build, reputation,...</td>\n",
       "      <td>24</td>\n",
       "      <td>59</td>\n",
       "      <td>account new autofiltere build reputation good ...</td>\n",
       "      <td>0</td>\n",
       "    </tr>\n",
       "    <tr>\n",
       "      <th>369</th>\n",
       "      <td>402</td>\n",
       "      <td>AutoModerator</td>\n",
       "      <td>NaN</td>\n",
       "      <td>Your account is too new and has been autofilte...</td>\n",
       "      <td>[Your, account, is, too, new, and, has, been, ...</td>\n",
       "      <td>[account, new, autofiltere, build, reputation,...</td>\n",
       "      <td>24</td>\n",
       "      <td>59</td>\n",
       "      <td>account new autofiltere build reputation good ...</td>\n",
       "      <td>0</td>\n",
       "    </tr>\n",
       "    <tr>\n",
       "      <th>377</th>\n",
       "      <td>410</td>\n",
       "      <td>AutoModerator</td>\n",
       "      <td>NaN</td>\n",
       "      <td>Your account is too new and has been autofilte...</td>\n",
       "      <td>[Your, account, is, too, new, and, has, been, ...</td>\n",
       "      <td>[account, new, autofiltere, build, reputation,...</td>\n",
       "      <td>24</td>\n",
       "      <td>59</td>\n",
       "      <td>account new autofiltere build reputation good ...</td>\n",
       "      <td>0</td>\n",
       "    </tr>\n",
       "    <tr>\n",
       "      <th>378</th>\n",
       "      <td>411</td>\n",
       "      <td>AutoModerator</td>\n",
       "      <td>NaN</td>\n",
       "      <td>Your account is too new and has been autofilte...</td>\n",
       "      <td>[Your, account, is, too, new, and, has, been, ...</td>\n",
       "      <td>[account, new, autofiltere, build, reputation,...</td>\n",
       "      <td>24</td>\n",
       "      <td>59</td>\n",
       "      <td>account new autofiltere build reputation good ...</td>\n",
       "      <td>0</td>\n",
       "    </tr>\n",
       "    <tr>\n",
       "      <th>382</th>\n",
       "      <td>416</td>\n",
       "      <td>AutoModerator</td>\n",
       "      <td>NaN</td>\n",
       "      <td>Your account is too new and has been autofilte...</td>\n",
       "      <td>[Your, account, is, too, new, and, has, been, ...</td>\n",
       "      <td>[account, new, autofiltere, build, reputation,...</td>\n",
       "      <td>24</td>\n",
       "      <td>59</td>\n",
       "      <td>account new autofiltere build reputation good ...</td>\n",
       "      <td>0</td>\n",
       "    </tr>\n",
       "    <tr>\n",
       "      <th>383</th>\n",
       "      <td>417</td>\n",
       "      <td>AutoModerator</td>\n",
       "      <td>NaN</td>\n",
       "      <td>Your account is too new and has been autofilte...</td>\n",
       "      <td>[Your, account, is, too, new, and, has, been, ...</td>\n",
       "      <td>[account, new, autofiltere, build, reputation,...</td>\n",
       "      <td>24</td>\n",
       "      <td>59</td>\n",
       "      <td>account new autofiltere build reputation good ...</td>\n",
       "      <td>0</td>\n",
       "    </tr>\n",
       "    <tr>\n",
       "      <th>395</th>\n",
       "      <td>429</td>\n",
       "      <td>AutoModerator</td>\n",
       "      <td>NaN</td>\n",
       "      <td>Your account is too new and has been autofilte...</td>\n",
       "      <td>[Your, account, is, too, new, and, has, been, ...</td>\n",
       "      <td>[account, new, autofiltere, build, reputation,...</td>\n",
       "      <td>24</td>\n",
       "      <td>59</td>\n",
       "      <td>account new autofiltere build reputation good ...</td>\n",
       "      <td>0</td>\n",
       "    </tr>\n",
       "    <tr>\n",
       "      <th>496</th>\n",
       "      <td>544</td>\n",
       "      <td>AutoModerator</td>\n",
       "      <td>NaN</td>\n",
       "      <td>Your account is too new and has been autofilte...</td>\n",
       "      <td>[Your, account, is, too, new, and, has, been, ...</td>\n",
       "      <td>[account, new, autofiltere, build, reputation,...</td>\n",
       "      <td>33</td>\n",
       "      <td>73</td>\n",
       "      <td>account new autofiltere build reputation good ...</td>\n",
       "      <td>0</td>\n",
       "    </tr>\n",
       "    <tr>\n",
       "      <th>514</th>\n",
       "      <td>563</td>\n",
       "      <td>AutoModerator</td>\n",
       "      <td>NaN</td>\n",
       "      <td>Hello, your comment has been removed for inclu...</td>\n",
       "      <td>[Hello, your, comment, has, been, removed, for...</td>\n",
       "      <td>[hello, comment, remove, include, reddit, link...</td>\n",
       "      <td>26</td>\n",
       "      <td>52</td>\n",
       "      <td>hello comment remove include reddit link link ...</td>\n",
       "      <td>0</td>\n",
       "    </tr>\n",
       "    <tr>\n",
       "      <th>519</th>\n",
       "      <td>568</td>\n",
       "      <td>AutoModerator</td>\n",
       "      <td>NaN</td>\n",
       "      <td>Your submission has been flagged for moderator...</td>\n",
       "      <td>[Your, submission, has, been, flagged, for, mo...</td>\n",
       "      <td>[submission, flag, moderator, review, patient,...</td>\n",
       "      <td>16</td>\n",
       "      <td>37</td>\n",
       "      <td>submission flag moderator review patient bot a...</td>\n",
       "      <td>0</td>\n",
       "    </tr>\n",
       "    <tr>\n",
       "      <th>680</th>\n",
       "      <td>747</td>\n",
       "      <td>AutoModerator</td>\n",
       "      <td>NaN</td>\n",
       "      <td>Your submission has been flagged for moderator...</td>\n",
       "      <td>[Your, submission, has, been, flagged, for, mo...</td>\n",
       "      <td>[submission, flag, moderator, review, patient,...</td>\n",
       "      <td>16</td>\n",
       "      <td>37</td>\n",
       "      <td>submission flag moderator review patient bot a...</td>\n",
       "      <td>0</td>\n",
       "    </tr>\n",
       "    <tr>\n",
       "      <th>682</th>\n",
       "      <td>752</td>\n",
       "      <td>AutoModerator</td>\n",
       "      <td>NaN</td>\n",
       "      <td>Your account is too new and has been autofilte...</td>\n",
       "      <td>[Your, account, is, too, new, and, has, been, ...</td>\n",
       "      <td>[account, new, autofiltere, build, reputation,...</td>\n",
       "      <td>33</td>\n",
       "      <td>73</td>\n",
       "      <td>account new autofiltere build reputation good ...</td>\n",
       "      <td>0</td>\n",
       "    </tr>\n",
       "    <tr>\n",
       "      <th>718</th>\n",
       "      <td>793</td>\n",
       "      <td>AutoModerator</td>\n",
       "      <td>NaN</td>\n",
       "      <td>Your account is too new and has been autofilte...</td>\n",
       "      <td>[Your, account, is, too, new, and, has, been, ...</td>\n",
       "      <td>[account, new, autofiltere, build, reputation,...</td>\n",
       "      <td>33</td>\n",
       "      <td>73</td>\n",
       "      <td>account new autofiltere build reputation good ...</td>\n",
       "      <td>0</td>\n",
       "    </tr>\n",
       "    <tr>\n",
       "      <th>783</th>\n",
       "      <td>864</td>\n",
       "      <td>AutoModerator</td>\n",
       "      <td>NaN</td>\n",
       "      <td>Your account is too new and has been autofilte...</td>\n",
       "      <td>[Your, account, is, too, new, and, has, been, ...</td>\n",
       "      <td>[account, new, autofiltere, build, reputation,...</td>\n",
       "      <td>33</td>\n",
       "      <td>73</td>\n",
       "      <td>account new autofiltere build reputation good ...</td>\n",
       "      <td>0</td>\n",
       "    </tr>\n",
       "    <tr>\n",
       "      <th>794</th>\n",
       "      <td>875</td>\n",
       "      <td>AutoModerator</td>\n",
       "      <td>NaN</td>\n",
       "      <td>Your account is too new and has been autofilte...</td>\n",
       "      <td>[Your, account, is, too, new, and, has, been, ...</td>\n",
       "      <td>[account, new, autofiltere, build, reputation,...</td>\n",
       "      <td>33</td>\n",
       "      <td>73</td>\n",
       "      <td>account new autofiltere build reputation good ...</td>\n",
       "      <td>0</td>\n",
       "    </tr>\n",
       "    <tr>\n",
       "      <th>869</th>\n",
       "      <td>959</td>\n",
       "      <td>ihearttwin</td>\n",
       "      <td>NaN</td>\n",
       "      <td>What are we having instead of affirmative action?</td>\n",
       "      <td>[What, are, we, having, instead, of, affirmati...</td>\n",
       "      <td>[have, instead, affirmative, action]</td>\n",
       "      <td>4</td>\n",
       "      <td>8</td>\n",
       "      <td>have instead affirmative action</td>\n",
       "      <td>1</td>\n",
       "    </tr>\n",
       "    <tr>\n",
       "      <th>871</th>\n",
       "      <td>961</td>\n",
       "      <td>AutoModerator</td>\n",
       "      <td>NaN</td>\n",
       "      <td>Your account is too new and has been autofilte...</td>\n",
       "      <td>[Your, account, is, too, new, and, has, been, ...</td>\n",
       "      <td>[account, new, autofiltere, build, reputation,...</td>\n",
       "      <td>24</td>\n",
       "      <td>59</td>\n",
       "      <td>account new autofiltere build reputation good ...</td>\n",
       "      <td>0</td>\n",
       "    </tr>\n",
       "    <tr>\n",
       "      <th>1305</th>\n",
       "      <td>1442</td>\n",
       "      <td>AutoModerator</td>\n",
       "      <td>NaN</td>\n",
       "      <td>Your account is too new and has been autofilte...</td>\n",
       "      <td>[Your, account, is, too, new, and, has, been, ...</td>\n",
       "      <td>[account, new, autofiltere, build, reputation,...</td>\n",
       "      <td>24</td>\n",
       "      <td>59</td>\n",
       "      <td>account new autofiltere build reputation good ...</td>\n",
       "      <td>0</td>\n",
       "    </tr>\n",
       "    <tr>\n",
       "      <th>1491</th>\n",
       "      <td>1636</td>\n",
       "      <td>AutoModerator</td>\n",
       "      <td>NaN</td>\n",
       "      <td>Your account is too new and has been autofilte...</td>\n",
       "      <td>[Your, account, is, too, new, and, has, been, ...</td>\n",
       "      <td>[account, new, autofiltere, build, reputation,...</td>\n",
       "      <td>24</td>\n",
       "      <td>59</td>\n",
       "      <td>account new autofiltere build reputation good ...</td>\n",
       "      <td>0</td>\n",
       "    </tr>\n",
       "    <tr>\n",
       "      <th>1595</th>\n",
       "      <td>1750</td>\n",
       "      <td>Dab00g</td>\n",
       "      <td>NaN</td>\n",
       "      <td>Affirmative action is helpful and hurtful</td>\n",
       "      <td>[Affirmative, action, is, helpful, and, hurtful]</td>\n",
       "      <td>[affirmative, action, helpful, hurtful]</td>\n",
       "      <td>4</td>\n",
       "      <td>6</td>\n",
       "      <td>affirmative action helpful hurtful</td>\n",
       "      <td>1</td>\n",
       "    </tr>\n",
       "    <tr>\n",
       "      <th>1602</th>\n",
       "      <td>1758</td>\n",
       "      <td>AutoModerator</td>\n",
       "      <td>NaN</td>\n",
       "      <td>Your account is too new and has been autofilte...</td>\n",
       "      <td>[Your, account, is, too, new, and, has, been, ...</td>\n",
       "      <td>[account, new, autofiltere, build, reputation,...</td>\n",
       "      <td>24</td>\n",
       "      <td>59</td>\n",
       "      <td>account new autofiltere build reputation good ...</td>\n",
       "      <td>0</td>\n",
       "    </tr>\n",
       "    <tr>\n",
       "      <th>1604</th>\n",
       "      <td>1760</td>\n",
       "      <td>HiBrucke6</td>\n",
       "      <td>NaN</td>\n",
       "      <td>https://www.employmentlawfirms.com/Affirmative...</td>\n",
       "      <td>[https://www.employmentlawfirms.com/Affirmativ...</td>\n",
       "      <td>[https://www.employmentlawfirms.com/affirmativ...</td>\n",
       "      <td>1</td>\n",
       "      <td>1</td>\n",
       "      <td>https://www.employmentlawfirms.com/affirmative...</td>\n",
       "      <td>1</td>\n",
       "    </tr>\n",
       "    <tr>\n",
       "      <th>1613</th>\n",
       "      <td>1770</td>\n",
       "      <td>bad-monkey</td>\n",
       "      <td>NaN</td>\n",
       "      <td>So affirmative action is only undesirable in e...</td>\n",
       "      <td>[So, affirmative, action, is, only, undesirabl...</td>\n",
       "      <td>[affirmative, action, undesirable, education, ...</td>\n",
       "      <td>5</td>\n",
       "      <td>13</td>\n",
       "      <td>affirmative action undesirable education benefit</td>\n",
       "      <td>1</td>\n",
       "    </tr>\n",
       "    <tr>\n",
       "      <th>1615</th>\n",
       "      <td>1772</td>\n",
       "      <td>AutoModerator</td>\n",
       "      <td>NaN</td>\n",
       "      <td>Your account is too new and has been autofilte...</td>\n",
       "      <td>[Your, account, is, too, new, and, has, been, ...</td>\n",
       "      <td>[account, new, autofiltere, build, reputation,...</td>\n",
       "      <td>24</td>\n",
       "      <td>59</td>\n",
       "      <td>account new autofiltere build reputation good ...</td>\n",
       "      <td>0</td>\n",
       "    </tr>\n",
       "    <tr>\n",
       "      <th>1716</th>\n",
       "      <td>1875</td>\n",
       "      <td>AutoModerator</td>\n",
       "      <td>NaN</td>\n",
       "      <td>Your account is too new and has been autofilte...</td>\n",
       "      <td>[Your, account, is, too, new, and, has, been, ...</td>\n",
       "      <td>[account, new, autofiltere, build, reputation,...</td>\n",
       "      <td>24</td>\n",
       "      <td>59</td>\n",
       "      <td>account new autofiltere build reputation good ...</td>\n",
       "      <td>0</td>\n",
       "    </tr>\n",
       "    <tr>\n",
       "      <th>1797</th>\n",
       "      <td>1956</td>\n",
       "      <td>waterim</td>\n",
       "      <td>NaN</td>\n",
       "      <td>What does affirmative action for minorities ha...</td>\n",
       "      <td>[What, does, affirmative, action, for, minorit...</td>\n",
       "      <td>[affirmative, action, minority, recognition, s...</td>\n",
       "      <td>6</td>\n",
       "      <td>15</td>\n",
       "      <td>affirmative action minority recognition sovere...</td>\n",
       "      <td>1</td>\n",
       "    </tr>\n",
       "    <tr>\n",
       "      <th>2016</th>\n",
       "      <td>2201</td>\n",
       "      <td>AutoModerator</td>\n",
       "      <td>NaN</td>\n",
       "      <td>Your account is too new and has been autofilte...</td>\n",
       "      <td>[Your, account, is, too, new, and, has, been, ...</td>\n",
       "      <td>[account, new, autofiltere, build, reputation,...</td>\n",
       "      <td>24</td>\n",
       "      <td>59</td>\n",
       "      <td>account new autofiltere build reputation good ...</td>\n",
       "      <td>0</td>\n",
       "    </tr>\n",
       "    <tr>\n",
       "      <th>2078</th>\n",
       "      <td>2272</td>\n",
       "      <td>PrivateMeme</td>\n",
       "      <td>NaN</td>\n",
       "      <td>Really shocked about how most of the comments ...</td>\n",
       "      <td>[Really, shocked, about, how, most, of, the, c...</td>\n",
       "      <td>[shock, comment, pro, affirmative, action]</td>\n",
       "      <td>5</td>\n",
       "      <td>13</td>\n",
       "      <td>shock comment pro affirmative action</td>\n",
       "      <td>1</td>\n",
       "    </tr>\n",
       "    <tr>\n",
       "      <th>2101</th>\n",
       "      <td>2296</td>\n",
       "      <td>AutoModerator</td>\n",
       "      <td>NaN</td>\n",
       "      <td>Your account is too new and has been autofilte...</td>\n",
       "      <td>[Your, account, is, too, new, and, has, been, ...</td>\n",
       "      <td>[account, new, autofiltere, build, reputation,...</td>\n",
       "      <td>24</td>\n",
       "      <td>59</td>\n",
       "      <td>account new autofiltere build reputation good ...</td>\n",
       "      <td>0</td>\n",
       "    </tr>\n",
       "    <tr>\n",
       "      <th>2108</th>\n",
       "      <td>2305</td>\n",
       "      <td>AutoModerator</td>\n",
       "      <td>NaN</td>\n",
       "      <td>Your account is too new and has been autofilte...</td>\n",
       "      <td>[Your, account, is, too, new, and, has, been, ...</td>\n",
       "      <td>[account, new, autofiltere, build, reputation,...</td>\n",
       "      <td>24</td>\n",
       "      <td>59</td>\n",
       "      <td>account new autofiltere build reputation good ...</td>\n",
       "      <td>0</td>\n",
       "    </tr>\n",
       "    <tr>\n",
       "      <th>2109</th>\n",
       "      <td>2306</td>\n",
       "      <td>AutoModerator</td>\n",
       "      <td>NaN</td>\n",
       "      <td>Your account is too new and has been autofilte...</td>\n",
       "      <td>[Your, account, is, too, new, and, has, been, ...</td>\n",
       "      <td>[account, new, autofiltere, build, reputation,...</td>\n",
       "      <td>24</td>\n",
       "      <td>59</td>\n",
       "      <td>account new autofiltere build reputation good ...</td>\n",
       "      <td>0</td>\n",
       "    </tr>\n",
       "    <tr>\n",
       "      <th>2136</th>\n",
       "      <td>2334</td>\n",
       "      <td>AutoModerator</td>\n",
       "      <td>NaN</td>\n",
       "      <td>Your account is too new and has been autofilte...</td>\n",
       "      <td>[Your, account, is, too, new, and, has, been, ...</td>\n",
       "      <td>[account, new, autofiltere, build, reputation,...</td>\n",
       "      <td>24</td>\n",
       "      <td>59</td>\n",
       "      <td>account new autofiltere build reputation good ...</td>\n",
       "      <td>0</td>\n",
       "    </tr>\n",
       "    <tr>\n",
       "      <th>2211</th>\n",
       "      <td>2417</td>\n",
       "      <td>unkle</td>\n",
       "      <td>RIP KATHNIEL</td>\n",
       "      <td>Please repost to the Affirmative Action Megath...</td>\n",
       "      <td>[Please, repost, to, the, Affirmative, Action,...</td>\n",
       "      <td>[repost, affirmative, action, megathread, thank]</td>\n",
       "      <td>5</td>\n",
       "      <td>8</td>\n",
       "      <td>repost affirmative action megathread thank</td>\n",
       "      <td>1</td>\n",
       "    </tr>\n",
       "    <tr>\n",
       "      <th>2232</th>\n",
       "      <td>2439</td>\n",
       "      <td>dasheea</td>\n",
       "      <td>NaN</td>\n",
       "      <td>This is the complicated relationship between m...</td>\n",
       "      <td>[This, is, the, complicated, relationship, bet...</td>\n",
       "      <td>[complicated, relationship, mixed, race, peopl...</td>\n",
       "      <td>11</td>\n",
       "      <td>18</td>\n",
       "      <td>complicated relationship mixed race people aff...</td>\n",
       "      <td>1</td>\n",
       "    </tr>\n",
       "    <tr>\n",
       "      <th>2248</th>\n",
       "      <td>2459</td>\n",
       "      <td>AutoModerator</td>\n",
       "      <td>NaN</td>\n",
       "      <td>Your account is too new and has been autofilte...</td>\n",
       "      <td>[Your, account, is, too, new, and, has, been, ...</td>\n",
       "      <td>[account, new, autofiltere, build, reputation,...</td>\n",
       "      <td>24</td>\n",
       "      <td>59</td>\n",
       "      <td>account new autofiltere build reputation good ...</td>\n",
       "      <td>0</td>\n",
       "    </tr>\n",
       "    <tr>\n",
       "      <th>2411</th>\n",
       "      <td>2627</td>\n",
       "      <td>AutoModerator</td>\n",
       "      <td>NaN</td>\n",
       "      <td>Your account is too new and has been autofilte...</td>\n",
       "      <td>[Your, account, is, too, new, and, has, been, ...</td>\n",
       "      <td>[account, new, autofiltere, build, reputation,...</td>\n",
       "      <td>24</td>\n",
       "      <td>59</td>\n",
       "      <td>account new autofiltere build reputation good ...</td>\n",
       "      <td>0</td>\n",
       "    </tr>\n",
       "    <tr>\n",
       "      <th>2431</th>\n",
       "      <td>2649</td>\n",
       "      <td>Brooklyncake</td>\n",
       "      <td>NaN</td>\n",
       "      <td>You are WRONG, majority of Asian Americans **S...</td>\n",
       "      <td>[You, are, WRONG, majority, of, Asian, America...</td>\n",
       "      <td>[wrong, majority, asian, americans, support, a...</td>\n",
       "      <td>25</td>\n",
       "      <td>36</td>\n",
       "      <td>wrong majority asian americans support affirma...</td>\n",
       "      <td>1</td>\n",
       "    </tr>\n",
       "    <tr>\n",
       "      <th>2497</th>\n",
       "      <td>2725</td>\n",
       "      <td>discoverc</td>\n",
       "      <td>NaN</td>\n",
       "      <td>Texas readopted affirmative action in 2005</td>\n",
       "      <td>[Texas, readopted, affirmative, action, in, 2005]</td>\n",
       "      <td>[texas, readopte, affirmative, action]</td>\n",
       "      <td>4</td>\n",
       "      <td>6</td>\n",
       "      <td>texas readopte affirmative action</td>\n",
       "      <td>1</td>\n",
       "    </tr>\n",
       "    <tr>\n",
       "      <th>2677</th>\n",
       "      <td>2925</td>\n",
       "      <td>BalboaBaggins</td>\n",
       "      <td>NaN</td>\n",
       "      <td>&gt;That policy isn't affirmative action.\\n\\nYes,...</td>\n",
       "      <td>[&gt;, That, policy, is, n't, affirmative, action...</td>\n",
       "      <td>[&gt;, policy, affirmative, action, yes, exactly,...</td>\n",
       "      <td>20</td>\n",
       "      <td>34</td>\n",
       "      <td>&gt; policy affirmative action yes exactly lack a...</td>\n",
       "      <td>1</td>\n",
       "    </tr>\n",
       "    <tr>\n",
       "      <th>2735</th>\n",
       "      <td>2992</td>\n",
       "      <td>shanshani</td>\n",
       "      <td>NaN</td>\n",
       "      <td>A lot of Han Chinese complain about affirmativ...</td>\n",
       "      <td>[A, lot, of, Han, Chinese, complain, about, af...</td>\n",
       "      <td>[lot, han, chinese, complain, affirmative, act...</td>\n",
       "      <td>22</td>\n",
       "      <td>41</td>\n",
       "      <td>lot han chinese complain affirmative action et...</td>\n",
       "      <td>1</td>\n",
       "    </tr>\n",
       "    <tr>\n",
       "      <th>2771</th>\n",
       "      <td>3032</td>\n",
       "      <td>AutoModerator</td>\n",
       "      <td>NaN</td>\n",
       "      <td>Your account is too new and has been autofilte...</td>\n",
       "      <td>[Your, account, is, too, new, and, has, been, ...</td>\n",
       "      <td>[account, new, autofiltere, build, reputation,...</td>\n",
       "      <td>24</td>\n",
       "      <td>59</td>\n",
       "      <td>account new autofiltere build reputation good ...</td>\n",
       "      <td>0</td>\n",
       "    </tr>\n",
       "    <tr>\n",
       "      <th>2791</th>\n",
       "      <td>3061</td>\n",
       "      <td>AutoModerator</td>\n",
       "      <td>NaN</td>\n",
       "      <td>Your account is too new and has been autofilte...</td>\n",
       "      <td>[Your, account, is, too, new, and, has, been, ...</td>\n",
       "      <td>[account, new, autofiltere, build, reputation,...</td>\n",
       "      <td>24</td>\n",
       "      <td>59</td>\n",
       "      <td>account new autofiltere build reputation good ...</td>\n",
       "      <td>0</td>\n",
       "    </tr>\n",
       "    <tr>\n",
       "      <th>2800</th>\n",
       "      <td>3077</td>\n",
       "      <td>AutoModerator</td>\n",
       "      <td>NaN</td>\n",
       "      <td>Your account is too new and has been autofilte...</td>\n",
       "      <td>[Your, account, is, too, new, and, has, been, ...</td>\n",
       "      <td>[account, new, autofiltere, build, reputation,...</td>\n",
       "      <td>24</td>\n",
       "      <td>59</td>\n",
       "      <td>account new autofiltere build reputation good ...</td>\n",
       "      <td>0</td>\n",
       "    </tr>\n",
       "    <tr>\n",
       "      <th>2801</th>\n",
       "      <td>3078</td>\n",
       "      <td>AutoModerator</td>\n",
       "      <td>NaN</td>\n",
       "      <td>Your account is too new and has been autofilte...</td>\n",
       "      <td>[Your, account, is, too, new, and, has, been, ...</td>\n",
       "      <td>[account, new, autofiltere, build, reputation,...</td>\n",
       "      <td>24</td>\n",
       "      <td>59</td>\n",
       "      <td>account new autofiltere build reputation good ...</td>\n",
       "      <td>0</td>\n",
       "    </tr>\n",
       "    <tr>\n",
       "      <th>2841</th>\n",
       "      <td>3124</td>\n",
       "      <td>AutoModerator</td>\n",
       "      <td>NaN</td>\n",
       "      <td>Your account is too new and has been autofilte...</td>\n",
       "      <td>[Your, account, is, too, new, and, has, been, ...</td>\n",
       "      <td>[account, new, autofiltere, build, reputation,...</td>\n",
       "      <td>24</td>\n",
       "      <td>59</td>\n",
       "      <td>account new autofiltere build reputation good ...</td>\n",
       "      <td>0</td>\n",
       "    </tr>\n",
       "    <tr>\n",
       "      <th>3000</th>\n",
       "      <td>3294</td>\n",
       "      <td>Jazzlike_Ad_9118</td>\n",
       "      <td>NaN</td>\n",
       "      <td>&gt;  I think affirmative action is BS, but I'm w...</td>\n",
       "      <td>[&gt;, I, think, affirmative, action, is, BS, but...</td>\n",
       "      <td>[&gt;, think, affirmative, action, bs, m, willing...</td>\n",
       "      <td>29</td>\n",
       "      <td>65</td>\n",
       "      <td>&gt; think affirmative action bs m willing overlo...</td>\n",
       "      <td>1</td>\n",
       "    </tr>\n",
       "    <tr>\n",
       "      <th>3030</th>\n",
       "      <td>3327</td>\n",
       "      <td>defaultabs</td>\n",
       "      <td>NaN</td>\n",
       "      <td>Affirmative Action is equity not equality.</td>\n",
       "      <td>[Affirmative, Action, is, equity, not, equality]</td>\n",
       "      <td>[affirmative, action, equity, equality]</td>\n",
       "      <td>4</td>\n",
       "      <td>6</td>\n",
       "      <td>affirmative action equity equality</td>\n",
       "      <td>1</td>\n",
       "    </tr>\n",
       "    <tr>\n",
       "      <th>3135</th>\n",
       "      <td>3437</td>\n",
       "      <td>TwinkiesForAmerica</td>\n",
       "      <td>NaN</td>\n",
       "      <td>I empathize with racial affirmative action but...</td>\n",
       "      <td>[I, empathize, with, racial, affirmative, acti...</td>\n",
       "      <td>[empathize, racial, affirmative, action, feel,...</td>\n",
       "      <td>10</td>\n",
       "      <td>17</td>\n",
       "      <td>empathize racial affirmative action feel socio...</td>\n",
       "      <td>1</td>\n",
       "    </tr>\n",
       "    <tr>\n",
       "      <th>3138</th>\n",
       "      <td>3441</td>\n",
       "      <td>speakertable</td>\n",
       "      <td>NaN</td>\n",
       "      <td>Racial affirmative action is entirely bullshit...</td>\n",
       "      <td>[Racial, affirmative, action, is, entirely, bu...</td>\n",
       "      <td>[racial, affirmative, action, entirely, bullsh...</td>\n",
       "      <td>11</td>\n",
       "      <td>16</td>\n",
       "      <td>racial affirmative action entirely bullshit so...</td>\n",
       "      <td>1</td>\n",
       "    </tr>\n",
       "    <tr>\n",
       "      <th>3213</th>\n",
       "      <td>3518</td>\n",
       "      <td>AutoModerator</td>\n",
       "      <td>NaN</td>\n",
       "      <td>Your account is too new and has been autofilte...</td>\n",
       "      <td>[Your, account, is, too, new, and, has, been, ...</td>\n",
       "      <td>[account, new, autofiltere, build, reputation,...</td>\n",
       "      <td>24</td>\n",
       "      <td>59</td>\n",
       "      <td>account new autofiltere build reputation good ...</td>\n",
       "      <td>0</td>\n",
       "    </tr>\n",
       "  </tbody>\n",
       "</table>\n",
       "</div>"
      ],
      "text/plain": [
       "      Unnamed: 0            username    flair_text  \\\n",
       "52            56             LEJ5512           NaN   \n",
       "368          401       AutoModerator           NaN   \n",
       "369          402       AutoModerator           NaN   \n",
       "377          410       AutoModerator           NaN   \n",
       "378          411       AutoModerator           NaN   \n",
       "382          416       AutoModerator           NaN   \n",
       "383          417       AutoModerator           NaN   \n",
       "395          429       AutoModerator           NaN   \n",
       "496          544       AutoModerator           NaN   \n",
       "514          563       AutoModerator           NaN   \n",
       "519          568       AutoModerator           NaN   \n",
       "680          747       AutoModerator           NaN   \n",
       "682          752       AutoModerator           NaN   \n",
       "718          793       AutoModerator           NaN   \n",
       "783          864       AutoModerator           NaN   \n",
       "794          875       AutoModerator           NaN   \n",
       "869          959          ihearttwin           NaN   \n",
       "871          961       AutoModerator           NaN   \n",
       "1305        1442       AutoModerator           NaN   \n",
       "1491        1636       AutoModerator           NaN   \n",
       "1595        1750              Dab00g           NaN   \n",
       "1602        1758       AutoModerator           NaN   \n",
       "1604        1760           HiBrucke6           NaN   \n",
       "1613        1770          bad-monkey           NaN   \n",
       "1615        1772       AutoModerator           NaN   \n",
       "1716        1875       AutoModerator           NaN   \n",
       "1797        1956             waterim           NaN   \n",
       "2016        2201       AutoModerator           NaN   \n",
       "2078        2272         PrivateMeme           NaN   \n",
       "2101        2296       AutoModerator           NaN   \n",
       "2108        2305       AutoModerator           NaN   \n",
       "2109        2306       AutoModerator           NaN   \n",
       "2136        2334       AutoModerator           NaN   \n",
       "2211        2417               unkle  RIP KATHNIEL   \n",
       "2232        2439             dasheea           NaN   \n",
       "2248        2459       AutoModerator           NaN   \n",
       "2411        2627       AutoModerator           NaN   \n",
       "2431        2649        Brooklyncake           NaN   \n",
       "2497        2725           discoverc           NaN   \n",
       "2677        2925       BalboaBaggins           NaN   \n",
       "2735        2992           shanshani           NaN   \n",
       "2771        3032       AutoModerator           NaN   \n",
       "2791        3061       AutoModerator           NaN   \n",
       "2800        3077       AutoModerator           NaN   \n",
       "2801        3078       AutoModerator           NaN   \n",
       "2841        3124       AutoModerator           NaN   \n",
       "3000        3294    Jazzlike_Ad_9118           NaN   \n",
       "3030        3327          defaultabs           NaN   \n",
       "3135        3437  TwinkiesForAmerica           NaN   \n",
       "3138        3441        speakertable           NaN   \n",
       "3213        3518       AutoModerator           NaN   \n",
       "\n",
       "                                                   body  \\\n",
       "52    (posted this in another related thread)\\n\\nAls...   \n",
       "368   Your account is too new and has been autofilte...   \n",
       "369   Your account is too new and has been autofilte...   \n",
       "377   Your account is too new and has been autofilte...   \n",
       "378   Your account is too new and has been autofilte...   \n",
       "382   Your account is too new and has been autofilte...   \n",
       "383   Your account is too new and has been autofilte...   \n",
       "395   Your account is too new and has been autofilte...   \n",
       "496   Your account is too new and has been autofilte...   \n",
       "514   Hello, your comment has been removed for inclu...   \n",
       "519   Your submission has been flagged for moderator...   \n",
       "680   Your submission has been flagged for moderator...   \n",
       "682   Your account is too new and has been autofilte...   \n",
       "718   Your account is too new and has been autofilte...   \n",
       "783   Your account is too new and has been autofilte...   \n",
       "794   Your account is too new and has been autofilte...   \n",
       "869   What are we having instead of affirmative action?   \n",
       "871   Your account is too new and has been autofilte...   \n",
       "1305  Your account is too new and has been autofilte...   \n",
       "1491  Your account is too new and has been autofilte...   \n",
       "1595          Affirmative action is helpful and hurtful   \n",
       "1602  Your account is too new and has been autofilte...   \n",
       "1604  https://www.employmentlawfirms.com/Affirmative...   \n",
       "1613  So affirmative action is only undesirable in e...   \n",
       "1615  Your account is too new and has been autofilte...   \n",
       "1716  Your account is too new and has been autofilte...   \n",
       "1797  What does affirmative action for minorities ha...   \n",
       "2016  Your account is too new and has been autofilte...   \n",
       "2078  Really shocked about how most of the comments ...   \n",
       "2101  Your account is too new and has been autofilte...   \n",
       "2108  Your account is too new and has been autofilte...   \n",
       "2109  Your account is too new and has been autofilte...   \n",
       "2136  Your account is too new and has been autofilte...   \n",
       "2211  Please repost to the Affirmative Action Megath...   \n",
       "2232  This is the complicated relationship between m...   \n",
       "2248  Your account is too new and has been autofilte...   \n",
       "2411  Your account is too new and has been autofilte...   \n",
       "2431  You are WRONG, majority of Asian Americans **S...   \n",
       "2497         Texas readopted affirmative action in 2005   \n",
       "2677  >That policy isn't affirmative action.\\n\\nYes,...   \n",
       "2735  A lot of Han Chinese complain about affirmativ...   \n",
       "2771  Your account is too new and has been autofilte...   \n",
       "2791  Your account is too new and has been autofilte...   \n",
       "2800  Your account is too new and has been autofilte...   \n",
       "2801  Your account is too new and has been autofilte...   \n",
       "2841  Your account is too new and has been autofilte...   \n",
       "3000  >  I think affirmative action is BS, but I'm w...   \n",
       "3030         Affirmative Action is equity not equality.   \n",
       "3135  I empathize with racial affirmative action but...   \n",
       "3138  Racial affirmative action is entirely bullshit...   \n",
       "3213  Your account is too new and has been autofilte...   \n",
       "\n",
       "                                             tokens_new  \\\n",
       "52    [posted, this, in, another, related, thread, A...   \n",
       "368   [Your, account, is, too, new, and, has, been, ...   \n",
       "369   [Your, account, is, too, new, and, has, been, ...   \n",
       "377   [Your, account, is, too, new, and, has, been, ...   \n",
       "378   [Your, account, is, too, new, and, has, been, ...   \n",
       "382   [Your, account, is, too, new, and, has, been, ...   \n",
       "383   [Your, account, is, too, new, and, has, been, ...   \n",
       "395   [Your, account, is, too, new, and, has, been, ...   \n",
       "496   [Your, account, is, too, new, and, has, been, ...   \n",
       "514   [Hello, your, comment, has, been, removed, for...   \n",
       "519   [Your, submission, has, been, flagged, for, mo...   \n",
       "680   [Your, submission, has, been, flagged, for, mo...   \n",
       "682   [Your, account, is, too, new, and, has, been, ...   \n",
       "718   [Your, account, is, too, new, and, has, been, ...   \n",
       "783   [Your, account, is, too, new, and, has, been, ...   \n",
       "794   [Your, account, is, too, new, and, has, been, ...   \n",
       "869   [What, are, we, having, instead, of, affirmati...   \n",
       "871   [Your, account, is, too, new, and, has, been, ...   \n",
       "1305  [Your, account, is, too, new, and, has, been, ...   \n",
       "1491  [Your, account, is, too, new, and, has, been, ...   \n",
       "1595   [Affirmative, action, is, helpful, and, hurtful]   \n",
       "1602  [Your, account, is, too, new, and, has, been, ...   \n",
       "1604  [https://www.employmentlawfirms.com/Affirmativ...   \n",
       "1613  [So, affirmative, action, is, only, undesirabl...   \n",
       "1615  [Your, account, is, too, new, and, has, been, ...   \n",
       "1716  [Your, account, is, too, new, and, has, been, ...   \n",
       "1797  [What, does, affirmative, action, for, minorit...   \n",
       "2016  [Your, account, is, too, new, and, has, been, ...   \n",
       "2078  [Really, shocked, about, how, most, of, the, c...   \n",
       "2101  [Your, account, is, too, new, and, has, been, ...   \n",
       "2108  [Your, account, is, too, new, and, has, been, ...   \n",
       "2109  [Your, account, is, too, new, and, has, been, ...   \n",
       "2136  [Your, account, is, too, new, and, has, been, ...   \n",
       "2211  [Please, repost, to, the, Affirmative, Action,...   \n",
       "2232  [This, is, the, complicated, relationship, bet...   \n",
       "2248  [Your, account, is, too, new, and, has, been, ...   \n",
       "2411  [Your, account, is, too, new, and, has, been, ...   \n",
       "2431  [You, are, WRONG, majority, of, Asian, America...   \n",
       "2497  [Texas, readopted, affirmative, action, in, 2005]   \n",
       "2677  [>, That, policy, is, n't, affirmative, action...   \n",
       "2735  [A, lot, of, Han, Chinese, complain, about, af...   \n",
       "2771  [Your, account, is, too, new, and, has, been, ...   \n",
       "2791  [Your, account, is, too, new, and, has, been, ...   \n",
       "2800  [Your, account, is, too, new, and, has, been, ...   \n",
       "2801  [Your, account, is, too, new, and, has, been, ...   \n",
       "2841  [Your, account, is, too, new, and, has, been, ...   \n",
       "3000  [>, I, think, affirmative, action, is, BS, but...   \n",
       "3030   [Affirmative, Action, is, equity, not, equality]   \n",
       "3135  [I, empathize, with, racial, affirmative, acti...   \n",
       "3138  [Racial, affirmative, action, is, entirely, bu...   \n",
       "3213  [Your, account, is, too, new, and, has, been, ...   \n",
       "\n",
       "                                      normalized_tokens  \\\n",
       "52    [post, related, thread, worth, listen, recent,...   \n",
       "368   [account, new, autofiltere, build, reputation,...   \n",
       "369   [account, new, autofiltere, build, reputation,...   \n",
       "377   [account, new, autofiltere, build, reputation,...   \n",
       "378   [account, new, autofiltere, build, reputation,...   \n",
       "382   [account, new, autofiltere, build, reputation,...   \n",
       "383   [account, new, autofiltere, build, reputation,...   \n",
       "395   [account, new, autofiltere, build, reputation,...   \n",
       "496   [account, new, autofiltere, build, reputation,...   \n",
       "514   [hello, comment, remove, include, reddit, link...   \n",
       "519   [submission, flag, moderator, review, patient,...   \n",
       "680   [submission, flag, moderator, review, patient,...   \n",
       "682   [account, new, autofiltere, build, reputation,...   \n",
       "718   [account, new, autofiltere, build, reputation,...   \n",
       "783   [account, new, autofiltere, build, reputation,...   \n",
       "794   [account, new, autofiltere, build, reputation,...   \n",
       "869                [have, instead, affirmative, action]   \n",
       "871   [account, new, autofiltere, build, reputation,...   \n",
       "1305  [account, new, autofiltere, build, reputation,...   \n",
       "1491  [account, new, autofiltere, build, reputation,...   \n",
       "1595            [affirmative, action, helpful, hurtful]   \n",
       "1602  [account, new, autofiltere, build, reputation,...   \n",
       "1604  [https://www.employmentlawfirms.com/affirmativ...   \n",
       "1613  [affirmative, action, undesirable, education, ...   \n",
       "1615  [account, new, autofiltere, build, reputation,...   \n",
       "1716  [account, new, autofiltere, build, reputation,...   \n",
       "1797  [affirmative, action, minority, recognition, s...   \n",
       "2016  [account, new, autofiltere, build, reputation,...   \n",
       "2078         [shock, comment, pro, affirmative, action]   \n",
       "2101  [account, new, autofiltere, build, reputation,...   \n",
       "2108  [account, new, autofiltere, build, reputation,...   \n",
       "2109  [account, new, autofiltere, build, reputation,...   \n",
       "2136  [account, new, autofiltere, build, reputation,...   \n",
       "2211   [repost, affirmative, action, megathread, thank]   \n",
       "2232  [complicated, relationship, mixed, race, peopl...   \n",
       "2248  [account, new, autofiltere, build, reputation,...   \n",
       "2411  [account, new, autofiltere, build, reputation,...   \n",
       "2431  [wrong, majority, asian, americans, support, a...   \n",
       "2497             [texas, readopte, affirmative, action]   \n",
       "2677  [>, policy, affirmative, action, yes, exactly,...   \n",
       "2735  [lot, han, chinese, complain, affirmative, act...   \n",
       "2771  [account, new, autofiltere, build, reputation,...   \n",
       "2791  [account, new, autofiltere, build, reputation,...   \n",
       "2800  [account, new, autofiltere, build, reputation,...   \n",
       "2801  [account, new, autofiltere, build, reputation,...   \n",
       "2841  [account, new, autofiltere, build, reputation,...   \n",
       "3000  [>, think, affirmative, action, bs, m, willing...   \n",
       "3030            [affirmative, action, equity, equality]   \n",
       "3135  [empathize, racial, affirmative, action, feel,...   \n",
       "3138  [racial, affirmative, action, entirely, bullsh...   \n",
       "3213  [account, new, autofiltere, build, reputation,...   \n",
       "\n",
       "      normalized_tokens_count  word_count  \\\n",
       "52                         14          29   \n",
       "368                        24          59   \n",
       "369                        24          59   \n",
       "377                        24          59   \n",
       "378                        24          59   \n",
       "382                        24          59   \n",
       "383                        24          59   \n",
       "395                        24          59   \n",
       "496                        33          73   \n",
       "514                        26          52   \n",
       "519                        16          37   \n",
       "680                        16          37   \n",
       "682                        33          73   \n",
       "718                        33          73   \n",
       "783                        33          73   \n",
       "794                        33          73   \n",
       "869                         4           8   \n",
       "871                        24          59   \n",
       "1305                       24          59   \n",
       "1491                       24          59   \n",
       "1595                        4           6   \n",
       "1602                       24          59   \n",
       "1604                        1           1   \n",
       "1613                        5          13   \n",
       "1615                       24          59   \n",
       "1716                       24          59   \n",
       "1797                        6          15   \n",
       "2016                       24          59   \n",
       "2078                        5          13   \n",
       "2101                       24          59   \n",
       "2108                       24          59   \n",
       "2109                       24          59   \n",
       "2136                       24          59   \n",
       "2211                        5           8   \n",
       "2232                       11          18   \n",
       "2248                       24          59   \n",
       "2411                       24          59   \n",
       "2431                       25          36   \n",
       "2497                        4           6   \n",
       "2677                       20          34   \n",
       "2735                       22          41   \n",
       "2771                       24          59   \n",
       "2791                       24          59   \n",
       "2800                       24          59   \n",
       "2801                       24          59   \n",
       "2841                       24          59   \n",
       "3000                       29          65   \n",
       "3030                        4           6   \n",
       "3135                       10          17   \n",
       "3138                       11          16   \n",
       "3213                       24          59   \n",
       "\n",
       "                                  normalized_tokens_str  kmeans_predictions  \n",
       "52    post related thread worth listen recent throug...                   1  \n",
       "368   account new autofiltere build reputation good ...                   0  \n",
       "369   account new autofiltere build reputation good ...                   0  \n",
       "377   account new autofiltere build reputation good ...                   0  \n",
       "378   account new autofiltere build reputation good ...                   0  \n",
       "382   account new autofiltere build reputation good ...                   0  \n",
       "383   account new autofiltere build reputation good ...                   0  \n",
       "395   account new autofiltere build reputation good ...                   0  \n",
       "496   account new autofiltere build reputation good ...                   0  \n",
       "514   hello comment remove include reddit link link ...                   0  \n",
       "519   submission flag moderator review patient bot a...                   0  \n",
       "680   submission flag moderator review patient bot a...                   0  \n",
       "682   account new autofiltere build reputation good ...                   0  \n",
       "718   account new autofiltere build reputation good ...                   0  \n",
       "783   account new autofiltere build reputation good ...                   0  \n",
       "794   account new autofiltere build reputation good ...                   0  \n",
       "869                     have instead affirmative action                   1  \n",
       "871   account new autofiltere build reputation good ...                   0  \n",
       "1305  account new autofiltere build reputation good ...                   0  \n",
       "1491  account new autofiltere build reputation good ...                   0  \n",
       "1595                 affirmative action helpful hurtful                   1  \n",
       "1602  account new autofiltere build reputation good ...                   0  \n",
       "1604  https://www.employmentlawfirms.com/affirmative...                   1  \n",
       "1613   affirmative action undesirable education benefit                   1  \n",
       "1615  account new autofiltere build reputation good ...                   0  \n",
       "1716  account new autofiltere build reputation good ...                   0  \n",
       "1797  affirmative action minority recognition sovere...                   1  \n",
       "2016  account new autofiltere build reputation good ...                   0  \n",
       "2078               shock comment pro affirmative action                   1  \n",
       "2101  account new autofiltere build reputation good ...                   0  \n",
       "2108  account new autofiltere build reputation good ...                   0  \n",
       "2109  account new autofiltere build reputation good ...                   0  \n",
       "2136  account new autofiltere build reputation good ...                   0  \n",
       "2211         repost affirmative action megathread thank                   1  \n",
       "2232  complicated relationship mixed race people aff...                   1  \n",
       "2248  account new autofiltere build reputation good ...                   0  \n",
       "2411  account new autofiltere build reputation good ...                   0  \n",
       "2431  wrong majority asian americans support affirma...                   1  \n",
       "2497                  texas readopte affirmative action                   1  \n",
       "2677  > policy affirmative action yes exactly lack a...                   1  \n",
       "2735  lot han chinese complain affirmative action et...                   1  \n",
       "2771  account new autofiltere build reputation good ...                   0  \n",
       "2791  account new autofiltere build reputation good ...                   0  \n",
       "2800  account new autofiltere build reputation good ...                   0  \n",
       "2801  account new autofiltere build reputation good ...                   0  \n",
       "2841  account new autofiltere build reputation good ...                   0  \n",
       "3000  > think affirmative action bs m willing overlo...                   1  \n",
       "3030                 affirmative action equity equality                   1  \n",
       "3135  empathize racial affirmative action feel socio...                   1  \n",
       "3138  racial affirmative action entirely bullshit so...                   1  \n",
       "3213  account new autofiltere build reputation good ...                   0  "
      ]
     },
     "execution_count": 105,
     "metadata": {},
     "output_type": "execute_result"
    }
   ],
   "source": [
    "# look at points where PC2 is close to 1\n",
    "pc2_outliers = np.where(reduced_data[:,1]>=0.3)\n",
    "print(pc2_outliers)\n",
    "\n",
    "comments_df.iloc[pc2_outliers]"
   ]
  },
  {
   "cell_type": "markdown",
   "metadata": {},
   "source": [
    "From above, we can see that the AutoModerator has autofiltered new accounts. Remove rows that have been filtered by the AutoModerator in the preprocessing. (DONE)"
   ]
  },
  {
   "cell_type": "code",
   "execution_count": null,
   "metadata": {},
   "outputs": [],
   "source": []
  }
 ],
 "metadata": {
  "kernelspec": {
   "display_name": "Python 3.7.6 ('base')",
   "language": "python",
   "name": "python3"
  },
  "language_info": {
   "codemirror_mode": {
    "name": "ipython",
    "version": 3
   },
   "file_extension": ".py",
   "mimetype": "text/x-python",
   "name": "python",
   "nbconvert_exporter": "python",
   "pygments_lexer": "ipython3",
   "version": "3.7.6"
  },
  "orig_nbformat": 4,
  "vscode": {
   "interpreter": {
    "hash": "4d9defa72c2715dab9f7f172572cd30a1ab1a2083462d32ef96aadb7c6e0c73b"
   }
  }
 },
 "nbformat": 4,
 "nbformat_minor": 2
}
